{
 "cells": [
  {
   "cell_type": "markdown",
   "id": "mounted-lemon",
   "metadata": {},
   "source": [
    "## `vector2d_v3.py`"
   ]
  },
  {
   "cell_type": "code",
   "execution_count": 43,
   "id": "increasing-detective",
   "metadata": {},
   "outputs": [],
   "source": [
    "from array import array\n",
    "import math\n",
    "\n",
    "class Vector2D:\n",
    "    typecode = \"d\"\n",
    "    \n",
    "    def __init__(self, x, y):\n",
    "        self.__x = float(x)\n",
    "        self.__y = float(y)\n",
    "        \n",
    "    @property\n",
    "    def x(self):\n",
    "        return self.__x\n",
    "    \n",
    "    @property\n",
    "    def y(self):\n",
    "        return self.__y\n",
    "    \n",
    "    def __iter__(self):\n",
    "        return (i for i in (self.x, self.y))\n",
    "    \n",
    "    def __repr__(self):\n",
    "        cls_name = type(self).__name__\n",
    "        return \"{}({!r}, {!r})\".format(cls_name, *self)\n",
    "    \n",
    "    def __str__(self):\n",
    "        return str(tuple(self))\n",
    "    \n",
    "    def __bytes__(self):\n",
    "        return (bytes([ord(self.typecode)])\n",
    "               + bytes(array(self.typecode, self)))\n",
    "    \n",
    "    def __eq__(self, other):\n",
    "        return tuple(self) == tuple(other)\n",
    "    \n",
    "    def __hash__(self):\n",
    "        return hash(self.x) ^ hash(self.y)\n",
    "    \n",
    "    def __abs__(self):\n",
    "        return math.hypot(self.x, self.y)\n",
    "    \n",
    "    def __bool__(self):\n",
    "        return bool(abs(self))\n",
    "    \n",
    "    def angle(self):\n",
    "        return math.atan2(self.y, self.x)\n",
    "    \n",
    "    def __format__(self, fmt_spec=\"\"):\n",
    "        if fmt_spec.endswith(\"p\"):\n",
    "            ## means the fmt_spec is a polar_coordinates type\n",
    "            fmt_spec = fmt_spec[:-1]\n",
    "            coords = (abs(self), self.angle())\n",
    "            outer_fmt = \"<{}, {}>\"\n",
    "        else:\n",
    "            coords = self\n",
    "            outer_fmt = \"({}, {})\"\n",
    "        components = (format(c, fmt_spec) for c in coords)\n",
    "        return outer_fmt.format(*components)\n",
    "    \n",
    "    @classmethod\n",
    "    def frombytes(cls, octets):\n",
    "        typecode = chr(octets[0])\n",
    "        memv = memoryview(octets[1:]).cast(typecode)\n",
    "        return cls(*memv)\n",
    "        "
   ]
  },
  {
   "cell_type": "markdown",
   "id": "minimal-samba",
   "metadata": {},
   "source": [
    "### test cases for `Vector2D()` class"
   ]
  },
  {
   "cell_type": "code",
   "execution_count": 44,
   "id": "tribal-oakland",
   "metadata": {},
   "outputs": [],
   "source": [
    "v1 = Vector2D(3, 4)"
   ]
  },
  {
   "cell_type": "code",
   "execution_count": 45,
   "id": "sensitive-queue",
   "metadata": {},
   "outputs": [
    {
     "name": "stdout",
     "output_type": "stream",
     "text": [
      "3.0 4.0\n"
     ]
    }
   ],
   "source": [
    "print(v1.x, v1.y)"
   ]
  },
  {
   "cell_type": "code",
   "execution_count": 46,
   "id": "vocational-circus",
   "metadata": {},
   "outputs": [],
   "source": [
    "x, y = v1"
   ]
  },
  {
   "cell_type": "code",
   "execution_count": 47,
   "id": "dressed-pantyhose",
   "metadata": {},
   "outputs": [
    {
     "data": {
      "text/plain": [
       "(3.0, 4.0)"
      ]
     },
     "execution_count": 47,
     "metadata": {},
     "output_type": "execute_result"
    }
   ],
   "source": [
    "x, y"
   ]
  },
  {
   "cell_type": "code",
   "execution_count": 48,
   "id": "expanded-commitment",
   "metadata": {},
   "outputs": [
    {
     "data": {
      "text/plain": [
       "Vector2D(3.0, 4.0)"
      ]
     },
     "execution_count": 48,
     "metadata": {},
     "output_type": "execute_result"
    }
   ],
   "source": [
    "v1"
   ]
  },
  {
   "cell_type": "code",
   "execution_count": 49,
   "id": "tight-input",
   "metadata": {},
   "outputs": [],
   "source": [
    "v1_clone = eval(repr(v1))"
   ]
  },
  {
   "cell_type": "code",
   "execution_count": 50,
   "id": "trying-paste",
   "metadata": {},
   "outputs": [
    {
     "data": {
      "text/plain": [
       "True"
      ]
     },
     "execution_count": 50,
     "metadata": {},
     "output_type": "execute_result"
    }
   ],
   "source": [
    "v1 == v1_clone"
   ]
  },
  {
   "cell_type": "code",
   "execution_count": 51,
   "id": "impressed-villa",
   "metadata": {},
   "outputs": [
    {
     "data": {
      "text/plain": [
       "False"
      ]
     },
     "execution_count": 51,
     "metadata": {},
     "output_type": "execute_result"
    }
   ],
   "source": [
    "v1 is v1_clone"
   ]
  },
  {
   "cell_type": "code",
   "execution_count": 52,
   "id": "radical-christian",
   "metadata": {},
   "outputs": [
    {
     "name": "stdout",
     "output_type": "stream",
     "text": [
      "(3.0, 4.0)\n"
     ]
    }
   ],
   "source": [
    "print(v1)"
   ]
  },
  {
   "cell_type": "code",
   "execution_count": 53,
   "id": "experienced-northern",
   "metadata": {},
   "outputs": [],
   "source": [
    "octets = bytes(v1)"
   ]
  },
  {
   "cell_type": "code",
   "execution_count": 54,
   "id": "national-shield",
   "metadata": {},
   "outputs": [
    {
     "data": {
      "text/plain": [
       "b'd\\x00\\x00\\x00\\x00\\x00\\x00\\x08@\\x00\\x00\\x00\\x00\\x00\\x00\\x10@'"
      ]
     },
     "execution_count": 54,
     "metadata": {},
     "output_type": "execute_result"
    }
   ],
   "source": [
    "octets"
   ]
  },
  {
   "cell_type": "code",
   "execution_count": 55,
   "id": "complicated-florida",
   "metadata": {},
   "outputs": [
    {
     "data": {
      "text/plain": [
       "5.0"
      ]
     },
     "execution_count": 55,
     "metadata": {},
     "output_type": "execute_result"
    }
   ],
   "source": [
    "abs(v1)"
   ]
  },
  {
   "cell_type": "code",
   "execution_count": 56,
   "id": "chronic-celtic",
   "metadata": {},
   "outputs": [
    {
     "data": {
      "text/plain": [
       "(True, False)"
      ]
     },
     "execution_count": 56,
     "metadata": {},
     "output_type": "execute_result"
    }
   ],
   "source": [
    "bool(v1), bool(Vector2D(0,0))"
   ]
  },
  {
   "cell_type": "code",
   "execution_count": null,
   "id": "august-preparation",
   "metadata": {},
   "outputs": [],
   "source": []
  },
  {
   "cell_type": "markdown",
   "id": "noble-valve",
   "metadata": {},
   "source": [
    "#### test for `.frombytes()` classmethod"
   ]
  },
  {
   "cell_type": "code",
   "execution_count": 57,
   "id": "catholic-drama",
   "metadata": {},
   "outputs": [],
   "source": [
    "v1_clone = Vector2D.frombytes(bytes(v1))"
   ]
  },
  {
   "cell_type": "code",
   "execution_count": 58,
   "id": "dress-trial",
   "metadata": {},
   "outputs": [
    {
     "data": {
      "text/plain": [
       "Vector2D(3.0, 4.0)"
      ]
     },
     "execution_count": 58,
     "metadata": {},
     "output_type": "execute_result"
    }
   ],
   "source": [
    "v1_clone"
   ]
  },
  {
   "cell_type": "code",
   "execution_count": 59,
   "id": "frank-sleep",
   "metadata": {},
   "outputs": [
    {
     "data": {
      "text/plain": [
       "Vector2D(3.0, 4.0)"
      ]
     },
     "execution_count": 59,
     "metadata": {},
     "output_type": "execute_result"
    }
   ],
   "source": [
    "v1"
   ]
  },
  {
   "cell_type": "code",
   "execution_count": 60,
   "id": "bizarre-tablet",
   "metadata": {},
   "outputs": [
    {
     "data": {
      "text/plain": [
       "True"
      ]
     },
     "execution_count": 60,
     "metadata": {},
     "output_type": "execute_result"
    }
   ],
   "source": [
    "v1 == v1_clone"
   ]
  },
  {
   "cell_type": "code",
   "execution_count": 61,
   "id": "packed-veteran",
   "metadata": {},
   "outputs": [
    {
     "data": {
      "text/plain": [
       "False"
      ]
     },
     "execution_count": 61,
     "metadata": {},
     "output_type": "execute_result"
    }
   ],
   "source": [
    "v1 is v1_clone"
   ]
  },
  {
   "cell_type": "code",
   "execution_count": null,
   "id": "expensive-profession",
   "metadata": {},
   "outputs": [],
   "source": []
  },
  {
   "cell_type": "markdown",
   "id": "interpreted-cathedral",
   "metadata": {},
   "source": [
    "#### test for `format()` with cartesion coords"
   ]
  },
  {
   "cell_type": "code",
   "execution_count": 62,
   "id": "premium-scroll",
   "metadata": {},
   "outputs": [
    {
     "data": {
      "text/plain": [
       "'(3.0, 4.0)'"
      ]
     },
     "execution_count": 62,
     "metadata": {},
     "output_type": "execute_result"
    }
   ],
   "source": [
    "format(v1)"
   ]
  },
  {
   "cell_type": "code",
   "execution_count": 63,
   "id": "educational-consumer",
   "metadata": {},
   "outputs": [
    {
     "data": {
      "text/plain": [
       "'(3.00, 4.00)'"
      ]
     },
     "execution_count": 63,
     "metadata": {},
     "output_type": "execute_result"
    }
   ],
   "source": [
    "format(v1, \".2f\")"
   ]
  },
  {
   "cell_type": "code",
   "execution_count": 64,
   "id": "aerial-stream",
   "metadata": {},
   "outputs": [
    {
     "data": {
      "text/plain": [
       "'(3.000e+00, 4.000e+00)'"
      ]
     },
     "execution_count": 64,
     "metadata": {},
     "output_type": "execute_result"
    }
   ],
   "source": [
    "format(v1, \".3e\")"
   ]
  },
  {
   "cell_type": "code",
   "execution_count": null,
   "id": "appointed-spokesman",
   "metadata": {},
   "outputs": [],
   "source": []
  },
  {
   "cell_type": "markdown",
   "id": "distinct-paintball",
   "metadata": {},
   "source": [
    "#### tests for the `angle()` method"
   ]
  },
  {
   "cell_type": "code",
   "execution_count": 65,
   "id": "encouraging-relay",
   "metadata": {},
   "outputs": [
    {
     "data": {
      "text/plain": [
       "0.0"
      ]
     },
     "execution_count": 65,
     "metadata": {},
     "output_type": "execute_result"
    }
   ],
   "source": [
    "Vector2D(0,0).angle()"
   ]
  },
  {
   "cell_type": "code",
   "execution_count": 66,
   "id": "accredited-denver",
   "metadata": {},
   "outputs": [
    {
     "data": {
      "text/plain": [
       "0.0"
      ]
     },
     "execution_count": 66,
     "metadata": {},
     "output_type": "execute_result"
    }
   ],
   "source": [
    "Vector2D(1,0).angle()"
   ]
  },
  {
   "cell_type": "code",
   "execution_count": 67,
   "id": "yellow-fleece",
   "metadata": {},
   "outputs": [],
   "source": [
    "eps = 10**-8"
   ]
  },
  {
   "cell_type": "code",
   "execution_count": 68,
   "id": "insured-microphone",
   "metadata": {},
   "outputs": [
    {
     "data": {
      "text/plain": [
       "True"
      ]
     },
     "execution_count": 68,
     "metadata": {},
     "output_type": "execute_result"
    }
   ],
   "source": [
    "abs(Vector2D(0,1).angle() - math.pi/2) < eps"
   ]
  },
  {
   "cell_type": "code",
   "execution_count": 69,
   "id": "damaged-consultation",
   "metadata": {},
   "outputs": [
    {
     "data": {
      "text/plain": [
       "True"
      ]
     },
     "execution_count": 69,
     "metadata": {},
     "output_type": "execute_result"
    }
   ],
   "source": [
    "abs(Vector2D(1,1).angle() - math.pi/4) < eps"
   ]
  },
  {
   "cell_type": "code",
   "execution_count": null,
   "id": "modular-workshop",
   "metadata": {},
   "outputs": [],
   "source": []
  },
  {
   "cell_type": "markdown",
   "id": "oriented-baptist",
   "metadata": {},
   "source": [
    "#### tests for `format()` with polar coords"
   ]
  },
  {
   "cell_type": "code",
   "execution_count": 70,
   "id": "classical-intersection",
   "metadata": {},
   "outputs": [
    {
     "data": {
      "text/plain": [
       "'<1.4142135623730951, 0.7853981633974483>'"
      ]
     },
     "execution_count": 70,
     "metadata": {},
     "output_type": "execute_result"
    }
   ],
   "source": [
    "format(Vector2D(1,1), \"p\")"
   ]
  },
  {
   "cell_type": "code",
   "execution_count": 71,
   "id": "atomic-assembly",
   "metadata": {},
   "outputs": [
    {
     "data": {
      "text/plain": [
       "'<1.414e+00, 7.854e-01>'"
      ]
     },
     "execution_count": 71,
     "metadata": {},
     "output_type": "execute_result"
    }
   ],
   "source": [
    "format(Vector2D(1,1), \".3ep\")"
   ]
  },
  {
   "cell_type": "code",
   "execution_count": 72,
   "id": "stable-produce",
   "metadata": {},
   "outputs": [
    {
     "data": {
      "text/plain": [
       "'<1.41421, 0.78540>'"
      ]
     },
     "execution_count": 72,
     "metadata": {},
     "output_type": "execute_result"
    }
   ],
   "source": [
    "format(Vector2D(1,1), \"0.5fp\")"
   ]
  },
  {
   "cell_type": "code",
   "execution_count": null,
   "id": "otherwise-divide",
   "metadata": {},
   "outputs": [],
   "source": []
  },
  {
   "cell_type": "markdown",
   "id": "trained-matrix",
   "metadata": {},
   "source": [
    "#### tests for `x` and `y` read-only properties"
   ]
  },
  {
   "cell_type": "code",
   "execution_count": 73,
   "id": "oriented-illinois",
   "metadata": {},
   "outputs": [
    {
     "data": {
      "text/plain": [
       "(3.0, 4.0)"
      ]
     },
     "execution_count": 73,
     "metadata": {},
     "output_type": "execute_result"
    }
   ],
   "source": [
    "v1.x, v1.y"
   ]
  },
  {
   "cell_type": "code",
   "execution_count": 74,
   "id": "official-panama",
   "metadata": {},
   "outputs": [
    {
     "ename": "AttributeError",
     "evalue": "can't set attribute",
     "output_type": "error",
     "traceback": [
      "\u001b[0;31m---------------------------------------------------------------------------\u001b[0m",
      "\u001b[0;31mAttributeError\u001b[0m                            Traceback (most recent call last)",
      "\u001b[0;32m<ipython-input-74-c0278302dc91>\u001b[0m in \u001b[0;36m<module>\u001b[0;34m\u001b[0m\n\u001b[0;32m----> 1\u001b[0;31m \u001b[0mv1\u001b[0m\u001b[0;34m.\u001b[0m\u001b[0mx\u001b[0m \u001b[0;34m=\u001b[0m \u001b[0;36m123\u001b[0m\u001b[0;34m\u001b[0m\u001b[0;34m\u001b[0m\u001b[0m\n\u001b[0m",
      "\u001b[0;31mAttributeError\u001b[0m: can't set attribute"
     ]
    }
   ],
   "source": [
    "v1.x = 123"
   ]
  },
  {
   "cell_type": "code",
   "execution_count": 75,
   "id": "steady-accommodation",
   "metadata": {},
   "outputs": [
    {
     "ename": "AttributeError",
     "evalue": "can't set attribute",
     "output_type": "error",
     "traceback": [
      "\u001b[0;31m---------------------------------------------------------------------------\u001b[0m",
      "\u001b[0;31mAttributeError\u001b[0m                            Traceback (most recent call last)",
      "\u001b[0;32m<ipython-input-75-dd2d1921fd60>\u001b[0m in \u001b[0;36m<module>\u001b[0;34m\u001b[0m\n\u001b[0;32m----> 1\u001b[0;31m \u001b[0mv1\u001b[0m\u001b[0;34m.\u001b[0m\u001b[0my\u001b[0m \u001b[0;34m=\u001b[0m \u001b[0;36m123\u001b[0m\u001b[0;34m\u001b[0m\u001b[0;34m\u001b[0m\u001b[0m\n\u001b[0m",
      "\u001b[0;31mAttributeError\u001b[0m: can't set attribute"
     ]
    }
   ],
   "source": [
    "v1.y = 123"
   ]
  },
  {
   "cell_type": "code",
   "execution_count": null,
   "id": "fabulous-robert",
   "metadata": {},
   "outputs": [],
   "source": []
  },
  {
   "cell_type": "markdown",
   "id": "happy-battery",
   "metadata": {},
   "source": [
    "#### tests for **`hashing`**"
   ]
  },
  {
   "cell_type": "code",
   "execution_count": 76,
   "id": "alive-closing",
   "metadata": {},
   "outputs": [],
   "source": [
    "v1 = Vector2D(3,4)"
   ]
  },
  {
   "cell_type": "code",
   "execution_count": 77,
   "id": "assisted-trading",
   "metadata": {},
   "outputs": [],
   "source": [
    "v2 = Vector2D(0.9, -1.5)"
   ]
  },
  {
   "cell_type": "code",
   "execution_count": 78,
   "id": "simple-nerve",
   "metadata": {},
   "outputs": [
    {
     "data": {
      "text/plain": [
       "7"
      ]
     },
     "execution_count": 78,
     "metadata": {},
     "output_type": "execute_result"
    }
   ],
   "source": [
    "hash(v1)"
   ]
  },
  {
   "cell_type": "code",
   "execution_count": 79,
   "id": "german-bikini",
   "metadata": {},
   "outputs": [
    {
     "data": {
      "text/plain": [
       "-922337203685477633"
      ]
     },
     "execution_count": 79,
     "metadata": {},
     "output_type": "execute_result"
    }
   ],
   "source": [
    "hash(v2)"
   ]
  },
  {
   "cell_type": "code",
   "execution_count": 81,
   "id": "offensive-fundamental",
   "metadata": {},
   "outputs": [
    {
     "data": {
      "text/plain": [
       "2"
      ]
     },
     "execution_count": 81,
     "metadata": {},
     "output_type": "execute_result"
    }
   ],
   "source": [
    "len(set([v1, v2]))"
   ]
  },
  {
   "cell_type": "code",
   "execution_count": 82,
   "id": "african-milan",
   "metadata": {},
   "outputs": [
    {
     "data": {
      "text/plain": [
       "{Vector2D(0.9, -1.5), Vector2D(3.0, 4.0)}"
      ]
     },
     "execution_count": 82,
     "metadata": {},
     "output_type": "execute_result"
    }
   ],
   "source": [
    "vec_set = set([v1, v2])\n",
    "vec_set"
   ]
  },
  {
   "cell_type": "code",
   "execution_count": null,
   "id": "inappropriate-catalog",
   "metadata": {},
   "outputs": [],
   "source": []
  },
  {
   "cell_type": "markdown",
   "id": "legendary-capitol",
   "metadata": {},
   "source": [
    "#### `name mangling`"
   ]
  },
  {
   "cell_type": "code",
   "execution_count": 83,
   "id": "global-dispute",
   "metadata": {},
   "outputs": [
    {
     "data": {
      "text/plain": [
       "{'_Vector2D__x': 3.0, '_Vector2D__y': 4.0}"
      ]
     },
     "execution_count": 83,
     "metadata": {},
     "output_type": "execute_result"
    }
   ],
   "source": [
    "v1.__dict__"
   ]
  },
  {
   "cell_type": "code",
   "execution_count": null,
   "id": "nuclear-wagner",
   "metadata": {},
   "outputs": [],
   "source": []
  }
 ],
 "metadata": {
  "kernelspec": {
   "display_name": "Python 3",
   "language": "python",
   "name": "python3"
  },
  "language_info": {
   "codemirror_mode": {
    "name": "ipython",
    "version": 3
   },
   "file_extension": ".py",
   "mimetype": "text/x-python",
   "name": "python",
   "nbconvert_exporter": "python",
   "pygments_lexer": "ipython3",
   "version": "3.7.4"
  }
 },
 "nbformat": 4,
 "nbformat_minor": 5
}
