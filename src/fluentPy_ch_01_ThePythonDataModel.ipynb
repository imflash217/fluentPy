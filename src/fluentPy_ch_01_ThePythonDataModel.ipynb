{
 "cells": [
  {
   "cell_type": "code",
   "execution_count": 52,
   "id": "simplified-broadcasting",
   "metadata": {},
   "outputs": [
    {
     "data": {
      "text/html": [
       "<style>body {\n",
       "    margin: 0;\n",
       "    font-family: lexend;\n",
       "}\n",
       "table.dataframe {\n",
       "    border-collapse: collapse;\n",
       "    border: none;\n",
       "}\n",
       "table.dataframe tr {\n",
       "    border: none;\n",
       "}\n",
       "table.dataframe td, table.dataframe th {\n",
       "    margin: 0;\n",
       "    border: 1px solid white;\n",
       "    padding-left: 0.25em;\n",
       "    padding-right: 0.25em;\n",
       "}\n",
       "table.dataframe th:not(:empty) {\n",
       "    background-color: #fec;\n",
       "    text-align: left;\n",
       "    font-weight: normal;\n",
       "}\n",
       "table.dataframe tr:nth-child(2) th:empty {\n",
       "    border-left: none;\n",
       "    border-right: 1px dashed #888;\n",
       "}\n",
       "table.dataframe td {\n",
       "    border: 2px solid #ccf;\n",
       "    background-color: #f4f4ff;\n",
       "}\n",
       "h1 {\n",
       "    color: white;\n",
       "    background: rgb(2,0,36);\n",
       "    background: linear-gradient(90deg, rgba(2,0,36,1) 0%, rgba(238,65,79,1) 42%, rgba(0,84,255,1) 81%); \n",
       "    padding: 0.25em;\n",
       "}\n",
       "\n",
       "h3 {\n",
       "    color: white;\n",
       "    background-color: black;\n",
       "    padding: 0.25em;\n",
       "}\n",
       "\n",
       "h2 {\n",
       "    color: white;\n",
       "    background-color: #fc0362;\n",
       "    padding: 0.25em;\n",
       "}\n",
       "</style>"
      ],
      "text/plain": [
       "<IPython.core.display.HTML object>"
      ]
     },
     "execution_count": 52,
     "metadata": {},
     "output_type": "execute_result"
    }
   ],
   "source": [
    "from IPython.core.display import HTML\n",
    "css = open('notebook_css/style-table.css').read() + open('notebook_css/style-notebook.css').read()\n",
    "HTML('<style>{}</style>'.format(css))"
   ]
  },
  {
   "cell_type": "markdown",
   "id": "expired-scheduling",
   "metadata": {},
   "source": [
    "Author: @imflash217"
   ]
  },
  {
   "cell_type": "markdown",
   "id": "aggregate-advice",
   "metadata": {},
   "source": [
    "#### Further Reading Books:\n",
    "1. `Python in a Nutshell` by Alex Martelli\n",
    "2. `Python Essential Reference` by David Beazley\n",
    "3. `Python Cookbook` by David Beazley\n",
    "4. `The Art of Metaobject Protocol (AMOP)` by Gregor Kiczales"
   ]
  },
  {
   "cell_type": "markdown",
   "id": "divine-endorsement",
   "metadata": {},
   "source": [
    "# The `Python Data Model` or `Python Object Model`"
   ]
  },
  {
   "cell_type": "markdown",
   "id": "proved-objective",
   "metadata": {},
   "source": [
    "### You can think of the `Data Model` as a description of Python as a `framework`!! "
   ]
  },
  {
   "cell_type": "markdown",
   "id": "noble-brazil",
   "metadata": {},
   "source": [
    "It formalizes the interfaces of the building blocks of the language itself; such as `sequences`, `iterators`, `functions`, `classes`, `context-managers` etc..."
   ]
  },
  {
   "cell_type": "markdown",
   "id": "covered-dressing",
   "metadata": {},
   "source": [
    "While coding any framework, you spend a lot of time implementing methods that are called by the framework. Same thing happens when we leverage the `Python Data Model`."
   ]
  },
  {
   "cell_type": "markdown",
   "id": "practical-uncertainty",
   "metadata": {},
   "source": [
    "The Python interpreter invokes the special `__dunder__` methods to perform basic ops; often triggered by special syntax! For eg: `__getitem__`\n",
    "\n",
    "The syntax `obj[key]` is supported by `__getitem__` special method; and it is called as: `obj.__getitem__(key)`\n",
    "Another example is indexing in a dictionary or list or any collection object as `my_collection[key]` aka `my_collection.__getitem__(key)`"
   ]
  },
  {
   "cell_type": "markdown",
   "id": "annoying-medicaid",
   "metadata": {},
   "source": [
    "The special `__dunder__` method names allows your objects to implement, support and interact with basic language constructs such as: \n",
    "1. `iteration`\n",
    "2. `collections`\n",
    "3. attribute access\n",
    "4. operator overloading\n",
    "5. function & method invocation\n",
    "6. object creation & destruction\n",
    "7. string representation & reformatting\n",
    "8. managed contexts (i.e. `with` blocks)"
   ]
  },
  {
   "cell_type": "code",
   "execution_count": null,
   "id": "chemical-warren",
   "metadata": {},
   "outputs": [],
   "source": []
  },
  {
   "cell_type": "markdown",
   "id": "athletic-qualification",
   "metadata": {},
   "source": [
    "## A Pythonic Card Deck"
   ]
  },
  {
   "cell_type": "markdown",
   "id": "plastic-employer",
   "metadata": {},
   "source": [
    "It is a very simple example that demonstractes the power of implementing just two special/magic `__dunder__` methods: \n",
    "1. `__getitem__`\n",
    "2. `__len__`"
   ]
  },
  {
   "cell_type": "markdown",
   "id": "rapid-figure",
   "metadata": {},
   "source": [
    "#### Example_1_1: A deck as a sequence of cards"
   ]
  },
  {
   "cell_type": "code",
   "execution_count": 13,
   "id": "dirty-compensation",
   "metadata": {},
   "outputs": [],
   "source": [
    "## example_1_1.py\n",
    "## A deck as a sequence of cards\n",
    "\n",
    "import collections\n",
    "\n",
    "Card = collections.namedtuple(typename=\"Card\", field_names=[\"rank\", \"suit\"])\n",
    "\n",
    "class FrenchDeck:\n",
    "    ranks = [str(n) for n in range(2, 11)] + list(\"JQKA\")\n",
    "    suits = \"spades, diamonds, clubs, hearts\".split(\", \")\n",
    "    \n",
    "    def __init__(self):\n",
    "        self._cards = [Card(rank, suit) for suit in self.suits \n",
    "                                       for rank in self.ranks]\n",
    "    \n",
    "    def __len__(self):\n",
    "        return len(self._cards)\n",
    "    \n",
    "    def __getitem__(self, index):\n",
    "        return self._cards[index]\n",
    "    "
   ]
  },
  {
   "cell_type": "markdown",
   "id": "domestic-cancer",
   "metadata": {},
   "source": [
    "### Since Python 2.6 `collections.namedtuple` can be used to build classes of objects that are just bundles of attributes with no custom methods, like a database record."
   ]
  },
  {
   "cell_type": "code",
   "execution_count": 41,
   "id": "wooden-communications",
   "metadata": {},
   "outputs": [
    {
     "data": {
      "text/plain": [
       "Card(rank='7', suit='diamonds')"
      ]
     },
     "execution_count": 41,
     "metadata": {},
     "output_type": "execute_result"
    }
   ],
   "source": [
    "beer_card = Card(rank=\"7\", suit=\"diamonds\")\n",
    "beer_card"
   ]
  },
  {
   "cell_type": "code",
   "execution_count": 18,
   "id": "dependent-polymer",
   "metadata": {},
   "outputs": [
    {
     "data": {
      "text/plain": [
       "52"
      ]
     },
     "execution_count": 18,
     "metadata": {},
     "output_type": "execute_result"
    }
   ],
   "source": [
    "deck = FrenchDeck()\n",
    "len(deck)                 ## <- provided by FrenchDeck.__len__() method"
   ]
  },
  {
   "cell_type": "code",
   "execution_count": 19,
   "id": "responsible-rainbow",
   "metadata": {},
   "outputs": [
    {
     "data": {
      "text/plain": [
       "Card(rank='2', suit='spades')"
      ]
     },
     "execution_count": 19,
     "metadata": {},
     "output_type": "execute_result"
    }
   ],
   "source": [
    "deck[0]"
   ]
  },
  {
   "cell_type": "code",
   "execution_count": 20,
   "id": "involved-anaheim",
   "metadata": {},
   "outputs": [
    {
     "data": {
      "text/plain": [
       "Card(rank='3', suit='spades')"
      ]
     },
     "execution_count": 20,
     "metadata": {},
     "output_type": "execute_result"
    }
   ],
   "source": [
    "deck[1]"
   ]
  },
  {
   "cell_type": "code",
   "execution_count": 21,
   "id": "corporate-variation",
   "metadata": {},
   "outputs": [
    {
     "data": {
      "text/plain": [
       "Card(rank='A', suit='hearts')"
      ]
     },
     "execution_count": 21,
     "metadata": {},
     "output_type": "execute_result"
    }
   ],
   "source": [
    "deck[-1]"
   ]
  },
  {
   "cell_type": "code",
   "execution_count": 22,
   "id": "excessive-abuse",
   "metadata": {},
   "outputs": [
    {
     "name": "stdout",
     "output_type": "stream",
     "text": [
      "Card(rank='2', suit='spades')\n",
      "Card(rank='3', suit='spades')\n",
      "Card(rank='4', suit='spades')\n",
      "Card(rank='5', suit='spades')\n",
      "Card(rank='6', suit='spades')\n",
      "Card(rank='7', suit='spades')\n",
      "Card(rank='8', suit='spades')\n",
      "Card(rank='9', suit='spades')\n",
      "Card(rank='10', suit='spades')\n",
      "Card(rank='J', suit='spades')\n",
      "Card(rank='Q', suit='spades')\n",
      "Card(rank='K', suit='spades')\n",
      "Card(rank='A', suit='spades')\n",
      "Card(rank='2', suit='diamonds')\n",
      "Card(rank='3', suit='diamonds')\n",
      "Card(rank='4', suit='diamonds')\n",
      "Card(rank='5', suit='diamonds')\n",
      "Card(rank='6', suit='diamonds')\n",
      "Card(rank='7', suit='diamonds')\n",
      "Card(rank='8', suit='diamonds')\n",
      "Card(rank='9', suit='diamonds')\n",
      "Card(rank='10', suit='diamonds')\n",
      "Card(rank='J', suit='diamonds')\n",
      "Card(rank='Q', suit='diamonds')\n",
      "Card(rank='K', suit='diamonds')\n",
      "Card(rank='A', suit='diamonds')\n",
      "Card(rank='2', suit='clubs')\n",
      "Card(rank='3', suit='clubs')\n",
      "Card(rank='4', suit='clubs')\n",
      "Card(rank='5', suit='clubs')\n",
      "Card(rank='6', suit='clubs')\n",
      "Card(rank='7', suit='clubs')\n",
      "Card(rank='8', suit='clubs')\n",
      "Card(rank='9', suit='clubs')\n",
      "Card(rank='10', suit='clubs')\n",
      "Card(rank='J', suit='clubs')\n",
      "Card(rank='Q', suit='clubs')\n",
      "Card(rank='K', suit='clubs')\n",
      "Card(rank='A', suit='clubs')\n",
      "Card(rank='2', suit='hearts')\n",
      "Card(rank='3', suit='hearts')\n",
      "Card(rank='4', suit='hearts')\n",
      "Card(rank='5', suit='hearts')\n",
      "Card(rank='6', suit='hearts')\n",
      "Card(rank='7', suit='hearts')\n",
      "Card(rank='8', suit='hearts')\n",
      "Card(rank='9', suit='hearts')\n",
      "Card(rank='10', suit='hearts')\n",
      "Card(rank='J', suit='hearts')\n",
      "Card(rank='Q', suit='hearts')\n",
      "Card(rank='K', suit='hearts')\n",
      "Card(rank='A', suit='hearts')\n"
     ]
    }
   ],
   "source": [
    "for card in deck:\n",
    "    print(card)"
   ]
  },
  {
   "cell_type": "markdown",
   "id": "developing-jonathan",
   "metadata": {},
   "source": [
    "### Picking random item from a collection using `random.choice()`"
   ]
  },
  {
   "cell_type": "code",
   "execution_count": 27,
   "id": "nonprofit-assembly",
   "metadata": {},
   "outputs": [],
   "source": [
    "from random import choice"
   ]
  },
  {
   "cell_type": "code",
   "execution_count": 28,
   "id": "authentic-ozone",
   "metadata": {},
   "outputs": [
    {
     "data": {
      "text/plain": [
       "Card(rank='4', suit='diamonds')"
      ]
     },
     "execution_count": 28,
     "metadata": {},
     "output_type": "execute_result"
    }
   ],
   "source": [
    "choice(deck)"
   ]
  },
  {
   "cell_type": "code",
   "execution_count": 29,
   "id": "neutral-significance",
   "metadata": {},
   "outputs": [
    {
     "data": {
      "text/plain": [
       "Card(rank='6', suit='spades')"
      ]
     },
     "execution_count": 29,
     "metadata": {},
     "output_type": "execute_result"
    }
   ],
   "source": [
    "choice(deck)"
   ]
  },
  {
   "cell_type": "code",
   "execution_count": null,
   "id": "numerical-defense",
   "metadata": {},
   "outputs": [],
   "source": []
  },
  {
   "cell_type": "markdown",
   "id": "antique-university",
   "metadata": {},
   "source": [
    "### Because `__getitem__` delegates to `[]` operator; it automatically supports `slicing`"
   ]
  },
  {
   "cell_type": "code",
   "execution_count": 30,
   "id": "virgin-right",
   "metadata": {},
   "outputs": [
    {
     "data": {
      "text/plain": [
       "[Card(rank='2', suit='spades'),\n",
       " Card(rank='3', suit='spades'),\n",
       " Card(rank='4', suit='spades')]"
      ]
     },
     "execution_count": 30,
     "metadata": {},
     "output_type": "execute_result"
    }
   ],
   "source": [
    "deck[:3]"
   ]
  },
  {
   "cell_type": "code",
   "execution_count": 32,
   "id": "freelance-contrast",
   "metadata": {},
   "outputs": [
    {
     "data": {
      "text/plain": [
       "[Card(rank='A', suit='spades'),\n",
       " Card(rank='A', suit='diamonds'),\n",
       " Card(rank='A', suit='clubs'),\n",
       " Card(rank='A', suit='hearts')]"
      ]
     },
     "execution_count": 32,
     "metadata": {},
     "output_type": "execute_result"
    }
   ],
   "source": [
    "deck[12::13]"
   ]
  },
  {
   "cell_type": "code",
   "execution_count": 37,
   "id": "committed-absence",
   "metadata": {},
   "outputs": [
    {
     "data": {
      "text/plain": [
       "[Card(rank='2', suit='spades'),\n",
       " Card(rank='2', suit='diamonds'),\n",
       " Card(rank='2', suit='clubs'),\n",
       " Card(rank='2', suit='hearts')]"
      ]
     },
     "execution_count": 37,
     "metadata": {},
     "output_type": "execute_result"
    }
   ],
   "source": [
    "deck[::13]"
   ]
  },
  {
   "cell_type": "code",
   "execution_count": 40,
   "id": "affiliated-decline",
   "metadata": {},
   "outputs": [
    {
     "name": "stdout",
     "output_type": "stream",
     "text": [
      "Card(rank='A', suit='hearts')\n",
      "Card(rank='K', suit='hearts')\n",
      "Card(rank='Q', suit='hearts')\n",
      "Card(rank='J', suit='hearts')\n",
      "Card(rank='10', suit='hearts')\n",
      "Card(rank='9', suit='hearts')\n",
      "Card(rank='8', suit='hearts')\n",
      "Card(rank='7', suit='hearts')\n",
      "Card(rank='6', suit='hearts')\n",
      "Card(rank='5', suit='hearts')\n",
      "Card(rank='4', suit='hearts')\n",
      "Card(rank='3', suit='hearts')\n",
      "Card(rank='2', suit='hearts')\n",
      "Card(rank='A', suit='clubs')\n",
      "Card(rank='K', suit='clubs')\n",
      "Card(rank='Q', suit='clubs')\n",
      "Card(rank='J', suit='clubs')\n",
      "Card(rank='10', suit='clubs')\n",
      "Card(rank='9', suit='clubs')\n",
      "Card(rank='8', suit='clubs')\n",
      "Card(rank='7', suit='clubs')\n",
      "Card(rank='6', suit='clubs')\n",
      "Card(rank='5', suit='clubs')\n",
      "Card(rank='4', suit='clubs')\n",
      "Card(rank='3', suit='clubs')\n",
      "Card(rank='2', suit='clubs')\n",
      "Card(rank='A', suit='diamonds')\n",
      "Card(rank='K', suit='diamonds')\n",
      "Card(rank='Q', suit='diamonds')\n",
      "Card(rank='J', suit='diamonds')\n",
      "Card(rank='10', suit='diamonds')\n",
      "Card(rank='9', suit='diamonds')\n",
      "Card(rank='8', suit='diamonds')\n",
      "Card(rank='7', suit='diamonds')\n",
      "Card(rank='6', suit='diamonds')\n",
      "Card(rank='5', suit='diamonds')\n",
      "Card(rank='4', suit='diamonds')\n",
      "Card(rank='3', suit='diamonds')\n",
      "Card(rank='2', suit='diamonds')\n",
      "Card(rank='A', suit='spades')\n",
      "Card(rank='K', suit='spades')\n",
      "Card(rank='Q', suit='spades')\n",
      "Card(rank='J', suit='spades')\n",
      "Card(rank='10', suit='spades')\n",
      "Card(rank='9', suit='spades')\n",
      "Card(rank='8', suit='spades')\n",
      "Card(rank='7', suit='spades')\n",
      "Card(rank='6', suit='spades')\n",
      "Card(rank='5', suit='spades')\n",
      "Card(rank='4', suit='spades')\n",
      "Card(rank='3', suit='spades')\n",
      "Card(rank='2', suit='spades')\n"
     ]
    }
   ],
   "source": [
    "for card in reversed(deck):\n",
    "    print(card)"
   ]
  },
  {
   "cell_type": "code",
   "execution_count": null,
   "id": "balanced-russian",
   "metadata": {},
   "outputs": [],
   "source": []
  },
  {
   "cell_type": "markdown",
   "id": "spoken-dealer",
   "metadata": {},
   "source": [
    "### Iteration is often implict. \n",
    "### If a collection does not have `__contains__` method; the `in` operator does a SEQUENTIAL SCAN"
   ]
  },
  {
   "cell_type": "code",
   "execution_count": 42,
   "id": "political-maldives",
   "metadata": {},
   "outputs": [
    {
     "data": {
      "text/plain": [
       "True"
      ]
     },
     "execution_count": 42,
     "metadata": {},
     "output_type": "execute_result"
    }
   ],
   "source": [
    "Card(rank=\"Q\", suit=\"hearts\") in deck"
   ]
  },
  {
   "cell_type": "code",
   "execution_count": 43,
   "id": "rough-agenda",
   "metadata": {},
   "outputs": [
    {
     "data": {
      "text/plain": [
       "False"
      ]
     },
     "execution_count": 43,
     "metadata": {},
     "output_type": "execute_result"
    }
   ],
   "source": [
    "Card(rank=\"7\", suit=\"beast\") in deck"
   ]
  },
  {
   "cell_type": "markdown",
   "id": "proprietary-romania",
   "metadata": {},
   "source": [
    "#### Sorting\n",
    "\n",
    "A common system for ranking cards is by `rank` (with `aces` being highest); then by `suit` in the order: (`spades` > `hearts` > `diamonds` > `clubs`)"
   ]
  },
  {
   "cell_type": "code",
   "execution_count": 44,
   "id": "decent-congress",
   "metadata": {},
   "outputs": [],
   "source": [
    "suit_values = dict(spades=3, hearts=2, diamonds=1, clubs=0)\n",
    "\n",
    "def spades_high(card):\n",
    "    rank_value = FrenchDeck.ranks.index(card.rank)\n",
    "    return rank_value * len(suit_values) + suit_values[card.suit]"
   ]
  },
  {
   "cell_type": "code",
   "execution_count": 45,
   "id": "wanted-limitation",
   "metadata": {},
   "outputs": [
    {
     "data": {
      "text/plain": [
       "42"
      ]
     },
     "execution_count": 45,
     "metadata": {},
     "output_type": "execute_result"
    }
   ],
   "source": [
    "card = Card(rank=\"Q\", suit=\"hearts\")\n",
    "spades_high(card)"
   ]
  },
  {
   "cell_type": "markdown",
   "id": "metric-pioneer",
   "metadata": {},
   "source": [
    "#### Now, lets list our FrenchDeck in INCREASING order..."
   ]
  },
  {
   "cell_type": "code",
   "execution_count": 46,
   "id": "loaded-burst",
   "metadata": {},
   "outputs": [
    {
     "name": "stdout",
     "output_type": "stream",
     "text": [
      "Card(rank='2', suit='clubs')\n",
      "Card(rank='2', suit='diamonds')\n",
      "Card(rank='2', suit='hearts')\n",
      "Card(rank='2', suit='spades')\n",
      "Card(rank='3', suit='clubs')\n",
      "Card(rank='3', suit='diamonds')\n",
      "Card(rank='3', suit='hearts')\n",
      "Card(rank='3', suit='spades')\n",
      "Card(rank='4', suit='clubs')\n",
      "Card(rank='4', suit='diamonds')\n",
      "Card(rank='4', suit='hearts')\n",
      "Card(rank='4', suit='spades')\n",
      "Card(rank='5', suit='clubs')\n",
      "Card(rank='5', suit='diamonds')\n",
      "Card(rank='5', suit='hearts')\n",
      "Card(rank='5', suit='spades')\n",
      "Card(rank='6', suit='clubs')\n",
      "Card(rank='6', suit='diamonds')\n",
      "Card(rank='6', suit='hearts')\n",
      "Card(rank='6', suit='spades')\n",
      "Card(rank='7', suit='clubs')\n",
      "Card(rank='7', suit='diamonds')\n",
      "Card(rank='7', suit='hearts')\n",
      "Card(rank='7', suit='spades')\n",
      "Card(rank='8', suit='clubs')\n",
      "Card(rank='8', suit='diamonds')\n",
      "Card(rank='8', suit='hearts')\n",
      "Card(rank='8', suit='spades')\n",
      "Card(rank='9', suit='clubs')\n",
      "Card(rank='9', suit='diamonds')\n",
      "Card(rank='9', suit='hearts')\n",
      "Card(rank='9', suit='spades')\n",
      "Card(rank='10', suit='clubs')\n",
      "Card(rank='10', suit='diamonds')\n",
      "Card(rank='10', suit='hearts')\n",
      "Card(rank='10', suit='spades')\n",
      "Card(rank='J', suit='clubs')\n",
      "Card(rank='J', suit='diamonds')\n",
      "Card(rank='J', suit='hearts')\n",
      "Card(rank='J', suit='spades')\n",
      "Card(rank='Q', suit='clubs')\n",
      "Card(rank='Q', suit='diamonds')\n",
      "Card(rank='Q', suit='hearts')\n",
      "Card(rank='Q', suit='spades')\n",
      "Card(rank='K', suit='clubs')\n",
      "Card(rank='K', suit='diamonds')\n",
      "Card(rank='K', suit='hearts')\n",
      "Card(rank='K', suit='spades')\n",
      "Card(rank='A', suit='clubs')\n",
      "Card(rank='A', suit='diamonds')\n",
      "Card(rank='A', suit='hearts')\n",
      "Card(rank='A', suit='spades')\n"
     ]
    }
   ],
   "source": [
    "for card in sorted(deck, key=spades_high):\n",
    "    print(card)"
   ]
  },
  {
   "cell_type": "markdown",
   "id": "amateur-royalty",
   "metadata": {},
   "source": [
    "#### Now, lets list our FrenchDeck in DECREASING order..."
   ]
  },
  {
   "cell_type": "code",
   "execution_count": 49,
   "id": "leading-demographic",
   "metadata": {},
   "outputs": [
    {
     "name": "stdout",
     "output_type": "stream",
     "text": [
      "Card(rank='A', suit='spades')\n",
      "Card(rank='A', suit='hearts')\n",
      "Card(rank='A', suit='diamonds')\n",
      "Card(rank='A', suit='clubs')\n",
      "Card(rank='K', suit='spades')\n",
      "Card(rank='K', suit='hearts')\n",
      "Card(rank='K', suit='diamonds')\n",
      "Card(rank='K', suit='clubs')\n",
      "Card(rank='Q', suit='spades')\n",
      "Card(rank='Q', suit='hearts')\n",
      "Card(rank='Q', suit='diamonds')\n",
      "Card(rank='Q', suit='clubs')\n",
      "Card(rank='J', suit='spades')\n",
      "Card(rank='J', suit='hearts')\n",
      "Card(rank='J', suit='diamonds')\n",
      "Card(rank='J', suit='clubs')\n",
      "Card(rank='10', suit='spades')\n",
      "Card(rank='10', suit='hearts')\n",
      "Card(rank='10', suit='diamonds')\n",
      "Card(rank='10', suit='clubs')\n",
      "Card(rank='9', suit='spades')\n",
      "Card(rank='9', suit='hearts')\n",
      "Card(rank='9', suit='diamonds')\n",
      "Card(rank='9', suit='clubs')\n",
      "Card(rank='8', suit='spades')\n",
      "Card(rank='8', suit='hearts')\n",
      "Card(rank='8', suit='diamonds')\n",
      "Card(rank='8', suit='clubs')\n",
      "Card(rank='7', suit='spades')\n",
      "Card(rank='7', suit='hearts')\n",
      "Card(rank='7', suit='diamonds')\n",
      "Card(rank='7', suit='clubs')\n",
      "Card(rank='6', suit='spades')\n",
      "Card(rank='6', suit='hearts')\n",
      "Card(rank='6', suit='diamonds')\n",
      "Card(rank='6', suit='clubs')\n",
      "Card(rank='5', suit='spades')\n",
      "Card(rank='5', suit='hearts')\n",
      "Card(rank='5', suit='diamonds')\n",
      "Card(rank='5', suit='clubs')\n",
      "Card(rank='4', suit='spades')\n",
      "Card(rank='4', suit='hearts')\n",
      "Card(rank='4', suit='diamonds')\n",
      "Card(rank='4', suit='clubs')\n",
      "Card(rank='3', suit='spades')\n",
      "Card(rank='3', suit='hearts')\n",
      "Card(rank='3', suit='diamonds')\n",
      "Card(rank='3', suit='clubs')\n",
      "Card(rank='2', suit='spades')\n",
      "Card(rank='2', suit='hearts')\n",
      "Card(rank='2', suit='diamonds')\n",
      "Card(rank='2', suit='clubs')\n"
     ]
    }
   ],
   "source": [
    "for card in sorted(deck, key=spades_high, reverse=True):\n",
    "    print(card)"
   ]
  },
  {
   "cell_type": "code",
   "execution_count": null,
   "id": "metropolitan-interpretation",
   "metadata": {},
   "outputs": [],
   "source": []
  },
  {
   "cell_type": "markdown",
   "id": "african-glucose",
   "metadata": {},
   "source": [
    "### `immutable` objects cannot change the position/index of its objects. So `FrenchDeck` cannot be SHUFFLED!!!"
   ]
  },
  {
   "cell_type": "code",
   "execution_count": null,
   "id": "according-stream",
   "metadata": {},
   "outputs": [],
   "source": []
  },
  {
   "cell_type": "markdown",
   "id": "thousand-shame",
   "metadata": {},
   "source": [
    "## How special methods are used?"
   ]
  },
  {
   "cell_type": "markdown",
   "id": "universal-reputation",
   "metadata": {},
   "source": [
    "### Special `__dunder__` methods are supposed to be called by the Python Interpreter NOT BY YOU"
   ]
  },
  {
   "cell_type": "markdown",
   "id": "other-hierarchy",
   "metadata": {},
   "source": [
    "So you don't write `my_object.__len__()`...... but you write `len(my_object)`"
   ]
  },
  {
   "cell_type": "markdown",
   "id": "oriented-adapter",
   "metadata": {},
   "source": [
    "Normally your code should not have many direct calls to the special/magic `__dunder__` methods unless you are doing a lot of METAPROGRAMMING"
   ]
  },
  {
   "cell_type": "markdown",
   "id": "foreign-bracelet",
   "metadata": {},
   "source": [
    "`for i in my_obj` causes the invocation of `iter(my_obj)` which in turn calls `my_obj.__iter__()` if its available"
   ]
  },
  {
   "cell_type": "markdown",
   "id": "unauthorized-ticket",
   "metadata": {},
   "source": [
    "The only special method that is most frequently called by the user is `__init__` method.\n",
    "\n",
    "If you need to invoke a special method it is usually better to call the related built-in **functions** like `len`, `str`, `iter` etc.."
   ]
  },
  {
   "cell_type": "code",
   "execution_count": null,
   "id": "waiting-relative",
   "metadata": {},
   "outputs": [],
   "source": []
  },
  {
   "cell_type": "markdown",
   "id": "attached-hammer",
   "metadata": {},
   "source": [
    "## Emulating numeric types"
   ]
  },
  {
   "cell_type": "markdown",
   "id": "biological-million",
   "metadata": {},
   "source": [
    "#### `Example_1_2`: A simple 2D Vector class"
   ]
  },
  {
   "cell_type": "code",
   "execution_count": 53,
   "id": "stupid-coupon",
   "metadata": {},
   "outputs": [],
   "source": [
    "## example_1_2.py\n",
    "## a simple vector 2D class\n",
    "\n",
    "from math import hypot             ## hypot == hypotenuse\n",
    "\n",
    "class Vector:\n",
    "    def __init__(self, x=0, y=0):\n",
    "        self.x = x\n",
    "        self.y = y\n",
    "    \n",
    "    def __repr__(self):\n",
    "        return f\"Vector({self.x}, {self.y})\"\n",
    "    \n",
    "    def __abs__(self):\n",
    "        return hypot(self.x, self.y)\n",
    "    \n",
    "    def __bool__(self):\n",
    "        ## return bool(abs(self))\n",
    "        return bool(self.x or self.y)\n",
    "    \n",
    "    def __add__(self, other):\n",
    "        x = self.x + other.x\n",
    "        y = self.y + other.y\n",
    "        return Vector(x, y)\n",
    "    \n",
    "    def __mul__(self, scalar):\n",
    "        x = scalar * self.y\n",
    "        y = scalar * self.y\n",
    "        return Vector(x, y)\n",
    "    "
   ]
  },
  {
   "cell_type": "markdown",
   "id": "incomplete-moldova",
   "metadata": {},
   "source": [
    "#### NOTE: Although we implemented 4 different special `__dunder__` **methods**, none of them are explicitly callaed either within the class definition or outside.\n",
    "\n",
    "REMEMBER: The `Python Interpreter` is the only most suitable & frequent callaer of the special `__dunder__` **methods**"
   ]
  },
  {
   "cell_type": "code",
   "execution_count": null,
   "id": "automatic-belfast",
   "metadata": {},
   "outputs": [],
   "source": []
  },
  {
   "cell_type": "markdown",
   "id": "induced-armstrong",
   "metadata": {},
   "source": [
    "## String Representation"
   ]
  },
  {
   "cell_type": "markdown",
   "id": "animal-brooks",
   "metadata": {},
   "source": [
    "### The `__repr__` special **method** is called by the `repr` builtin to get the string representation"
   ]
  },
  {
   "cell_type": "markdown",
   "id": "exempt-round",
   "metadata": {},
   "source": [
    "#### `%r`, `!r` placeholders in the classic string-formatter calls `repr` which in turn calls the `__repr__` method"
   ]
  },
  {
   "cell_type": "markdown",
   "id": "continent-profit",
   "metadata": {},
   "source": [
    "### The string returned by the `repr` MUST BE UNAMBIGOUS & if necessary should match the source-code necesary to recreate the object being represented."
   ]
  },
  {
   "cell_type": "markdown",
   "id": "liberal-swift",
   "metadata": {},
   "source": [
    "#### Constrast `__repr__` with `__str__` which is called by the `str()` constructor and implicitly used by the `print` **function**.\n",
    "\n",
    "`__str__` should return a string suitable for display to end-users\n",
    "\n",
    "If only one of these two methods is implemented; `__repr__` is called as a fallback."
   ]
  },
  {
   "cell_type": "code",
   "execution_count": null,
   "id": "thermal-screening",
   "metadata": {},
   "outputs": [],
   "source": []
  },
  {
   "cell_type": "markdown",
   "id": "commercial-plymouth",
   "metadata": {},
   "source": [
    "## Arithmetic Operators: ` + `, ` * `  i.e. `__add__` and `__mul__` methods"
   ]
  },
  {
   "cell_type": "markdown",
   "id": "blessed-establishment",
   "metadata": {},
   "source": [
    "### `infix operators`: creates a new object without touching their operands"
   ]
  },
  {
   "cell_type": "code",
   "execution_count": null,
   "id": "twelve-special",
   "metadata": {},
   "outputs": [],
   "source": []
  },
  {
   "cell_type": "markdown",
   "id": "accepted-reader",
   "metadata": {},
   "source": [
    "## Boolean value for a custom type"
   ]
  },
  {
   "cell_type": "markdown",
   "id": "false-adaptation",
   "metadata": {},
   "source": [
    "### `bool(my_obj)` calls `my_obj.__bool__()` and uses the result"
   ]
  },
  {
   "cell_type": "markdown",
   "id": "connected-navigator",
   "metadata": {},
   "source": [
    "#### If `__bool__` is not implemented, Python tries to invoke `my_obj.__len__()` & if it returns `0` then `bool` returns `False` else it returns `True`"
   ]
  },
  {
   "cell_type": "markdown",
   "id": "fewer-irrigation",
   "metadata": {},
   "source": [
    "#### By default, instances of `user-defined` classes are considered `truthy` unless `__bool__` or `__len__` is defined."
   ]
  },
  {
   "cell_type": "markdown",
   "id": "horizontal-finger",
   "metadata": {},
   "source": [
    "#### To determine whether the value `my_obj` is `truthy` or `falsy`; python applies `bool(x)` which always return `True` or `False`"
   ]
  },
  {
   "cell_type": "code",
   "execution_count": 55,
   "id": "comparative-makeup",
   "metadata": {},
   "outputs": [],
   "source": [
    "## A faster way to implement Vector.__bool__()\n",
    "##\n",
    "\n",
    "class Vector:\n",
    "    ## .... other methods\n",
    "    ## ....\n",
    "    \n",
    "    def __bool__(self):\n",
    "        return bool(self.x or self.y)\n",
    "    "
   ]
  },
  {
   "cell_type": "markdown",
   "id": "distant-airline",
   "metadata": {},
   "source": [
    "### `x or y` evaluates to `x` if its `truthy`; otherwise the result is `y` whatever that is"
   ]
  },
  {
   "cell_type": "code",
   "execution_count": null,
   "id": "hazardous-listening",
   "metadata": {},
   "outputs": [],
   "source": []
  },
  {
   "cell_type": "markdown",
   "id": "robust-chrome",
   "metadata": {},
   "source": [
    "## Overview of `__dunder__` special (magic) methods"
   ]
  },
  {
   "cell_type": "code",
   "execution_count": 98,
   "id": "inappropriate-wilderness",
   "metadata": {},
   "outputs": [],
   "source": [
    "import pandas as pd\n",
    "pd.set_option('display.max_colwidth', None)"
   ]
  },
  {
   "cell_type": "code",
   "execution_count": 99,
   "id": "impaired-albania",
   "metadata": {},
   "outputs": [],
   "source": [
    "dataframe = pd.DataFrame(columns=[\"category\", \"method_names\"])"
   ]
  },
  {
   "cell_type": "code",
   "execution_count": 100,
   "id": "clean-distribution",
   "metadata": {},
   "outputs": [
    {
     "data": {
      "text/html": [
       "<div>\n",
       "<style scoped>\n",
       "    .dataframe tbody tr th:only-of-type {\n",
       "        vertical-align: middle;\n",
       "    }\n",
       "\n",
       "    .dataframe tbody tr th {\n",
       "        vertical-align: top;\n",
       "    }\n",
       "\n",
       "    .dataframe thead th {\n",
       "        text-align: right;\n",
       "    }\n",
       "</style>\n",
       "<table border=\"1\" class=\"dataframe\">\n",
       "  <thead>\n",
       "    <tr style=\"text-align: right;\">\n",
       "      <th></th>\n",
       "      <th>category</th>\n",
       "      <th>method_names</th>\n",
       "    </tr>\n",
       "  </thead>\n",
       "  <tbody>\n",
       "    <tr>\n",
       "      <th>0</th>\n",
       "      <td>string / bytes representation</td>\n",
       "      <td>[__repr__, __str__, __format__, __bytes__]</td>\n",
       "    </tr>\n",
       "    <tr>\n",
       "      <th>1</th>\n",
       "      <td>conversion to number</td>\n",
       "      <td>[__abs__, __bool__, __complex__, __int__, __float__, __hash__, __index__]</td>\n",
       "    </tr>\n",
       "    <tr>\n",
       "      <th>2</th>\n",
       "      <td>emulating collections</td>\n",
       "      <td>[__len__, __getitem__, __setitem__, __delitem__, __contains__]</td>\n",
       "    </tr>\n",
       "    <tr>\n",
       "      <th>3</th>\n",
       "      <td>iteration</td>\n",
       "      <td>[__iter__, __reversed__, __next__]</td>\n",
       "    </tr>\n",
       "    <tr>\n",
       "      <th>4</th>\n",
       "      <td>emulating callables</td>\n",
       "      <td>[__call__]</td>\n",
       "    </tr>\n",
       "    <tr>\n",
       "      <th>5</th>\n",
       "      <td>context managers</td>\n",
       "      <td>[__enter__, __exit__]</td>\n",
       "    </tr>\n",
       "    <tr>\n",
       "      <th>6</th>\n",
       "      <td>instance creation &amp; desctruction</td>\n",
       "      <td>[__new__, __init__, __del__]</td>\n",
       "    </tr>\n",
       "    <tr>\n",
       "      <th>7</th>\n",
       "      <td>attribute management</td>\n",
       "      <td>[__getattr__, __getattribute__, __setattr__, __delattr__, __dir__]</td>\n",
       "    </tr>\n",
       "    <tr>\n",
       "      <th>8</th>\n",
       "      <td>attribute descriptors</td>\n",
       "      <td>[__get__, __set__, __delete__]</td>\n",
       "    </tr>\n",
       "    <tr>\n",
       "      <th>9</th>\n",
       "      <td>class services</td>\n",
       "      <td>[__prepare__, __instancecheck__, __subclasscheck__]</td>\n",
       "    </tr>\n",
       "  </tbody>\n",
       "</table>\n",
       "</div>"
      ],
      "text/plain": [
       "                           category  \\\n",
       "0     string / bytes representation   \n",
       "1              conversion to number   \n",
       "2             emulating collections   \n",
       "3                         iteration   \n",
       "4               emulating callables   \n",
       "5                  context managers   \n",
       "6  instance creation & desctruction   \n",
       "7              attribute management   \n",
       "8             attribute descriptors   \n",
       "9                    class services   \n",
       "\n",
       "                                                                method_names  \n",
       "0                                 [__repr__, __str__, __format__, __bytes__]  \n",
       "1  [__abs__, __bool__, __complex__, __int__, __float__, __hash__, __index__]  \n",
       "2             [__len__, __getitem__, __setitem__, __delitem__, __contains__]  \n",
       "3                                         [__iter__, __reversed__, __next__]  \n",
       "4                                                                 [__call__]  \n",
       "5                                                      [__enter__, __exit__]  \n",
       "6                                               [__new__, __init__, __del__]  \n",
       "7         [__getattr__, __getattribute__, __setattr__, __delattr__, __dir__]  \n",
       "8                                             [__get__, __set__, __delete__]  \n",
       "9                        [__prepare__, __instancecheck__, __subclasscheck__]  "
      ]
     },
     "execution_count": 100,
     "metadata": {},
     "output_type": "execute_result"
    }
   ],
   "source": [
    "special_method_names_wo_operator = [\n",
    "    (\"string / bytes representation\", [\"__repr__\", \n",
    "                                       \"__str__\", \n",
    "                                       \"__format__\", \n",
    "                                       \"__bytes__\",\n",
    "                                      ]),\n",
    "    (\"conversion to number\", [\"__abs__\", \n",
    "                              \"__bool__\", \n",
    "                              \"__complex__\", \n",
    "                              \"__int__\", \n",
    "                              \"__float__\", \n",
    "                              \"__hash__\", \n",
    "                              \"__index__\",\n",
    "                             ]),\n",
    "    (\"emulating collections\", [\"__len__\", \n",
    "                               \"__getitem__\", \n",
    "                               \"__setitem__\", \n",
    "                               \"__delitem__\", \n",
    "                               \"__contains__\",\n",
    "                              ]),\n",
    "    (\"iteration\", [\"__iter__\", \n",
    "                   \"__reversed__\", \n",
    "                   \"__next__\",\n",
    "                  ]),\n",
    "    (\"emulating callables\", [\"__call__\"]),\n",
    "    (\"context managers\", [\"__enter__\", \n",
    "                          \"__exit__\",\n",
    "                         ]),\n",
    "    (\"instance creation & desctruction\", [\"__new__\", \n",
    "                                          \"__init__\", \n",
    "                                          \"__del__\",\n",
    "                                         ]),\n",
    "    (\"attribute management\", [\"__getattr__\", \n",
    "                              \"__getattribute__\", \n",
    "                              \"__setattr__\", \n",
    "                              \"__delattr__\", \n",
    "                              \"__dir__\",\n",
    "                             ]),\n",
    "    (\"attribute descriptors\", [\"__get__\", \n",
    "                               \"__set__\", \n",
    "                               \"__delete__\",\n",
    "                              ]),\n",
    "    (\"class services\", [\"__prepare__\", \n",
    "                        \"__instancecheck__\", \n",
    "                        \"__subclasscheck__\",\n",
    "                       ]),\n",
    "]\n",
    "\n",
    "df_special_methods = pd.DataFrame(special_method_names_wo_operator, columns=[\"category\", \"method_names\"])\n",
    "df_special_methods"
   ]
  },
  {
   "cell_type": "code",
   "execution_count": 102,
   "id": "expected-wayne",
   "metadata": {},
   "outputs": [
    {
     "data": {
      "text/html": [
       "<div>\n",
       "<style scoped>\n",
       "    .dataframe tbody tr th:only-of-type {\n",
       "        vertical-align: middle;\n",
       "    }\n",
       "\n",
       "    .dataframe tbody tr th {\n",
       "        vertical-align: top;\n",
       "    }\n",
       "\n",
       "    .dataframe thead th {\n",
       "        text-align: right;\n",
       "    }\n",
       "</style>\n",
       "<table border=\"1\" class=\"dataframe\">\n",
       "  <thead>\n",
       "    <tr style=\"text-align: right;\">\n",
       "      <th></th>\n",
       "      <th>category</th>\n",
       "      <th>method_names_and_operators</th>\n",
       "    </tr>\n",
       "  </thead>\n",
       "  <tbody>\n",
       "    <tr>\n",
       "      <th>0</th>\n",
       "      <td>unary numeric operators</td>\n",
       "      <td>[__neg__ ( - ) , __pos__ ( + ) , __abs__ ( abs() )]</td>\n",
       "    </tr>\n",
       "    <tr>\n",
       "      <th>1</th>\n",
       "      <td>rich comparision operators</td>\n",
       "      <td>[__lt__ ( &lt; ) , __le__ ( &lt;= ) , __eq__ ( == ) , __ne__ ( != ) , __gt__ ( &gt; ) , __ge__ ( &gt;= ) ]</td>\n",
       "    </tr>\n",
       "    <tr>\n",
       "      <th>2</th>\n",
       "      <td>arithmetic operators</td>\n",
       "      <td>[__add__ ( + ) , __sub__ ( - ) , __mul__ ( * ) , __truediv__ ( / ) , __floordiv__ ( // ) , __mod__ ( % ) , __divmod__ ( divmod() ) , __pow__ ( **  or pow() ) , __round__ ( round() ) ]</td>\n",
       "    </tr>\n",
       "    <tr>\n",
       "      <th>3</th>\n",
       "      <td>REVERSED arithmetic operators</td>\n",
       "      <td>[__radd__ , __rsub__ , __rmul__ , __rtruediv__ , __rfloordiv__ , __rmod__ , __rdivmod__ , __rpow__ ]</td>\n",
       "    </tr>\n",
       "    <tr>\n",
       "      <th>4</th>\n",
       "      <td>AUGMENTED assignment arithmetic operators</td>\n",
       "      <td>[__iadd__ , __isub__ , __imul__ , __itruediv__ , __ifloordiv__ , __imod__ , __idivmod__ , __ipow__ ]</td>\n",
       "    </tr>\n",
       "    <tr>\n",
       "      <th>5</th>\n",
       "      <td>bitwise operators</td>\n",
       "      <td>[__invert__ ( ~ ) , __lshift__ ( &lt;&lt; ) , __rshift__ ( &gt;&gt; ) , __and__ ( &amp; ) , __or__ ( | ) , __xor__ ( ^ ) ]</td>\n",
       "    </tr>\n",
       "    <tr>\n",
       "      <th>6</th>\n",
       "      <td>REVERSED bitwise operators</td>\n",
       "      <td>[__rlshift__ , __rrshift__ , __rand__ , __ror__ , __rxor__ ]</td>\n",
       "    </tr>\n",
       "    <tr>\n",
       "      <th>7</th>\n",
       "      <td>AUGMENTED assignment bitwise operators</td>\n",
       "      <td>[__ilshift__ , __irshift__ , __iand__ , __ior__ , __ixor__ ]</td>\n",
       "    </tr>\n",
       "  </tbody>\n",
       "</table>\n",
       "</div>"
      ],
      "text/plain": [
       "                                    category  \\\n",
       "0                    unary numeric operators   \n",
       "1                 rich comparision operators   \n",
       "2                       arithmetic operators   \n",
       "3              REVERSED arithmetic operators   \n",
       "4  AUGMENTED assignment arithmetic operators   \n",
       "5                          bitwise operators   \n",
       "6                 REVERSED bitwise operators   \n",
       "7     AUGMENTED assignment bitwise operators   \n",
       "\n",
       "                                                                                                                                                                method_names_and_operators  \n",
       "0                                                                                                                                      [__neg__ ( - ) , __pos__ ( + ) , __abs__ ( abs() )]  \n",
       "1                                                                                           [__lt__ ( < ) , __le__ ( <= ) , __eq__ ( == ) , __ne__ ( != ) , __gt__ ( > ) , __ge__ ( >= ) ]  \n",
       "2  [__add__ ( + ) , __sub__ ( - ) , __mul__ ( * ) , __truediv__ ( / ) , __floordiv__ ( // ) , __mod__ ( % ) , __divmod__ ( divmod() ) , __pow__ ( **  or pow() ) , __round__ ( round() ) ]  \n",
       "3                                                                                     [__radd__ , __rsub__ , __rmul__ , __rtruediv__ , __rfloordiv__ , __rmod__ , __rdivmod__ , __rpow__ ]  \n",
       "4                                                                                     [__iadd__ , __isub__ , __imul__ , __itruediv__ , __ifloordiv__ , __imod__ , __idivmod__ , __ipow__ ]  \n",
       "5                                                                               [__invert__ ( ~ ) , __lshift__ ( << ) , __rshift__ ( >> ) , __and__ ( & ) , __or__ ( | ) , __xor__ ( ^ ) ]  \n",
       "6                                                                                                                             [__rlshift__ , __rrshift__ , __rand__ , __ror__ , __rxor__ ]  \n",
       "7                                                                                                                             [__ilshift__ , __irshift__ , __iand__ , __ior__ , __ixor__ ]  "
      ]
     },
     "execution_count": 102,
     "metadata": {},
     "output_type": "execute_result"
    }
   ],
   "source": [
    "special_method_names_and_operators = [\n",
    "    (\"unary numeric operators\", [\"__neg__ ( - ) \", \n",
    "                                 \"__pos__ ( + ) \", \n",
    "                                 \"__abs__ ( abs() )\",\n",
    "                                ]),\n",
    "    (\"rich comparision operators\", [\"__lt__ ( < ) \", \n",
    "                                    \"__le__ ( <= ) \",\n",
    "                                    \"__eq__ ( == ) \",\n",
    "                                    \"__ne__ ( != ) \",\n",
    "                                    \"__gt__ ( > ) \",\n",
    "                                    \"__ge__ ( >= ) \",\n",
    "                                   ]),\n",
    "    (\"arithmetic operators\", [\"__add__ ( + ) \",\n",
    "                              \"__sub__ ( - ) \",\n",
    "                              \"__mul__ ( * ) \",\n",
    "                              \"__truediv__ ( / ) \",\n",
    "                              \"__floordiv__ ( // ) \",\n",
    "                              \"__mod__ ( % ) \",\n",
    "                              \"__divmod__ ( divmod() ) \",\n",
    "                              \"__pow__ ( **  or pow() ) \",\n",
    "                              \"__round__ ( round() ) \",\n",
    "                             ]),\n",
    "    (\"REVERSED arithmetic operators\", [\"__radd__ \", \n",
    "                                       \"__rsub__ \", \n",
    "                                       \"__rmul__ \",\n",
    "                                       \"__rtruediv__ \",\n",
    "                                       \"__rfloordiv__ \",\n",
    "                                       \"__rmod__ \",\n",
    "                                       \"__rdivmod__ \",\n",
    "                                       \"__rpow__ \",\n",
    "                                      ]),\n",
    "    (\"AUGMENTED assignment arithmetic operators\", [\"__iadd__ \",\n",
    "                                                   \"__isub__ \",\n",
    "                                                   \"__imul__ \",\n",
    "                                                   \"__itruediv__ \",\n",
    "                                                   \"__ifloordiv__ \",\n",
    "                                                   \"__imod__ \",\n",
    "                                                   \"__idivmod__ \",\n",
    "                                                   \"__ipow__ \",\n",
    "                                                  ]),\n",
    "    (\"bitwise operators\", [\"__invert__ ( ~ ) \",\n",
    "                           \"__lshift__ ( << ) \",\n",
    "                           \"__rshift__ ( >> ) \",\n",
    "                           \"__and__ ( & ) \",\n",
    "                           \"__or__ ( | ) \",\n",
    "                           \"__xor__ ( ^ ) \",\n",
    "                          ]),\n",
    "    (\"REVERSED bitwise operators\", [\"__rlshift__ \",\n",
    "                                    \"__rrshift__ \",\n",
    "                                    \"__rand__ \",\n",
    "                                    \"__ror__ \",\n",
    "                                    \"__rxor__ \",\n",
    "                                   ]),\n",
    "    (\"AUGMENTED assignment bitwise operators\", [\"__ilshift__ \",\n",
    "                                                \"__irshift__ \",\n",
    "                                                \"__iand__ \",\n",
    "                                                \"__ior__ \",\n",
    "                                                \"__ixor__ \",\n",
    "                                               ]),\n",
    "]\n",
    "\n",
    "df_special_methods_and_operators = pd.DataFrame(special_method_names_and_operators, columns=[\"category\", \"method_names_and_operators\"])\n",
    "df_special_methods_and_operators"
   ]
  },
  {
   "cell_type": "code",
   "execution_count": null,
   "id": "chief-farming",
   "metadata": {},
   "outputs": [],
   "source": []
  },
  {
   "cell_type": "markdown",
   "id": "pleasant-indian",
   "metadata": {},
   "source": [
    "### REVERSED operators are fallbacks used when the operands are swapped (`b * a` instead of `a * b`)"
   ]
  },
  {
   "cell_type": "markdown",
   "id": "diverse-concert",
   "metadata": {},
   "source": [
    "### AUGMENTED operators are shortcuts combining `infix op.` & `variable assignment` (`a = a+b` becomes `a += b`)"
   ]
  },
  {
   "cell_type": "code",
   "execution_count": null,
   "id": "armed-demonstration",
   "metadata": {},
   "outputs": [],
   "source": []
  },
  {
   "cell_type": "markdown",
   "id": "seeing-bennett",
   "metadata": {},
   "source": [
    "## Why `len` is NOT a method?"
   ]
  },
  {
   "cell_type": "markdown",
   "id": "specialized-footage",
   "metadata": {},
   "source": [
    "Because `Practicality beats purity` @raymondh @zen_of_python\n",
    "\n",
    "`Special cases aren't special enogh to beaak the rules` @zen_of_python"
   ]
  },
  {
   "cell_type": "code",
   "execution_count": null,
   "id": "united-revolution",
   "metadata": {},
   "outputs": [],
   "source": []
  }
 ],
 "metadata": {
  "kernelspec": {
   "display_name": "Python 3",
   "language": "python",
   "name": "python3"
  },
  "language_info": {
   "codemirror_mode": {
    "name": "ipython",
    "version": 3
   },
   "file_extension": ".py",
   "mimetype": "text/x-python",
   "name": "python",
   "nbconvert_exporter": "python",
   "pygments_lexer": "ipython3",
   "version": "3.7.4"
  },
  "toc-autonumbering": true,
  "toc-showcode": false
 },
 "nbformat": 4,
 "nbformat_minor": 5
}
