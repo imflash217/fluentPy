{
 "cells": [
  {
   "cell_type": "code",
   "execution_count": 1,
   "id": "welcome-limitation",
   "metadata": {},
   "outputs": [
    {
     "data": {
      "text/html": [
       "<style>body {\n",
       "    margin: 0;\n",
       "    font-family: lexend;\n",
       "}\n",
       "table.dataframe {\n",
       "    border-collapse: collapse;\n",
       "    border: none;\n",
       "}\n",
       "table.dataframe tr {\n",
       "    border: none;\n",
       "}\n",
       "table.dataframe td, table.dataframe th {\n",
       "    margin: 0;\n",
       "    border: 1px solid white;\n",
       "    padding-left: 0.25em;\n",
       "    padding-right: 0.25em;\n",
       "}\n",
       "table.dataframe th:not(:empty) {\n",
       "    background-color: #fec;\n",
       "    text-align: left;\n",
       "    font-weight: normal;\n",
       "}\n",
       "table.dataframe tr:nth-child(2) th:empty {\n",
       "    border-left: none;\n",
       "    border-right: 1px dashed #888;\n",
       "}\n",
       "table.dataframe td {\n",
       "    border: 2px solid #ccf;\n",
       "    background-color: #f4f4ff;\n",
       "}\n",
       "h1 {\n",
       "    color: white;\n",
       "    background: rgb(2,0,36);\n",
       "    background: linear-gradient(90deg, rgba(2,0,36,1) 0%, rgba(238,65,79,1) 42%, rgba(0,84,255,1) 81%); \n",
       "    padding: 0.25em;\n",
       "}\n",
       "\n",
       "h3 {\n",
       "    color: white;\n",
       "    background-color: black;\n",
       "    padding: 0.25em;\n",
       "}\n",
       "\n",
       "h2 {\n",
       "    color: white;\n",
       "    background-color: #fc0362;\n",
       "    padding: 0.25em;\n",
       "}\n",
       "</style>"
      ],
      "text/plain": [
       "<IPython.core.display.HTML object>"
      ]
     },
     "execution_count": 1,
     "metadata": {},
     "output_type": "execute_result"
    }
   ],
   "source": [
    "from IPython.core.display import HTML\n",
    "css = open('notebook_css/style-table.css').read() + open('notebook_css/style-notebook.css').read()\n",
    "HTML('<style>{}</style>'.format(css))"
   ]
  },
  {
   "cell_type": "markdown",
   "id": "static-england",
   "metadata": {},
   "source": [
    "Author: @imflash217"
   ]
  },
  {
   "cell_type": "markdown",
   "id": "wireless-adelaide",
   "metadata": {},
   "source": [
    "#### Further Reading Books:\n",
    "1. "
   ]
  },
  {
   "cell_type": "markdown",
   "id": "atomic-building",
   "metadata": {},
   "source": [
    "# An array of sequences"
   ]
  },
  {
   "cell_type": "code",
   "execution_count": null,
   "id": "descending-accounting",
   "metadata": {},
   "outputs": [],
   "source": []
  },
  {
   "cell_type": "markdown",
   "id": "focused-token",
   "metadata": {},
   "source": [
    "## Overview of `builtin` SEQUENCES"
   ]
  },
  {
   "cell_type": "markdown",
   "id": "junior-front",
   "metadata": {},
   "source": [
    "* **`Container Sequences`**: `list`, `tuple`, `collections.deque`  can hold items of **different types**\n",
    "\n",
    "* **`Flat Sequences`**: `str`, `bytes`, `bytearray`, `memoryview`, `array.array` can hold item sof **ONLY one type**`\n",
    "\n",
    "* **`Mutable Sequences`**: `list`, `bytearray`, `array.array`, `collections.deque`, `memoryview`\n",
    "\n",
    "* **`IMMUTABLE Sequences`**: `tuple`, `str`, `bytes`"
   ]
  },
  {
   "cell_type": "markdown",
   "id": "ahead-collector",
   "metadata": {},
   "source": [
    "#### **`Container Sequences`** hold `references` to objects they contain, which may be of any type"
   ]
  },
  {
   "cell_type": "markdown",
   "id": "satellite-brain",
   "metadata": {},
   "source": [
    "#### **`Flat Sequences`** PHYSICALLY store the value of each item within its own memory space. "
   ]
  },
  {
   "cell_type": "markdown",
   "id": "fatty-hours",
   "metadata": {},
   "source": [
    "### `list` is MUTABLE & mixed-type sequence"
   ]
  },
  {
   "cell_type": "code",
   "execution_count": null,
   "id": "accredited-insert",
   "metadata": {},
   "outputs": [],
   "source": []
  },
  {
   "cell_type": "markdown",
   "id": "after-leave",
   "metadata": {},
   "source": [
    "## `List Comprehensions` & `Generator Expressions`"
   ]
  },
  {
   "cell_type": "markdown",
   "id": "acting-olive",
   "metadata": {},
   "source": [
    "#### Mastering `list-comprehensions` opens the door to `generator-expressions`; which can produce elements to fill-up sequences of any type"
   ]
  },
  {
   "cell_type": "markdown",
   "id": "angry-marriage",
   "metadata": {},
   "source": [
    "If you wan tot build a `list`, then a quick & efficient way to build it is **`list comprehensions`**\n",
    "\n",
    "If you want to build any other kinds of sequences, then the best way is **`generator expressions`**"
   ]
  },
  {
   "cell_type": "code",
   "execution_count": 6,
   "id": "touched-olive",
   "metadata": {},
   "outputs": [
    {
     "name": "stdout",
     "output_type": "stream",
     "text": [
      "$\n",
      "#\n",
      "🎯\n",
      "🙂\n",
      "🎲\n",
      "🤗\n",
      "ॐ\n"
     ]
    },
    {
     "data": {
      "text/plain": [
       "[36, 35, 127919, 128578, 127922, 129303, 2384]"
      ]
     },
     "execution_count": 6,
     "metadata": {},
     "output_type": "execute_result"
    }
   ],
   "source": [
    "## example_2_1.py\n",
    "## build a list of Unicode codepoints from a string\n",
    "\n",
    "symbols = \"$#🎯🙂🎲🤗ॐ\"\n",
    "codes = []\n",
    "for symbol in symbols:\n",
    "    codes.append(ord(symbol))\n",
    "    print(symbol)\n",
    "\n",
    "codes"
   ]
  },
  {
   "cell_type": "code",
   "execution_count": 10,
   "id": "sporting-denial",
   "metadata": {},
   "outputs": [
    {
     "name": "stdout",
     "output_type": "stream",
     "text": [
      "$#🎯🙂🎲🤗ॐ\n"
     ]
    },
    {
     "data": {
      "text/plain": [
       "[36, 35, 127919, 128578, 127922, 129303, 2384]"
      ]
     },
     "execution_count": 10,
     "metadata": {},
     "output_type": "execute_result"
    }
   ],
   "source": [
    "## example_2_2.py\n",
    "## build a list of Unicode codepoints from a string using LIST-COMPREHENSION\n",
    "\n",
    "symbols = \"$#🎯🙂🎲🤗ॐ\"\n",
    "codes = [ord(symbol) for symbol in symbols]\n",
    "\n",
    "print(symbols)\n",
    "codes"
   ]
  },
  {
   "cell_type": "code",
   "execution_count": null,
   "id": "prospective-spare",
   "metadata": {},
   "outputs": [],
   "source": []
  },
  {
   "cell_type": "markdown",
   "id": "younger-applicant",
   "metadata": {},
   "source": [
    "#### Listcomps no  longer leak variables"
   ]
  },
  {
   "cell_type": "code",
   "execution_count": 12,
   "id": "acute-charlotte",
   "metadata": {},
   "outputs": [
    {
     "name": "stdout",
     "output_type": "stream",
     "text": [
      "ABC\n",
      "[65, 66, 67]\n"
     ]
    }
   ],
   "source": [
    "\n",
    "x = \"ABC\"\n",
    "dummy = [ord(x) for x in x]\n",
    "\n",
    "print(x)                         ## <- the value of x is preserved\n",
    "print(dummy)                     ## <- the list comprehension produces the expected list"
   ]
  },
  {
   "cell_type": "code",
   "execution_count": null,
   "id": "typical-conversion",
   "metadata": {},
   "outputs": [],
   "source": []
  },
  {
   "cell_type": "markdown",
   "id": "parallel-drilling",
   "metadata": {},
   "source": [
    "### `list-comprehension` v/s `map()` & `filter()`"
   ]
  },
  {
   "cell_type": "markdown",
   "id": "monetary-yugoslavia",
   "metadata": {},
   "source": [
    "* List-comprehensions do everything the `map` and `filter` functions do."
   ]
  },
  {
   "cell_type": "code",
   "execution_count": 15,
   "id": "vertical-assist",
   "metadata": {},
   "outputs": [],
   "source": [
    "## example_2_3.py\n",
    "## the same list built by a list-comprehension & map/filter functions\n",
    "\n",
    "symbols = \"$#🎯🙂🎲🤗ॐ\""
   ]
  },
  {
   "cell_type": "code",
   "execution_count": 20,
   "id": "married-laptop",
   "metadata": {},
   "outputs": [
    {
     "name": "stdout",
     "output_type": "stream",
     "text": [
      "[127919, 128578, 127922, 129303, 2384]\n",
      "CPU times: user 316 µs, sys: 209 µs, total: 525 µs\n",
      "Wall time: 401 µs\n"
     ]
    }
   ],
   "source": [
    "%%time\n",
    "\n",
    "beyond_ascii_listcomp = [ord(s) for s in symbols if ord(s) > 127]\n",
    "\n",
    "print(beyond_ascii_listcomp)"
   ]
  },
  {
   "cell_type": "code",
   "execution_count": 21,
   "id": "historical-advance",
   "metadata": {},
   "outputs": [
    {
     "name": "stdout",
     "output_type": "stream",
     "text": [
      "[127919, 128578, 127922, 129303, 2384]\n",
      "CPU times: user 179 µs, sys: 74 µs, total: 253 µs\n",
      "Wall time: 232 µs\n"
     ]
    }
   ],
   "source": [
    "%%time\n",
    "\n",
    "beyond_ascii_map_filter = list(filter(lambda c: c>127, map(ord, symbols)))\n",
    "\n",
    "print(beyond_ascii_map_filter)"
   ]
  },
  {
   "cell_type": "code",
   "execution_count": null,
   "id": "existing-jewelry",
   "metadata": {},
   "outputs": [],
   "source": []
  },
  {
   "cell_type": "markdown",
   "id": "dutch-delivery",
   "metadata": {},
   "source": [
    "### Cartesian Products"
   ]
  },
  {
   "cell_type": "markdown",
   "id": "arranged-christianity",
   "metadata": {},
   "source": [
    "List-comprehension (aka `listcomp`) can generate cartesian product of two or more iterables.\n",
    "\n",
    "The items that make up the cartesian product are tuples made from items from every input iterable.\n",
    "\n",
    "The resulting list has a length equal to the lengths of the input iterables multiplied."
   ]
  },
  {
   "cell_type": "code",
   "execution_count": 22,
   "id": "incorporate-catalyst",
   "metadata": {},
   "outputs": [
    {
     "data": {
      "text/plain": [
       "[('black', 'S'),\n",
       " ('black', 'M'),\n",
       " ('black', 'L'),\n",
       " ('white', 'S'),\n",
       " ('white', 'M'),\n",
       " ('white', 'L')]"
      ]
     },
     "execution_count": 22,
     "metadata": {},
     "output_type": "execute_result"
    }
   ],
   "source": [
    "## example_2_4.py\n",
    "## cartesian product using a list comprehension\n",
    "\n",
    "colors = [\"black\", \"white\"]\n",
    "sizes = [\"S\", \"M\", \"L\"]\n",
    "\n",
    "## arranged by \"color\" first then \"size\"\n",
    "tshirts = [(color, size) for color in colors for size in sizes]\n",
    "\n",
    "tshirts"
   ]
  },
  {
   "cell_type": "code",
   "execution_count": 23,
   "id": "banner-parallel",
   "metadata": {},
   "outputs": [
    {
     "data": {
      "text/plain": [
       "[('black', 'S'),\n",
       " ('black', 'M'),\n",
       " ('black', 'L'),\n",
       " ('white', 'S'),\n",
       " ('white', 'M'),\n",
       " ('white', 'L')]"
      ]
     },
     "execution_count": 23,
     "metadata": {},
     "output_type": "execute_result"
    }
   ],
   "source": [
    "## arranged by \"color\" first then \"size\"\n",
    "tshirts = [(color, size) for color in colors \n",
    "                         for size in sizes]\n",
    "\n",
    "tshirts"
   ]
  },
  {
   "cell_type": "code",
   "execution_count": 25,
   "id": "challenging-butter",
   "metadata": {},
   "outputs": [
    {
     "name": "stdout",
     "output_type": "stream",
     "text": [
      "('black', 'S')\n",
      "('black', 'M')\n",
      "('black', 'L')\n",
      "('white', 'S')\n",
      "('white', 'M')\n",
      "('white', 'L')\n"
     ]
    }
   ],
   "source": [
    "## arranged by \"color\" first then \"size\"\n",
    "for color in colors:\n",
    "    for size in sizes:\n",
    "        print((color, size))"
   ]
  },
  {
   "cell_type": "code",
   "execution_count": 27,
   "id": "fifty-pickup",
   "metadata": {},
   "outputs": [
    {
     "data": {
      "text/plain": [
       "[('black', 'S'),\n",
       " ('white', 'S'),\n",
       " ('black', 'M'),\n",
       " ('white', 'M'),\n",
       " ('black', 'L'),\n",
       " ('white', 'L')]"
      ]
     },
     "execution_count": 27,
     "metadata": {},
     "output_type": "execute_result"
    }
   ],
   "source": [
    "## NOTE: arranged by \"size\" first then \"color\"\n",
    "##\n",
    "tshirts = [(color, size) for size in sizes \n",
    "                         for color in colors]\n",
    "\n",
    "tshirts"
   ]
  },
  {
   "cell_type": "code",
   "execution_count": null,
   "id": "political-device",
   "metadata": {},
   "outputs": [],
   "source": []
  },
  {
   "cell_type": "markdown",
   "id": "spread-cause",
   "metadata": {},
   "source": [
    "### Generator Expressions _aka_ `genexps`"
   ]
  },
  {
   "cell_type": "code",
   "execution_count": null,
   "id": "tired-gentleman",
   "metadata": {},
   "outputs": [],
   "source": []
  },
  {
   "cell_type": "code",
   "execution_count": null,
   "id": "practical-bernard",
   "metadata": {},
   "outputs": [],
   "source": []
  },
  {
   "cell_type": "markdown",
   "id": "divided-genetics",
   "metadata": {},
   "source": [
    "## `Tuples` are not just immutable lists"
   ]
  },
  {
   "cell_type": "code",
   "execution_count": null,
   "id": "narrow-baptist",
   "metadata": {},
   "outputs": [],
   "source": []
  },
  {
   "cell_type": "markdown",
   "id": "rational-knock",
   "metadata": {},
   "source": [
    "### Tuples as records"
   ]
  },
  {
   "cell_type": "code",
   "execution_count": 29,
   "id": "photographic-depth",
   "metadata": {},
   "outputs": [],
   "source": [
    "## example_2_7.py\n",
    "## tuples used as records\n",
    "\n",
    "lax_corrdinates = (33.9425, -118.408056)\n",
    "city, year, population, exchange, area = (\"Tokyo\", 2003, 32450, 0.66, 8014)\n",
    "traveler_ids = [(\"USA\", \"31195855\"), (\"BRA\", \"CE342567\"), (\"ESP\", \"XDA205856\")]"
   ]
  },
  {
   "cell_type": "code",
   "execution_count": 30,
   "id": "tracked-rabbit",
   "metadata": {},
   "outputs": [
    {
     "name": "stdout",
     "output_type": "stream",
     "text": [
      "BRA / CE342567\n",
      "ESP / XDA205856\n",
      "USA / 31195855\n"
     ]
    }
   ],
   "source": [
    "for passport in sorted(traveler_ids):\n",
    "    print(\"%s / %s\" % passport)"
   ]
  },
  {
   "cell_type": "code",
   "execution_count": 31,
   "id": "stuffed-synthetic",
   "metadata": {},
   "outputs": [
    {
     "name": "stdout",
     "output_type": "stream",
     "text": [
      "USA\n",
      "BRA\n",
      "ESP\n"
     ]
    }
   ],
   "source": [
    "for country, _ in traveler_ids:\n",
    "    print(country)"
   ]
  },
  {
   "cell_type": "markdown",
   "id": "based-render",
   "metadata": {},
   "source": [
    "### Tuple Unpacking"
   ]
  },
  {
   "cell_type": "markdown",
   "id": "extreme-rehabilitation",
   "metadata": {},
   "source": [
    "#### An elegant application of tuple unpacking is **swapping** the values of variables w/o using. a temp variable\n",
    "\n",
    "```python\n",
    "b, a = a, b\n",
    "```"
   ]
  },
  {
   "cell_type": "markdown",
   "id": "medical-young",
   "metadata": {},
   "source": [
    "#### Prefixing an argument with `*` when calling a function"
   ]
  },
  {
   "cell_type": "code",
   "execution_count": 32,
   "id": "compound-velvet",
   "metadata": {},
   "outputs": [
    {
     "data": {
      "text/plain": [
       "(2, 4)"
      ]
     },
     "execution_count": 32,
     "metadata": {},
     "output_type": "execute_result"
    }
   ],
   "source": [
    "divmod(20, 8)"
   ]
  },
  {
   "cell_type": "code",
   "execution_count": 33,
   "id": "catholic-walker",
   "metadata": {},
   "outputs": [
    {
     "data": {
      "text/plain": [
       "(2, 4)"
      ]
     },
     "execution_count": 33,
     "metadata": {},
     "output_type": "execute_result"
    }
   ],
   "source": [
    "t = (20, 8)\n",
    "divmod(*t)"
   ]
  },
  {
   "cell_type": "code",
   "execution_count": 34,
   "id": "instructional-uganda",
   "metadata": {},
   "outputs": [
    {
     "data": {
      "text/plain": [
       "(2, 4)"
      ]
     },
     "execution_count": 34,
     "metadata": {},
     "output_type": "execute_result"
    }
   ],
   "source": [
    "quotient, remainder = divmod(*t)\n",
    "quotient, remainder"
   ]
  },
  {
   "cell_type": "code",
   "execution_count": 35,
   "id": "subtle-voltage",
   "metadata": {},
   "outputs": [
    {
     "data": {
      "text/plain": [
       "('/home/imflash217/.ssh', 'idrsa.pub')"
      ]
     },
     "execution_count": 35,
     "metadata": {},
     "output_type": "execute_result"
    }
   ],
   "source": [
    "import os\n",
    "root, filename = os.path.split(\"/home/imflash217/.ssh/idrsa.pub\")\n",
    "root, filename"
   ]
  },
  {
   "cell_type": "markdown",
   "id": "human-rouge",
   "metadata": {},
   "source": [
    "#### Using `*` to grab excess items"
   ]
  },
  {
   "cell_type": "code",
   "execution_count": 36,
   "id": "expanded-frank",
   "metadata": {},
   "outputs": [
    {
     "data": {
      "text/plain": [
       "(0, 1, [2, 3, 4])"
      ]
     },
     "execution_count": 36,
     "metadata": {},
     "output_type": "execute_result"
    }
   ],
   "source": [
    "a, b, *rest = range(5)\n",
    "a, b, rest"
   ]
  },
  {
   "cell_type": "code",
   "execution_count": 37,
   "id": "civil-saying",
   "metadata": {},
   "outputs": [
    {
     "data": {
      "text/plain": [
       "(0, 1, [2])"
      ]
     },
     "execution_count": 37,
     "metadata": {},
     "output_type": "execute_result"
    }
   ],
   "source": [
    "a, b, *rest = range(3)\n",
    "a, b, rest"
   ]
  },
  {
   "cell_type": "code",
   "execution_count": 38,
   "id": "precise-warner",
   "metadata": {},
   "outputs": [
    {
     "data": {
      "text/plain": [
       "(0, 1, [])"
      ]
     },
     "execution_count": 38,
     "metadata": {},
     "output_type": "execute_result"
    }
   ],
   "source": [
    "a, b, *rest = range(2)\n",
    "a, b, rest"
   ]
  },
  {
   "cell_type": "code",
   "execution_count": 39,
   "id": "individual-mayor",
   "metadata": {},
   "outputs": [
    {
     "data": {
      "text/plain": [
       "(0, [1, 2], 3, 4)"
      ]
     },
     "execution_count": 39,
     "metadata": {},
     "output_type": "execute_result"
    }
   ],
   "source": [
    "a, *body, c, d = range(5)\n",
    "a, body, c, d"
   ]
  },
  {
   "cell_type": "code",
   "execution_count": 40,
   "id": "interior-sunrise",
   "metadata": {},
   "outputs": [
    {
     "data": {
      "text/plain": [
       "([0, 1], 2, 3, 4)"
      ]
     },
     "execution_count": 40,
     "metadata": {},
     "output_type": "execute_result"
    }
   ],
   "source": [
    "*head, b, c, d = range(5)\n",
    "head, b, c, d"
   ]
  },
  {
   "cell_type": "code",
   "execution_count": null,
   "id": "black-commissioner",
   "metadata": {},
   "outputs": [],
   "source": []
  },
  {
   "cell_type": "markdown",
   "id": "lyric-jackson",
   "metadata": {},
   "source": [
    "### Nested Tuple Unpacking"
   ]
  },
  {
   "cell_type": "markdown",
   "id": "competitive-marriage",
   "metadata": {},
   "source": [
    "For example: `(a, b, (c, d))`"
   ]
  },
  {
   "cell_type": "code",
   "execution_count": 59,
   "id": "prostate-eleven",
   "metadata": {},
   "outputs": [
    {
     "name": "stdout",
     "output_type": "stream",
     "text": [
      "                |   lat.    |   long.  \n",
      "Mexico City     |   19.4333 |  -99.1333\n",
      "New York-Newark |   40.8086 |  -74.0204\n",
      "Sao Paulo       |  -23.5478 |  -46.6358\n"
     ]
    }
   ],
   "source": [
    "## example_2_8.py\n",
    "## unpacking nested tuples to access the longitudes\n",
    "\n",
    "metro_areas = [(\"Tokyo\", \"JP\", 36.933, (35.689722, 139.679245)),\n",
    "               (\"Delhi NCR\", \"IN\", 21.935, (28.613889, 77.208889)),\n",
    "               (\"Mexico City\", \"MX\", 20.142, (19.433333, -99.133333)),\n",
    "               (\"New York-Newark\", \"US\", 20.104, (40.808611, -74.020386)),\n",
    "               (\"Sao Paulo\", \"BR\", 19.649, (-23.547776, -46.635833)),\n",
    "              ]\n",
    "\n",
    "print(f\"{'':15} | {'lat.':^9} | {'long.':^9}\")\n",
    "for name, cc, pop, (lat, long) in metro_areas:\n",
    "    if long <= 0:\n",
    "        print(f\"{name:15} | {lat:9.4f} | {long:9.4f}\")"
   ]
  },
  {
   "cell_type": "code",
   "execution_count": null,
   "id": "manufactured-drink",
   "metadata": {},
   "outputs": [],
   "source": []
  },
  {
   "cell_type": "markdown",
   "id": "scenic-salvation",
   "metadata": {},
   "source": [
    "### Named Tuples"
   ]
  },
  {
   "cell_type": "markdown",
   "id": "timely-appearance",
   "metadata": {},
   "source": [
    "Try to keep the name of the `collections.namedtuple` **instance** and its `typename` same. For eg.: `Card = namedtupel(\"Card\",.....)`"
   ]
  },
  {
   "cell_type": "markdown",
   "id": "young-supplement",
   "metadata": {},
   "source": [
    "The `collections.namedtuple` function is a **factory** that produces subclasses of `tuple` enhanced with field names and a class name -- which helps debugging"
   ]
  },
  {
   "cell_type": "markdown",
   "id": "revised-rochester",
   "metadata": {},
   "source": [
    "Instances of a class build using `collections.namedtuple` takes exactly the same amount of memory as tuples because the field names are stored in the class.\n",
    "\n",
    "But, they use less memory than a regular object because they do store attributes in a per-instance `__dict__`."
   ]
  },
  {
   "cell_type": "markdown",
   "id": "distant-plant",
   "metadata": {},
   "source": [
    "Two paprameters are required to create a `namedtuple`..... **(1).** a class name `typename`  **(2).** a list of field names `filed_names`"
   ]
  },
  {
   "cell_type": "markdown",
   "id": "independent-functionality",
   "metadata": {},
   "source": [
    "Apart from methods acquired form `tuple`; `namedtuple` has some special methods too:\n",
    "\n",
    "1. `._fields`\n",
    "2. `._make(*)`\n",
    "3. `._asdict()`"
   ]
  },
  {
   "cell_type": "code",
   "execution_count": 60,
   "id": "binding-russia",
   "metadata": {},
   "outputs": [],
   "source": [
    "import collections"
   ]
  },
  {
   "cell_type": "code",
   "execution_count": 71,
   "id": "adverse-maria",
   "metadata": {},
   "outputs": [],
   "source": [
    "my_card = collections.namedtuple(typename=\"Card\", field_names=[\"rank\", \"suit\"])"
   ]
  },
  {
   "cell_type": "code",
   "execution_count": 72,
   "id": "coated-tours",
   "metadata": {},
   "outputs": [
    {
     "data": {
      "text/plain": [
       "__main__.Card"
      ]
     },
     "execution_count": 72,
     "metadata": {},
     "output_type": "execute_result"
    }
   ],
   "source": [
    "my_card"
   ]
  },
  {
   "cell_type": "code",
   "execution_count": null,
   "id": "competent-candidate",
   "metadata": {},
   "outputs": [],
   "source": []
  },
  {
   "cell_type": "code",
   "execution_count": 75,
   "id": "attached-counter",
   "metadata": {},
   "outputs": [],
   "source": [
    "## example_2_9.py\n",
    "## defining and using namedtuple type\n",
    "\n",
    "import collections\n",
    "\n",
    "my_city = collections.namedtuple(typename=\"City\", field_names=\"name country population coordinates\")\n",
    "tokyo = my_city(\"Tokyo\", \"JP\", 36.933, (35.689722, 139.691667))\n"
   ]
  },
  {
   "cell_type": "code",
   "execution_count": 76,
   "id": "unauthorized-knitting",
   "metadata": {},
   "outputs": [
    {
     "data": {
      "text/plain": [
       "City(name='Tokyo', country='JP', population=36.933, coordinates=(35.689722, 139.691667))"
      ]
     },
     "execution_count": 76,
     "metadata": {},
     "output_type": "execute_result"
    }
   ],
   "source": [
    "tokyo"
   ]
  },
  {
   "cell_type": "code",
   "execution_count": 77,
   "id": "oriented-proxy",
   "metadata": {},
   "outputs": [
    {
     "data": {
      "text/plain": [
       "36.933"
      ]
     },
     "execution_count": 77,
     "metadata": {},
     "output_type": "execute_result"
    }
   ],
   "source": [
    "tokyo.population"
   ]
  },
  {
   "cell_type": "code",
   "execution_count": 78,
   "id": "confused-brazil",
   "metadata": {},
   "outputs": [
    {
     "data": {
      "text/plain": [
       "'JP'"
      ]
     },
     "execution_count": 78,
     "metadata": {},
     "output_type": "execute_result"
    }
   ],
   "source": [
    "tokyo.country"
   ]
  },
  {
   "cell_type": "code",
   "execution_count": 79,
   "id": "happy-barcelona",
   "metadata": {},
   "outputs": [
    {
     "data": {
      "text/plain": [
       "'Tokyo'"
      ]
     },
     "execution_count": 79,
     "metadata": {},
     "output_type": "execute_result"
    }
   ],
   "source": [
    "tokyo.name"
   ]
  },
  {
   "cell_type": "code",
   "execution_count": 80,
   "id": "exclusive-humanitarian",
   "metadata": {},
   "outputs": [
    {
     "data": {
      "text/plain": [
       "(35.689722, 139.691667)"
      ]
     },
     "execution_count": 80,
     "metadata": {},
     "output_type": "execute_result"
    }
   ],
   "source": [
    "tokyo.coordinates"
   ]
  },
  {
   "cell_type": "markdown",
   "id": "magnetic-retention",
   "metadata": {},
   "source": [
    "#### We can access the fields by **names** or by **index**"
   ]
  },
  {
   "cell_type": "code",
   "execution_count": 84,
   "id": "junior-machine",
   "metadata": {},
   "outputs": [
    {
     "data": {
      "text/plain": [
       "City(name='Tokyo', country='JP', population=36.933, coordinates=(35.689722, 139.691667))"
      ]
     },
     "execution_count": 84,
     "metadata": {},
     "output_type": "execute_result"
    }
   ],
   "source": [
    "tokyo"
   ]
  },
  {
   "cell_type": "code",
   "execution_count": 83,
   "id": "south-keeping",
   "metadata": {},
   "outputs": [
    {
     "data": {
      "text/plain": [
       "4"
      ]
     },
     "execution_count": 83,
     "metadata": {},
     "output_type": "execute_result"
    }
   ],
   "source": [
    "len(tokyo)"
   ]
  },
  {
   "cell_type": "code",
   "execution_count": 85,
   "id": "searching-jacob",
   "metadata": {},
   "outputs": [
    {
     "data": {
      "text/plain": [
       "36.933"
      ]
     },
     "execution_count": 85,
     "metadata": {},
     "output_type": "execute_result"
    }
   ],
   "source": [
    "tokyo[2]"
   ]
  },
  {
   "cell_type": "code",
   "execution_count": 87,
   "id": "burning-hampton",
   "metadata": {},
   "outputs": [
    {
     "data": {
      "text/plain": [
       "'JP'"
      ]
     },
     "execution_count": 87,
     "metadata": {},
     "output_type": "execute_result"
    }
   ],
   "source": [
    "tokyo[1]"
   ]
  },
  {
   "cell_type": "code",
   "execution_count": 88,
   "id": "burning-income",
   "metadata": {},
   "outputs": [
    {
     "data": {
      "text/plain": [
       "(35.689722, 139.691667)"
      ]
     },
     "execution_count": 88,
     "metadata": {},
     "output_type": "execute_result"
    }
   ],
   "source": [
    "tokyo[-1]"
   ]
  },
  {
   "cell_type": "code",
   "execution_count": 90,
   "id": "genuine-italic",
   "metadata": {},
   "outputs": [
    {
     "data": {
      "text/plain": [
       "('name', 'country', 'population', 'coordinates')"
      ]
     },
     "execution_count": 90,
     "metadata": {},
     "output_type": "execute_result"
    }
   ],
   "source": [
    "## example_2_10.py\n",
    "## namedtuple attributes & methods (continued from example_2_9.py)\n",
    "\n",
    "my_city._fields"
   ]
  },
  {
   "cell_type": "code",
   "execution_count": 92,
   "id": "faced-custom",
   "metadata": {},
   "outputs": [
    {
     "data": {
      "text/plain": [
       "City(name='Delhi NCR', country='IN', population=21.935, coordinates=LatLong(lat=28.613889, long=77.208889))"
      ]
     },
     "execution_count": 92,
     "metadata": {},
     "output_type": "execute_result"
    }
   ],
   "source": [
    "LatLong = collections.namedtuple(typename=\"LatLong\", field_names=\"lat long\")\n",
    "\n",
    "delhi_data = (\"Delhi NCR\", \"IN\", 21.935, LatLong(28.613889, 77.208889))\n",
    "\n",
    "delhi = my_city._make(delhi_data)\n",
    "\n",
    "delhi"
   ]
  },
  {
   "cell_type": "code",
   "execution_count": 93,
   "id": "heavy-liberal",
   "metadata": {},
   "outputs": [
    {
     "data": {
      "text/plain": [
       "OrderedDict([('name', 'Delhi NCR'),\n",
       "             ('country', 'IN'),\n",
       "             ('population', 21.935),\n",
       "             ('coordinates', LatLong(lat=28.613889, long=77.208889))])"
      ]
     },
     "execution_count": 93,
     "metadata": {},
     "output_type": "execute_result"
    }
   ],
   "source": [
    "delhi._asdict()"
   ]
  },
  {
   "cell_type": "code",
   "execution_count": 94,
   "id": "successful-central",
   "metadata": {},
   "outputs": [
    {
     "name": "stdout",
     "output_type": "stream",
     "text": [
      "name : Delhi NCR\n",
      "country : IN\n",
      "population : 21.935\n",
      "coordinates : LatLong(lat=28.613889, long=77.208889)\n"
     ]
    }
   ],
   "source": [
    "for key, val in delhi._asdict().items():\n",
    "    print(f\"{key} : {val}\")"
   ]
  },
  {
   "cell_type": "code",
   "execution_count": null,
   "id": "worldwide-baseline",
   "metadata": {},
   "outputs": [],
   "source": []
  },
  {
   "cell_type": "markdown",
   "id": "received-pleasure",
   "metadata": {},
   "source": [
    "### Tuples as immutable lists"
   ]
  },
  {
   "cell_type": "code",
   "execution_count": 132,
   "id": "sufficient-copying",
   "metadata": {},
   "outputs": [],
   "source": [
    "import pandas as pd\n",
    "pd.set_option('display.max_colwidth', None)"
   ]
  },
  {
   "cell_type": "code",
   "execution_count": 134,
   "id": "brazilian-eclipse",
   "metadata": {},
   "outputs": [
    {
     "data": {
      "text/html": [
       "<div>\n",
       "<style scoped>\n",
       "    .dataframe tbody tr th:only-of-type {\n",
       "        vertical-align: middle;\n",
       "    }\n",
       "\n",
       "    .dataframe tbody tr th {\n",
       "        vertical-align: top;\n",
       "    }\n",
       "\n",
       "    .dataframe thead th {\n",
       "        text-align: right;\n",
       "    }\n",
       "</style>\n",
       "<table border=\"1\" class=\"dataframe\">\n",
       "  <thead>\n",
       "    <tr style=\"text-align: right;\">\n",
       "      <th></th>\n",
       "      <th>w</th>\n",
       "      <th>x</th>\n",
       "      <th>y</th>\n",
       "      <th>z</th>\n",
       "    </tr>\n",
       "  </thead>\n",
       "  <tbody>\n",
       "    <tr>\n",
       "      <th>0</th>\n",
       "      <td>a</td>\n",
       "      <td>b</td>\n",
       "      <td>c</td>\n",
       "      <td>d</td>\n",
       "    </tr>\n",
       "    <tr>\n",
       "      <th>1</th>\n",
       "      <td>AAAAAAAA</td>\n",
       "      <td>✅</td>\n",
       "      <td>🎯</td>\n",
       "      <td>D</td>\n",
       "    </tr>\n",
       "  </tbody>\n",
       "</table>\n",
       "</div>"
      ],
      "text/plain": [
       "          w  x  y  z\n",
       "0         a  b  c  d\n",
       "1  AAAAAAAA  ✅  🎯  D"
      ]
     },
     "execution_count": 134,
     "metadata": {},
     "output_type": "execute_result"
    }
   ],
   "source": [
    "data = [(\"a\", \"b\", \"c\", \"d\"),\n",
    "        (\"AAAAAAAA\", \"✅\", \"🎯\", \"D\"),\n",
    "       ]\n",
    "\n",
    "df = pd.DataFrame(data, columns=\"w x y z\".split(\" \"))\n",
    "# df.style.set_properties(**{'text-align': 'left'})\n",
    "df"
   ]
  },
  {
   "cell_type": "code",
   "execution_count": 147,
   "id": "moving-preservation",
   "metadata": {},
   "outputs": [
    {
     "data": {
      "text/html": [
       "<div>\n",
       "<style scoped>\n",
       "    .dataframe tbody tr th:only-of-type {\n",
       "        vertical-align: middle;\n",
       "    }\n",
       "\n",
       "    .dataframe tbody tr th {\n",
       "        vertical-align: top;\n",
       "    }\n",
       "\n",
       "    .dataframe thead th {\n",
       "        text-align: right;\n",
       "    }\n",
       "</style>\n",
       "<table border=\"1\" class=\"dataframe\">\n",
       "  <thead>\n",
       "    <tr style=\"text-align: right;\">\n",
       "      <th></th>\n",
       "      <th>#</th>\n",
       "      <th>list</th>\n",
       "      <th>tuple</th>\n",
       "      <th></th>\n",
       "    </tr>\n",
       "  </thead>\n",
       "  <tbody>\n",
       "    <tr>\n",
       "      <th>0</th>\n",
       "      <td>seq.__add__(seq2)</td>\n",
       "      <td>🎯</td>\n",
       "      <td>🎯</td>\n",
       "      <td>`seq + seq2`  --&gt; CONCATENATION</td>\n",
       "    </tr>\n",
       "    <tr>\n",
       "      <th>1</th>\n",
       "      <td>seq.__iadd__(seq2)</td>\n",
       "      <td>🎯</td>\n",
       "      <td></td>\n",
       "      <td>`seq += seq2` --&gt; in-place CONCATENATION</td>\n",
       "    </tr>\n",
       "    <tr>\n",
       "      <th>2</th>\n",
       "      <td>seq.append(e)</td>\n",
       "      <td>🎯</td>\n",
       "      <td></td>\n",
       "      <td>append one element after last</td>\n",
       "    </tr>\n",
       "    <tr>\n",
       "      <th>3</th>\n",
       "      <td>seq.clear()</td>\n",
       "      <td>🎯</td>\n",
       "      <td></td>\n",
       "      <td>delete ALL items</td>\n",
       "    </tr>\n",
       "    <tr>\n",
       "      <th>4</th>\n",
       "      <td>seq.__contains__(e)</td>\n",
       "      <td>🎯</td>\n",
       "      <td>🎯</td>\n",
       "      <td>`e in seq`</td>\n",
       "    </tr>\n",
       "    <tr>\n",
       "      <th>5</th>\n",
       "      <td>seq.copy()</td>\n",
       "      <td>🎯</td>\n",
       "      <td></td>\n",
       "      <td>SHALLOW copy of the sequence</td>\n",
       "    </tr>\n",
       "    <tr>\n",
       "      <th>6</th>\n",
       "      <td>seq.count(e)</td>\n",
       "      <td>🎯</td>\n",
       "      <td>🎯</td>\n",
       "      <td>count occurances of the element</td>\n",
       "    </tr>\n",
       "    <tr>\n",
       "      <th>7</th>\n",
       "      <td>seq.__delitem__(idx)</td>\n",
       "      <td>🎯</td>\n",
       "      <td></td>\n",
       "      <td>DELETE item from the index position</td>\n",
       "    </tr>\n",
       "    <tr>\n",
       "      <th>8</th>\n",
       "      <td>seq.extend(it)</td>\n",
       "      <td>🎯</td>\n",
       "      <td></td>\n",
       "      <td>APPEND items from the ITERABLE 'it'</td>\n",
       "    </tr>\n",
       "    <tr>\n",
       "      <th>9</th>\n",
       "      <td>seq.__getitem__(idx)</td>\n",
       "      <td>🎯</td>\n",
       "      <td>🎯</td>\n",
       "      <td>`seq[idx]`  --&gt; get item from the index position</td>\n",
       "    </tr>\n",
       "    <tr>\n",
       "      <th>10</th>\n",
       "      <td>seq.__getnewargs__()</td>\n",
       "      <td></td>\n",
       "      <td>🎯</td>\n",
       "      <td>support for optimized serialization with `pickle`</td>\n",
       "    </tr>\n",
       "    <tr>\n",
       "      <th>11</th>\n",
       "      <td>seq.index(e)</td>\n",
       "      <td>🎯</td>\n",
       "      <td>🎯</td>\n",
       "      <td>find index position of the FIRST occurance of the element `e`</td>\n",
       "    </tr>\n",
       "    <tr>\n",
       "      <th>12</th>\n",
       "      <td>seq.insert(idx, e)</td>\n",
       "      <td>🎯</td>\n",
       "      <td></td>\n",
       "      <td>insert element `e` BEFORE the item at index/position `idx`</td>\n",
       "    </tr>\n",
       "    <tr>\n",
       "      <th>13</th>\n",
       "      <td>seq.__iter__()</td>\n",
       "      <td>🎯</td>\n",
       "      <td>🎯</td>\n",
       "      <td>get ITERATOR</td>\n",
       "    </tr>\n",
       "    <tr>\n",
       "      <th>14</th>\n",
       "      <td>seq.__len__()</td>\n",
       "      <td>🎯</td>\n",
       "      <td>🎯</td>\n",
       "      <td>`len(s)` --&gt; number of items in the sequence</td>\n",
       "    </tr>\n",
       "    <tr>\n",
       "      <th>15</th>\n",
       "      <td>seq.__mul__(n)</td>\n",
       "      <td>🎯</td>\n",
       "      <td>🎯</td>\n",
       "      <td>`seq * n` --&gt; repeated CONCATENATION</td>\n",
       "    </tr>\n",
       "    <tr>\n",
       "      <th>16</th>\n",
       "      <td>seq.__imul__(n)</td>\n",
       "      <td>🎯</td>\n",
       "      <td></td>\n",
       "      <td>`seq *= n` --&gt; IN-PLACE repeated concatenation</td>\n",
       "    </tr>\n",
       "    <tr>\n",
       "      <th>17</th>\n",
       "      <td>seq.__rmul__(n)</td>\n",
       "      <td>🎯</td>\n",
       "      <td>🎯</td>\n",
       "      <td>`n * seq` --&gt; REVERSED repeated concatenation</td>\n",
       "    </tr>\n",
       "    <tr>\n",
       "      <th>18</th>\n",
       "      <td>seq.pop(&lt;&lt; idx &gt;&gt;)</td>\n",
       "      <td>🎯</td>\n",
       "      <td></td>\n",
       "      <td>REMOVE &amp; RETURN last element or item at the OPTIONAL index `idx`</td>\n",
       "    </tr>\n",
       "    <tr>\n",
       "      <th>19</th>\n",
       "      <td>seq.remove(e)</td>\n",
       "      <td>🎯</td>\n",
       "      <td></td>\n",
       "      <td>remove FIRST OCCURANCE of element `e` by-value</td>\n",
       "    </tr>\n",
       "    <tr>\n",
       "      <th>20</th>\n",
       "      <td>seq.reverse()</td>\n",
       "      <td>🎯</td>\n",
       "      <td></td>\n",
       "      <td>reverse the order of the items IN_PLACE</td>\n",
       "    </tr>\n",
       "    <tr>\n",
       "      <th>21</th>\n",
       "      <td>seq.__reversed__()</td>\n",
       "      <td>🎯</td>\n",
       "      <td></td>\n",
       "      <td>get ITERATOR to scan element from last-to-first</td>\n",
       "    </tr>\n",
       "    <tr>\n",
       "      <th>22</th>\n",
       "      <td>seq.__setitem__(idx, e)</td>\n",
       "      <td>🎯</td>\n",
       "      <td></td>\n",
       "      <td>`seq[p] = e` --&gt; put element `e` at index `idx`, OVERIDING the existing item</td>\n",
       "    </tr>\n",
       "    <tr>\n",
       "      <th>23</th>\n",
       "      <td>seq.sort(&lt;&lt; key &gt;&gt;, &lt;&lt; reverse &gt;&gt;)</td>\n",
       "      <td>🎯</td>\n",
       "      <td></td>\n",
       "      <td>sort items IN-PLACE with optional keywords `key` &amp; `reverse`</td>\n",
       "    </tr>\n",
       "  </tbody>\n",
       "</table>\n",
       "</div>"
      ],
      "text/plain": [
       "                                     # list tuple  \\\n",
       "0                    seq.__add__(seq2)    🎯     🎯   \n",
       "1                   seq.__iadd__(seq2)    🎯         \n",
       "2                        seq.append(e)    🎯         \n",
       "3                          seq.clear()    🎯         \n",
       "4                  seq.__contains__(e)    🎯     🎯   \n",
       "5                           seq.copy()    🎯         \n",
       "6                         seq.count(e)    🎯     🎯   \n",
       "7                 seq.__delitem__(idx)    🎯         \n",
       "8                       seq.extend(it)    🎯         \n",
       "9                 seq.__getitem__(idx)    🎯     🎯   \n",
       "10                seq.__getnewargs__()          🎯   \n",
       "11                        seq.index(e)    🎯     🎯   \n",
       "12                  seq.insert(idx, e)    🎯         \n",
       "13                      seq.__iter__()    🎯     🎯   \n",
       "14                       seq.__len__()    🎯     🎯   \n",
       "15                      seq.__mul__(n)    🎯     🎯   \n",
       "16                     seq.__imul__(n)    🎯         \n",
       "17                     seq.__rmul__(n)    🎯     🎯   \n",
       "18                  seq.pop(<< idx >>)    🎯         \n",
       "19                       seq.remove(e)    🎯         \n",
       "20                       seq.reverse()    🎯         \n",
       "21                  seq.__reversed__()    🎯         \n",
       "22             seq.__setitem__(idx, e)    🎯         \n",
       "23  seq.sort(<< key >>, << reverse >>)    🎯         \n",
       "\n",
       "                                                                                  \n",
       "0                                                `seq + seq2`  --> CONCATENATION  \n",
       "1                                       `seq += seq2` --> in-place CONCATENATION  \n",
       "2                                                  append one element after last  \n",
       "3                                                               delete ALL items  \n",
       "4                                                                     `e in seq`  \n",
       "5                                                   SHALLOW copy of the sequence  \n",
       "6                                                count occurances of the element  \n",
       "7                                            DELETE item from the index position  \n",
       "8                                            APPEND items from the ITERABLE 'it'  \n",
       "9                               `seq[idx]`  --> get item from the index position  \n",
       "10                             support for optimized serialization with `pickle`  \n",
       "11                 find index position of the FIRST occurance of the element `e`  \n",
       "12                    insert element `e` BEFORE the item at index/position `idx`  \n",
       "13                                                                  get ITERATOR  \n",
       "14                                  `len(s)` --> number of items in the sequence  \n",
       "15                                          `seq * n` --> repeated CONCATENATION  \n",
       "16                                `seq *= n` --> IN-PLACE repeated concatenation  \n",
       "17                                 `n * seq` --> REVERSED repeated concatenation  \n",
       "18              REMOVE & RETURN last element or item at the OPTIONAL index `idx`  \n",
       "19                                remove FIRST OCCURANCE of element `e` by-value  \n",
       "20                                       reverse the order of the items IN_PLACE  \n",
       "21                               get ITERATOR to scan element from last-to-first  \n",
       "22  `seq[p] = e` --> put element `e` at index `idx`, OVERIDING the existing item  \n",
       "23                  sort items IN-PLACE with optional keywords `key` & `reverse`  "
      ]
     },
     "execution_count": 147,
     "metadata": {},
     "output_type": "execute_result"
    }
   ],
   "source": [
    "yes = \"🎯\"\n",
    "no = \"\"\n",
    "data = [(\"seq.__add__(seq2)\", yes, yes, \"`seq + seq2`  --> CONCATENATION\"),\n",
    "        (\"seq.__iadd__(seq2)\", yes, no, \"`seq += seq2` --> in-place CONCATENATION\"),\n",
    "        (\"seq.append(e)\", yes, no, \"append one element after last\"),\n",
    "        (\"seq.clear()\", yes, no, \"delete ALL items\"),\n",
    "        (\"seq.__contains__(e)\", yes, yes, \"`e in seq`\"),\n",
    "        (\"seq.copy()\", yes, no, \"SHALLOW copy of the sequence\"),\n",
    "        (\"seq.count(e)\", yes, yes, \"count occurances of the element\"),\n",
    "        (\"seq.__delitem__(idx)\", yes, no, \"DELETE item from the index position\"),\n",
    "        (\"seq.extend(it)\", yes, no, \"APPEND items from the ITERABLE 'it'\"),\n",
    "        (\"seq.__getitem__(idx)\", yes, yes, \"`seq[idx]`  --> get item from the index position\"),\n",
    "        (\"seq.__getnewargs__()\", no, yes, \"support for optimized serialization with `pickle`\"),\n",
    "        (\"seq.index(e)\", yes, yes, \"find index position of the FIRST occurance of the element `e`\"),\n",
    "        (\"seq.insert(idx, e)\", yes, no, \"insert element `e` BEFORE the item at index/position `idx`\"),\n",
    "        (\"seq.__iter__()\", yes, yes, \"get ITERATOR\"),\n",
    "        (\"seq.__len__()\", yes, yes, \"`len(s)` --> number of items in the sequence\"),\n",
    "        (\"seq.__mul__(n)\", yes, yes, \"`seq * n` --> repeated CONCATENATION\"),\n",
    "        (\"seq.__imul__(n)\", yes, no, \"`seq *= n` --> IN-PLACE repeated concatenation\"),\n",
    "        (\"seq.__rmul__(n)\", yes, yes, \"`n * seq` --> REVERSED repeated concatenation\"),\n",
    "        (\"seq.pop(<< idx >>)\", yes, no, \"REMOVE & RETURN last element or item at the OPTIONAL index `idx`\"),\n",
    "        (\"seq.remove(e)\", yes, no, \"remove FIRST OCCURANCE of element `e` by-value\"),\n",
    "        (\"seq.reverse()\", yes, no, \"reverse the order of the items IN_PLACE\"),\n",
    "        (\"seq.__reversed__()\", yes, no, \"get ITERATOR to scan element from last-to-first\"),\n",
    "        (\"seq.__setitem__(idx, e)\", yes, no, \"`seq[p] = e` --> put element `e` at index `idx`, OVERIDING the existing item\"),\n",
    "        (\"seq.sort(<< key >>, << reverse >>)\", yes, no, \"sort items IN-PLACE with optional keywords `key` & `reverse`\"),\n",
    "       ]\n",
    "\n",
    "df = pd.DataFrame(data, columns=\"#, list, tuple,  \".split(\", \"))\n",
    "df.style.set_properties(**{'text-align': 'left'})\n",
    "df"
   ]
  },
  {
   "cell_type": "code",
   "execution_count": null,
   "id": "certified-accident",
   "metadata": {},
   "outputs": [],
   "source": []
  },
  {
   "cell_type": "markdown",
   "id": "varied-element",
   "metadata": {},
   "source": [
    "## Slicing"
   ]
  },
  {
   "cell_type": "markdown",
   "id": "exclusive-destruction",
   "metadata": {},
   "source": [
    "### Assigning to slices"
   ]
  },
  {
   "cell_type": "code",
   "execution_count": 166,
   "id": "exposed-gather",
   "metadata": {},
   "outputs": [
    {
     "data": {
      "text/plain": [
       "[0, 1, 2, 3, 4, 5, 6, 7, 8, 9]"
      ]
     },
     "execution_count": 166,
     "metadata": {},
     "output_type": "execute_result"
    }
   ],
   "source": [
    "l = list(range(10))\n",
    "l"
   ]
  },
  {
   "cell_type": "code",
   "execution_count": 167,
   "id": "gothic-learning",
   "metadata": {},
   "outputs": [
    {
     "data": {
      "text/plain": [
       "10"
      ]
     },
     "execution_count": 167,
     "metadata": {},
     "output_type": "execute_result"
    }
   ],
   "source": [
    "len(l)"
   ]
  },
  {
   "cell_type": "code",
   "execution_count": 168,
   "id": "conscious-pension",
   "metadata": {},
   "outputs": [
    {
     "data": {
      "text/plain": [
       "[2, 3, 4]"
      ]
     },
     "execution_count": 168,
     "metadata": {},
     "output_type": "execute_result"
    }
   ],
   "source": [
    "l[2:5]"
   ]
  },
  {
   "cell_type": "code",
   "execution_count": 169,
   "id": "legendary-issue",
   "metadata": {},
   "outputs": [],
   "source": [
    "l[2:5] = [2000, 3000]"
   ]
  },
  {
   "cell_type": "code",
   "execution_count": 170,
   "id": "accepting-flour",
   "metadata": {},
   "outputs": [
    {
     "data": {
      "text/plain": [
       "[0, 1, 2000, 3000, 5, 6, 7, 8, 9]"
      ]
     },
     "execution_count": 170,
     "metadata": {},
     "output_type": "execute_result"
    }
   ],
   "source": [
    "l"
   ]
  },
  {
   "cell_type": "code",
   "execution_count": 171,
   "id": "olympic-calibration",
   "metadata": {},
   "outputs": [
    {
     "data": {
      "text/plain": [
       "9"
      ]
     },
     "execution_count": 171,
     "metadata": {},
     "output_type": "execute_result"
    }
   ],
   "source": [
    "len(l)"
   ]
  },
  {
   "cell_type": "code",
   "execution_count": 172,
   "id": "going-wages",
   "metadata": {},
   "outputs": [],
   "source": [
    "del l[5:7]"
   ]
  },
  {
   "cell_type": "code",
   "execution_count": 173,
   "id": "alien-pasta",
   "metadata": {},
   "outputs": [
    {
     "data": {
      "text/plain": [
       "[0, 1, 2000, 3000, 5, 8, 9]"
      ]
     },
     "execution_count": 173,
     "metadata": {},
     "output_type": "execute_result"
    }
   ],
   "source": [
    "l"
   ]
  },
  {
   "cell_type": "code",
   "execution_count": 174,
   "id": "cooked-chain",
   "metadata": {},
   "outputs": [
    {
     "data": {
      "text/plain": [
       "7"
      ]
     },
     "execution_count": 174,
     "metadata": {},
     "output_type": "execute_result"
    }
   ],
   "source": [
    "len(l)"
   ]
  },
  {
   "cell_type": "code",
   "execution_count": 175,
   "id": "comic-lightweight",
   "metadata": {},
   "outputs": [
    {
     "data": {
      "text/plain": [
       "[2000, 3000, 5]"
      ]
     },
     "execution_count": 175,
     "metadata": {},
     "output_type": "execute_result"
    }
   ],
   "source": [
    "l[2:5]"
   ]
  },
  {
   "cell_type": "code",
   "execution_count": 177,
   "id": "ready-humidity",
   "metadata": {},
   "outputs": [],
   "source": [
    "l[2:5] = [999]"
   ]
  },
  {
   "cell_type": "code",
   "execution_count": 178,
   "id": "reverse-oregon",
   "metadata": {},
   "outputs": [
    {
     "data": {
      "text/plain": [
       "[0, 1, 999, 8, 9]"
      ]
     },
     "execution_count": 178,
     "metadata": {},
     "output_type": "execute_result"
    }
   ],
   "source": [
    "l"
   ]
  },
  {
   "cell_type": "code",
   "execution_count": 179,
   "id": "active-least",
   "metadata": {},
   "outputs": [
    {
     "data": {
      "text/plain": [
       "5"
      ]
     },
     "execution_count": 179,
     "metadata": {},
     "output_type": "execute_result"
    }
   ],
   "source": [
    "len(l)"
   ]
  },
  {
   "cell_type": "code",
   "execution_count": 180,
   "id": "soviet-lawsuit",
   "metadata": {},
   "outputs": [
    {
     "ename": "TypeError",
     "evalue": "can only assign an iterable",
     "output_type": "error",
     "traceback": [
      "\u001b[0;31m---------------------------------------------------------------------------\u001b[0m",
      "\u001b[0;31mTypeError\u001b[0m                                 Traceback (most recent call last)",
      "\u001b[0;32m<ipython-input-180-0b61bb176923>\u001b[0m in \u001b[0;36m<module>\u001b[0;34m\u001b[0m\n\u001b[0;32m----> 1\u001b[0;31m \u001b[0ml\u001b[0m\u001b[0;34m[\u001b[0m\u001b[0;36m2\u001b[0m\u001b[0;34m:\u001b[0m\u001b[0;36m5\u001b[0m\u001b[0;34m]\u001b[0m \u001b[0;34m=\u001b[0m \u001b[0;36m888\u001b[0m\u001b[0;34m\u001b[0m\u001b[0;34m\u001b[0m\u001b[0m\n\u001b[0m",
      "\u001b[0;31mTypeError\u001b[0m: can only assign an iterable"
     ]
    }
   ],
   "source": [
    "l[2:5] = 888"
   ]
  },
  {
   "cell_type": "markdown",
   "id": "indirect-protocol",
   "metadata": {},
   "source": [
    "### Using ` + ` and ` * ` with sequences"
   ]
  },
  {
   "cell_type": "markdown",
   "id": "median-remainder",
   "metadata": {},
   "source": [
    "Used for CONCATENATION. \n",
    "\n",
    "ALWAYS creates a NEW sequence (does not change the original input sequences)"
   ]
  },
  {
   "cell_type": "markdown",
   "id": "honest-month",
   "metadata": {},
   "source": [
    "**NOTE: Beware of expressions like `mutable_seq * n` (where `mutable_seq` is a MUTABLE SEQUENCE)**\n",
    "\n",
    "For eg: `my_list = [[]] * 3` creates a list with three references to the same inner list."
   ]
  },
  {
   "cell_type": "code",
   "execution_count": 181,
   "id": "renewable-clear",
   "metadata": {},
   "outputs": [
    {
     "data": {
      "text/plain": [
       "[1, 2, 3, 1, 2, 3, 1, 2, 3, 1, 2, 3, 1, 2, 3]"
      ]
     },
     "execution_count": 181,
     "metadata": {},
     "output_type": "execute_result"
    }
   ],
   "source": [
    "l = [1, 2, 3]\n",
    "\n",
    "l * 5"
   ]
  },
  {
   "cell_type": "code",
   "execution_count": 182,
   "id": "blond-purple",
   "metadata": {},
   "outputs": [
    {
     "data": {
      "text/plain": [
       "[1, 2, 3]"
      ]
     },
     "execution_count": 182,
     "metadata": {},
     "output_type": "execute_result"
    }
   ],
   "source": [
    "l"
   ]
  },
  {
   "cell_type": "code",
   "execution_count": 183,
   "id": "distant-museum",
   "metadata": {},
   "outputs": [
    {
     "data": {
      "text/plain": [
       "'abcdabcdabcdabcdabcd'"
      ]
     },
     "execution_count": 183,
     "metadata": {},
     "output_type": "execute_result"
    }
   ],
   "source": [
    "5 * \"abcd\""
   ]
  },
  {
   "cell_type": "code",
   "execution_count": null,
   "id": "marked-minneapolis",
   "metadata": {},
   "outputs": [],
   "source": []
  },
  {
   "cell_type": "markdown",
   "id": "through-cleanup",
   "metadata": {},
   "source": [
    "## Building list of lists"
   ]
  },
  {
   "cell_type": "code",
   "execution_count": null,
   "id": "suited-shoulder",
   "metadata": {},
   "outputs": [],
   "source": []
  }
 ],
 "metadata": {
  "kernelspec": {
   "display_name": "Python 3",
   "language": "python",
   "name": "python3"
  },
  "language_info": {
   "codemirror_mode": {
    "name": "ipython",
    "version": 3
   },
   "file_extension": ".py",
   "mimetype": "text/x-python",
   "name": "python",
   "nbconvert_exporter": "python",
   "pygments_lexer": "ipython3",
   "version": "3.7.4"
  }
 },
 "nbformat": 4,
 "nbformat_minor": 5
}
