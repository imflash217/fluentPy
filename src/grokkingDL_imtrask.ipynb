{
 "cells": [
  {
   "cell_type": "code",
   "execution_count": 1,
   "id": "theoretical-filter",
   "metadata": {},
   "outputs": [
    {
     "data": {
      "text/html": [
       "<style>body {\n",
       "    margin: 0;\n",
       "    font-family: lexend;\n",
       "}\n",
       "table.dataframe {\n",
       "    border-collapse: collapse;\n",
       "    border: none;\n",
       "}\n",
       "table.dataframe tr {\n",
       "    border: none;\n",
       "}\n",
       "table.dataframe td, table.dataframe th {\n",
       "    margin: 0;\n",
       "    border: 1px solid white;\n",
       "    padding-left: 0.25em;\n",
       "    padding-right: 0.25em;\n",
       "}\n",
       "table.dataframe th:not(:empty) {\n",
       "    background-color: #fec;\n",
       "    text-align: left;\n",
       "    font-weight: normal;\n",
       "}\n",
       "table.dataframe tr:nth-child(2) th:empty {\n",
       "    border-left: none;\n",
       "    border-right: 1px dashed #888;\n",
       "}\n",
       "table.dataframe td {\n",
       "    border: 2px solid #ccf;\n",
       "    background-color: #f4f4ff;\n",
       "}\n",
       "h1 {\n",
       "    color: white;\n",
       "    background: rgb(2,0,36);\n",
       "    background: linear-gradient(90deg, rgba(2,0,36,1) 0%, rgba(238,65,79,1) 42%, rgba(0,84,255,1) 81%); \n",
       "    padding: 0.25em;\n",
       "}\n",
       "\n",
       "h3 {\n",
       "    color: white;\n",
       "    background-color: black;\n",
       "    padding: 0.25em;\n",
       "}\n",
       "\n",
       "h2 {\n",
       "    color: white;\n",
       "    background-color: #fc0362;\n",
       "    padding: 0.25em;\n",
       "}\n",
       "</style>"
      ],
      "text/plain": [
       "<IPython.core.display.HTML object>"
      ]
     },
     "execution_count": 1,
     "metadata": {},
     "output_type": "execute_result"
    }
   ],
   "source": [
    "from IPython.core.display import HTML\n",
    "css = open('notebook_css/style-table.css').read() + open('notebook_css/style-notebook.css').read()\n",
    "HTML('<style>{}</style>'.format(css))"
   ]
  },
  {
   "cell_type": "markdown",
   "id": "laughing-project",
   "metadata": {},
   "source": [
    "# Chapter #05"
   ]
  },
  {
   "cell_type": "markdown",
   "id": "smooth-diagnosis",
   "metadata": {},
   "source": [
    "## Gradient Descent Learning with multiple inputs"
   ]
  },
  {
   "cell_type": "code",
   "execution_count": 2,
   "id": "explicit-hands",
   "metadata": {},
   "outputs": [],
   "source": [
    "## page-99\n",
    "\n",
    "def weighted_sum(a, b):\n",
    "    assert len(a) == len(b)\n",
    "    output_ = 0\n",
    "    for x, y in zip(a, b):\n",
    "        output_ += x * y\n",
    "    return output_\n",
    "\n",
    "weights = [0.1, 0.2, -0.1]\n",
    "\n",
    "def neural_network(input_, weights):\n",
    "    pred = weighted_sum(input_, weights)\n",
    "    return pred\n"
   ]
  },
  {
   "cell_type": "code",
   "execution_count": 3,
   "id": "bridal-diana",
   "metadata": {},
   "outputs": [],
   "source": [
    "toes = [8.5, 9.5, 9.9, 9.0]\n",
    "wlrec = [0.65, 0.8, 0.8, 0.9]\n",
    "nfans = [1.2, 1.3, 0.5, 1.0]\n",
    "win_or_lose_binary = [1, 1, 0, 1]"
   ]
  },
  {
   "cell_type": "code",
   "execution_count": 6,
   "id": "dutch-rehabilitation",
   "metadata": {},
   "outputs": [],
   "source": [
    "truth = win_or_lose_binary[0]\n",
    "input_ = [toes[0], wlrec[0], nfans[0]]\n",
    "\n",
    "pred = neural_network(input_, weights)\n",
    "error = (pred - truth) ** 2\n",
    "delta = pred - truth"
   ]
  },
  {
   "cell_type": "code",
   "execution_count": 8,
   "id": "chronic-cocktail",
   "metadata": {},
   "outputs": [],
   "source": [
    "def elementwise_mul(scalar, vector):\n",
    "    output_ = []\n",
    "    for x in vector:\n",
    "        output_.append(scalar * x)\n",
    "    return output_\n",
    "\n",
    "weights_delta = elementwise_mul(delta, input_)"
   ]
  },
  {
   "cell_type": "code",
   "execution_count": 10,
   "id": "hazardous-expert",
   "metadata": {},
   "outputs": [
    {
     "data": {
      "text/plain": [
       "([0.1, 0.2, -0.1],\n",
       " [-1.189999999999999, -0.09099999999999994, -0.16799999999999987])"
      ]
     },
     "execution_count": 10,
     "metadata": {},
     "output_type": "execute_result"
    }
   ],
   "source": [
    "assert len(weights) == len(weights_delta)\n",
    "weights, weights_delta"
   ]
  },
  {
   "cell_type": "code",
   "execution_count": 12,
   "id": "cooperative-county",
   "metadata": {},
   "outputs": [
    {
     "data": {
      "text/plain": [
       "[0.1119, 0.20091, -0.09832]"
      ]
     },
     "execution_count": 12,
     "metadata": {},
     "output_type": "execute_result"
    }
   ],
   "source": [
    "alpha = 0.01\n",
    "for i, d in enumerate(weights_delta):\n",
    "    weights[i] -= alpha * d\n",
    "weights"
   ]
  },
  {
   "cell_type": "code",
   "execution_count": null,
   "id": "collective-cabin",
   "metadata": {},
   "outputs": [],
   "source": []
  },
  {
   "cell_type": "markdown",
   "id": "arabic-refund",
   "metadata": {},
   "source": [
    "# Chapter #06"
   ]
  },
  {
   "cell_type": "code",
   "execution_count": 51,
   "id": "spiritual-stadium",
   "metadata": {},
   "outputs": [
    {
     "name": "stdout",
     "output_type": "stream",
     "text": [
      "Iter [ 0]: Error = 0.0400000000\t | Weights = [ 0.52  0.48 -0.68]\n",
      "Iter [ 1]: Error = 0.0256000000\t | Weights = [ 0.536  0.48  -0.664]\n",
      "Iter [ 2]: Error = 0.0163840000\t | Weights = [ 0.5488  0.48   -0.6512]\n",
      "Iter [ 3]: Error = 0.0104857600\t | Weights = [ 0.55904  0.48    -0.64096]\n",
      "Iter [ 4]: Error = 0.0067108864\t | Weights = [ 0.567232  0.48     -0.632768]\n",
      "Iter [ 5]: Error = 0.0042949673\t | Weights = [ 0.5737856  0.48      -0.6262144]\n",
      "Iter [ 6]: Error = 0.0027487791\t | Weights = [ 0.57902848  0.48       -0.62097152]\n",
      "Iter [ 7]: Error = 0.0017592186\t | Weights = [ 0.58322278  0.48       -0.61677722]\n",
      "Iter [ 8]: Error = 0.0011258999\t | Weights = [ 0.58657823  0.48       -0.61342177]\n",
      "Iter [ 9]: Error = 0.0007205759\t | Weights = [ 0.58926258  0.48       -0.61073742]\n",
      "Iter [10]: Error = 0.0004611686\t | Weights = [ 0.59141007  0.48       -0.60858993]\n",
      "Iter [11]: Error = 0.0002951479\t | Weights = [ 0.59312805  0.48       -0.60687195]\n",
      "Iter [12]: Error = 0.0001888947\t | Weights = [ 0.59450244  0.48       -0.60549756]\n",
      "Iter [13]: Error = 0.0001208926\t | Weights = [ 0.59560195  0.48       -0.60439805]\n",
      "Iter [14]: Error = 0.0000773713\t | Weights = [ 0.59648156  0.48       -0.60351844]\n",
      "Iter [15]: Error = 0.0000495176\t | Weights = [ 0.59718525  0.48       -0.60281475]\n",
      "Iter [16]: Error = 0.0000316913\t | Weights = [ 0.5977482  0.48      -0.6022518]\n",
      "Iter [17]: Error = 0.0000202824\t | Weights = [ 0.59819856  0.48       -0.60180144]\n",
      "Iter [18]: Error = 0.0000129807\t | Weights = [ 0.59855885  0.48       -0.60144115]\n",
      "Iter [19]: Error = 0.0000083077\t | Weights = [ 0.59884708  0.48       -0.60115292]\n"
     ]
    }
   ],
   "source": [
    "## page-126\n",
    "\n",
    "import numpy as np\n",
    "\n",
    "## Step-1: get the data\n",
    "\n",
    "streetlights = np.array([[1,0,1],\n",
    "                         [0,1,1],\n",
    "                         [0,0,1],\n",
    "                         [1,1,1],\n",
    "                         [0,1,1],\n",
    "                         [1,0,1],\n",
    "                        ])\n",
    "walk_vs_stop = np.array([0,1,0,1,1,0])\n",
    "\n",
    "assert len(streetlights) == len(walk_vs_stop)\n",
    "\n",
    "## Step-2: Create the network\n",
    "alpha = 0.1\n",
    "weights = np.array([0.5, 0.48, -0.7])\n",
    "assert len(weights) == len(streetlights[0])\n",
    "\n",
    "## Train on a single data point\n",
    "\n",
    "input_ = streetlights[0]\n",
    "goal_pred = walk_vs_stop[0]\n",
    "\n",
    "num_iters = 20\n",
    "for i in range(num_iters):\n",
    "    pred = np.dot(input_, weights)\n",
    "    error = (goal_pred - pred) ** 2\n",
    "    delta = pred - goal_pred\n",
    "    weights_delta = input_ * delta\n",
    "    weights -= alpha * weights_delta\n",
    "    print(f\"Iter [{i:2}]: Error = {error:.10f}\\t | Weights = {weights}\")"
   ]
  },
  {
   "cell_type": "code",
   "execution_count": 52,
   "id": "amazing-expense",
   "metadata": {},
   "outputs": [
    {
     "name": "stdout",
     "output_type": "stream",
     "text": [
      "Iter [ 0]: Error = 2.6561231104\t | Weights = [ 0.540848  0.72112  -0.400432]\n",
      "Iter [ 1]: Error = 0.9628701777\t | Weights = [ 0.49944225  0.84194128 -0.28583891]\n",
      "Iter [ 2]: Error = 0.5509165867\t | Weights = [ 0.43945363  0.91252555 -0.23598163]\n",
      "Iter [ 3]: Error = 0.3644583685\t | Weights = [ 0.38100946  0.95888996 -0.20924067]\n",
      "Iter [ 4]: Error = 0.2516768662\t | Weights = [ 0.32955689  0.99146612 -0.19117291]\n",
      "Iter [ 5]: Error = 0.1779757505\t | Weights = [ 0.28576471  1.01500784 -0.17673288]\n",
      "Iter [ 6]: Error = 0.1286446073\t | Weights = [ 0.24888702  1.03207349 -0.16412797]\n",
      "Iter [ 7]: Error = 0.0951103695\t | Weights = [ 0.21787885  1.0442761  -0.15269426]\n",
      "Iter [ 8]: Error = 0.0719456425\t | Weights = [ 0.19174429  1.05275286 -0.14216186]\n",
      "Iter [ 9]: Error = 0.0556491499\t | Weights = [ 0.16962672  1.05835728 -0.1324006 ]\n",
      "Iter [10]: Error = 0.0439476394\t | Weights = [ 0.15081598  1.0617496  -0.12333176]\n",
      "Iter [11]: Error = 0.0353579671\t | Weights = [ 0.13473149  1.06344721 -0.11489715]\n",
      "Iter [12]: Error = 0.0289070006\t | Weights = [ 0.12090095  1.06385744 -0.10704822]\n",
      "Iter [13]: Error = 0.0239516606\t | Weights = [ 0.10894061  1.06330118 -0.099742  ]\n",
      "Iter [14]: Error = 0.0200631052\t | Weights = [ 0.0985384   1.06203086 -0.09293946]\n",
      "Iter [15]: Error = 0.0169520945\t | Weights = [ 0.08944019  1.06024455 -0.08660484]\n",
      "Iter [16]: Error = 0.0144208183\t | Weights = [ 0.08143858  1.05809708 -0.08070513]\n",
      "Iter [17]: Error = 0.0123317400\t | Weights = [ 0.07436386  1.05570893 -0.07520984]\n",
      "Iter [18]: Error = 0.0105873932\t | Weights = [ 0.06807682  1.05317333 -0.07009074]\n",
      "Iter [19]: Error = 0.0091172334\t | Weights = [ 0.06246285  1.05056186 -0.06532169]\n",
      "Iter [20]: Error = 0.0078690423\t | Weights = [ 0.05742729  1.04792901 -0.06087842]\n",
      "Iter [21]: Error = 0.0068032732\t | Weights = [ 0.05289162  1.04531576 -0.05673843]\n",
      "Iter [22]: Error = 0.0058893035\t | Weights = [ 0.0487905   1.04275242 -0.0528808 ]\n",
      "Iter [23]: Error = 0.0051029253\t | Weights = [ 0.04506924  1.04026098 -0.04928611]\n",
      "Iter [24]: Error = 0.0044246446\t | Weights = [ 0.04168187  1.03785688 -0.04593632]\n",
      "Iter [25]: Error = 0.0038385124\t | Weights = [ 0.03858958  1.03555045 -0.04281463]\n",
      "Iter [26]: Error = 0.0033313055\t | Weights = [ 0.03575938  1.03334811 -0.03990541]\n",
      "Iter [27]: Error = 0.0028919416\t | Weights = [ 0.03316312  1.03125323 -0.03719415]\n",
      "Iter [28]: Error = 0.0025110536\t | Weights = [ 0.03077659  1.02926689 -0.03466732]\n",
      "Iter [29]: Error = 0.0021806704\t | Weights = [ 0.02857892  1.02738842 -0.03231233]\n",
      "Iter [30]: Error = 0.0018939739\t | Weights = [ 0.02655193  1.02561587 -0.03011746]\n",
      "Iter [31]: Error = 0.0016451097\t | Weights = [ 0.02467977  1.02394634 -0.02807179]\n",
      "Iter [32]: Error = 0.0014290354\t | Weights = [ 0.02294852  1.0223763  -0.02616516]\n",
      "Iter [33]: Error = 0.0012413986\t | Weights = [ 0.02134585  1.02090174 -0.0243881 ]\n",
      "Iter [34]: Error = 0.0010784359\t | Weights = [ 0.01986085  1.01951839 -0.02273179]\n",
      "Iter [35]: Error = 0.0009368896\t | Weights = [ 0.01848376  1.01822183 -0.02118801]\n",
      "Iter [36]: Error = 0.0008139367\t | Weights = [ 0.01720586  1.0170076  -0.01974911]\n",
      "Iter [37]: Error = 0.0007071292\t | Weights = [ 0.01601927  1.01587123 -0.01840796]\n",
      "Iter [38]: Error = 0.0006143436\t | Weights = [ 0.01491689  1.01480835 -0.01715791]\n",
      "Iter [39]: Error = 0.0005337368\t | Weights = [ 0.01389228  1.0138147  -0.01599277]\n"
     ]
    }
   ],
   "source": [
    "## page-127\n",
    "\n",
    "import numpy as np\n",
    "\n",
    "## Step-1: get the data\n",
    "\n",
    "streetlights = np.array([[1,0,1],\n",
    "                         [0,1,1],\n",
    "                         [0,0,1],\n",
    "                         [1,1,1],\n",
    "                         [0,1,1],\n",
    "                         [1,0,1],\n",
    "                        ])\n",
    "walk_vs_stop = np.array([0,1,0,1,1,0])\n",
    "\n",
    "assert len(streetlights) == len(walk_vs_stop)\n",
    "\n",
    "## Step-2: Create the network\n",
    "alpha = 0.1\n",
    "weights = np.array([0.5, 0.48, -0.7])\n",
    "assert len(weights) == len(streetlights[0])\n",
    "\n",
    "## Train on the whole dataset\n",
    "\n",
    "num_iters = 40\n",
    "for i in range(num_iters):\n",
    "    iter_error = 0.\n",
    "    for input_, goal_pred in zip(streetlights, walk_vs_stop):\n",
    "        pred = np.dot(input_, weights)\n",
    "        error = (goal_pred - pred) ** 2\n",
    "        iter_error += error\n",
    "        delta = pred - goal_pred\n",
    "        weights_delta = input_ * delta\n",
    "        weights -= alpha * weights_delta\n",
    "    print(f\"Iter [{i:2}]: Error = {iter_error:.10f}\\t | Weights = {weights}\")"
   ]
  },
  {
   "cell_type": "code",
   "execution_count": null,
   "id": "express-loading",
   "metadata": {},
   "outputs": [],
   "source": []
  },
  {
   "cell_type": "code",
   "execution_count": 55,
   "id": "secret-companion",
   "metadata": {},
   "outputs": [],
   "source": [
    "## page-144\n",
    "\n",
    "import numpy as np\n",
    "\n",
    "np.random.seed(217)\n",
    "\n",
    "def relu(x):\n",
    "    return (x>0)*x\n",
    "\n",
    "alpha = 0.1\n",
    "hidden_size = 4\n",
    "\n",
    "##data\n",
    "streetlights = np.array([[1,0,1],\n",
    "                         [0,1,1],\n",
    "                         [0,0,1],\n",
    "                         [1,1,1],\n",
    "                        ])\n",
    "\n",
    "walk_vs_stop = np.array([[1,1,0,0]]).T\n",
    "\n",
    "# walk_vs_stop.shape, streetlights.shape\n",
    "\n",
    "## NN weights\n",
    "##\n",
    "weights_0_1 = 2 * np.random.random(size=(3, hidden_size)) - 1\n",
    "weights_1_2 = 2 * np.random.random(size=(hidden_size, 1)) - 1\n",
    "\n",
    "## training for a single data point\n",
    "##\n",
    "layer_0 = streetlights[0]\n",
    "layer_1 = relu(np.dot(layer_0, weights_0_1))\n",
    "layer_2 = np.dot(layer_1, weights_1_2)\n"
   ]
  },
  {
   "cell_type": "code",
   "execution_count": 152,
   "id": "superior-objective",
   "metadata": {},
   "outputs": [
    {
     "name": "stdout",
     "output_type": "stream",
     "text": [
      "Iter [ 0]: Error = 1.7808028748\n",
      "Iter [10]: Error = 1.3347877684\n",
      "Iter [20]: Error = 1.2035819447\n",
      "Iter [30]: Error = 1.1061957805\n",
      "Iter [40]: Error = 0.9719670651\n",
      "Iter [50]: Error = 0.7905809315\n",
      "Iter [60]: Error = 0.5953929383\n",
      "Iter [70]: Error = 0.3298613108\n",
      "Iter [80]: Error = 0.0999647575\n",
      "Iter [90]: Error = 0.0124700951\n",
      "Iter [100]: Error = 0.0007677983\n",
      "Iter [110]: Error = 0.0000381710\n",
      "Iter [120]: Error = 0.0000018294\n",
      "Iter [130]: Error = 0.0000000514\n",
      "Iter [140]: Error = 0.0000000015\n"
     ]
    },
    {
     "data": {
      "image/png": "[encoded data removed]",
      "text/plain": [
       "<Figure size 640x480 with 1 Axes>"
      ]
     },
     "metadata": {},
     "output_type": "display_data"
    }
   ],
   "source": [
    "## page 145\n",
    "\n",
    "import numpy as np\n",
    "import matplotlib.pyplot as plt\n",
    "\n",
    "np.random.seed(217)\n",
    "\n",
    "###############################################################\n",
    "## data\n",
    "\n",
    "streetlights = np.array([[1,0,1],\n",
    "                         [0,1,1],\n",
    "                         [0,0,1],\n",
    "                         [1,1,1],\n",
    "                        ])\n",
    "\n",
    "walk_vs_stop = np.array([[1,1,0,0]]).T\n",
    "\n",
    "###############################################################\n",
    "\n",
    "def relu(x):\n",
    "    return (x > 0) * x\n",
    "\n",
    "def relu_to_deriv(output):\n",
    "    return output > 0\n",
    "\n",
    "###############################################################\n",
    "\n",
    "alpha = 0.1\n",
    "hidden_size = 4\n",
    "\n",
    "weights_0_1 = 2 * np.random.random(size=(3, hidden_size)) - 1\n",
    "weights_1_2 = 2 * np.random.random(size=(hidden_size, hidden_size)) - 1\n",
    "weights_2_3 = 2 * np.random.random(size=(hidden_size, 1)) - 1\n",
    "\n",
    "###############################################################\n",
    "num_iters = 150\n",
    "error_list = []\n",
    "for iter_ in range(num_iters):\n",
    "    iter_error = 0\n",
    "    for i in range(len(streetlights)):\n",
    "        input_ = streetlights[i:i+1]\n",
    "        label_ = walk_vs_stop[i:i+1]\n",
    "        \n",
    "        layer_0 = input_\n",
    "        layer_1 = relu(np.dot(layer_0, weights_0_1))\n",
    "        layer_2 = relu(np.dot(layer_1, weights_1_2))\n",
    "        layer_3 = np.dot(layer_2, weights_2_3)\n",
    "        final_layer = layer_3\n",
    "        \n",
    "        error = np.sum((label_ - final_layer) ** 2)\n",
    "        iter_error += error\n",
    "        \n",
    "        layer_3_delta = label_ - final_layer\n",
    "        layer_2_delta = np.dot(layer_3_delta, weights_2_3.T) * relu_to_deriv(layer_2)\n",
    "        layer_1_delta = np.dot(layer_2_delta, weights_1_2.T) * relu_to_deriv(layer_1)\n",
    "        \n",
    "        weights_2_3 += alpha * np.dot(layer_2.T, layer_3_delta)\n",
    "        weights_1_2 += alpha * np.dot(layer_1.T, layer_2_delta)\n",
    "        weights_0_1 += alpha * np.dot(layer_0.T, layer_1_delta)\n",
    "    error_list.append(iter_error)\n",
    "    if iter_ % 10 == 0:\n",
    "        print(f\"Iter [{iter_:2}]: Error = {iter_error:.10f}\")\n",
    "\n",
    "plt.figure()\n",
    "plt.plot(list(range(num_iters)), error_list, label=\"train error\")\n",
    "plt.legend(); plt.grid(); plt.show()\n",
    "        \n",
    "        "
   ]
  },
  {
   "cell_type": "code",
   "execution_count": 119,
   "id": "charitable-option",
   "metadata": {},
   "outputs": [
    {
     "data": {
      "text/plain": [
       "((4, 1), (1, 1))"
      ]
     },
     "execution_count": 119,
     "metadata": {},
     "output_type": "execute_result"
    }
   ],
   "source": [
    "layer_1.T.shape, layer_2_delta.shape"
   ]
  },
  {
   "cell_type": "code",
   "execution_count": 120,
   "id": "south-stockholm",
   "metadata": {},
   "outputs": [
    {
     "data": {
      "text/plain": [
       "((3, 1), (1, 4))"
      ]
     },
     "execution_count": 120,
     "metadata": {},
     "output_type": "execute_result"
    }
   ],
   "source": [
    "layer_0.T.shape, layer_1_delta.shape"
   ]
  },
  {
   "cell_type": "code",
   "execution_count": 121,
   "id": "distinguished-mercy",
   "metadata": {},
   "outputs": [
    {
     "data": {
      "text/plain": [
       "((3, 4), (4, 1))"
      ]
     },
     "execution_count": 121,
     "metadata": {},
     "output_type": "execute_result"
    }
   ],
   "source": [
    "weights_0_1.shape, weights_1_2.shape"
   ]
  },
  {
   "cell_type": "code",
   "execution_count": 122,
   "id": "abroad-corner",
   "metadata": {},
   "outputs": [
    {
     "data": {
      "text/plain": [
       "(1, 3)"
      ]
     },
     "execution_count": 122,
     "metadata": {},
     "output_type": "execute_result"
    }
   ],
   "source": [
    "input_.shape"
   ]
  },
  {
   "cell_type": "code",
   "execution_count": 123,
   "id": "convenient-stretch",
   "metadata": {},
   "outputs": [
    {
     "data": {
      "text/plain": [
       "array([[1, 1, 1]])"
      ]
     },
     "execution_count": 123,
     "metadata": {},
     "output_type": "execute_result"
    }
   ],
   "source": [
    "input_"
   ]
  },
  {
   "cell_type": "code",
   "execution_count": 124,
   "id": "christian-deposit",
   "metadata": {},
   "outputs": [
    {
     "data": {
      "text/plain": [
       "(3,)"
      ]
     },
     "execution_count": 124,
     "metadata": {},
     "output_type": "execute_result"
    }
   ],
   "source": [
    "streetlights[0].shape"
   ]
  },
  {
   "cell_type": "code",
   "execution_count": 125,
   "id": "consistent-radio",
   "metadata": {},
   "outputs": [
    {
     "data": {
      "text/plain": [
       "(1,)"
      ]
     },
     "execution_count": 125,
     "metadata": {},
     "output_type": "execute_result"
    }
   ],
   "source": [
    "label.shape"
   ]
  },
  {
   "cell_type": "code",
   "execution_count": 126,
   "id": "worst-event",
   "metadata": {},
   "outputs": [
    {
     "data": {
      "text/plain": [
       "(1, 1)"
      ]
     },
     "execution_count": 126,
     "metadata": {},
     "output_type": "execute_result"
    }
   ],
   "source": [
    "walk_vs_stop[0:1].shape"
   ]
  },
  {
   "cell_type": "code",
   "execution_count": 127,
   "id": "wicked-sierra",
   "metadata": {},
   "outputs": [
    {
     "data": {
      "text/plain": [
       "0.042562000854258104"
      ]
     },
     "execution_count": 127,
     "metadata": {},
     "output_type": "execute_result"
    }
   ],
   "source": [
    "error"
   ]
  },
  {
   "cell_type": "code",
   "execution_count": 128,
   "id": "fatal-surprise",
   "metadata": {},
   "outputs": [
    {
     "data": {
      "text/plain": [
       "array([[0.2063056]])"
      ]
     },
     "execution_count": 128,
     "metadata": {},
     "output_type": "execute_result"
    }
   ],
   "source": [
    "layer_2"
   ]
  },
  {
   "cell_type": "code",
   "execution_count": 129,
   "id": "thrown-ecology",
   "metadata": {},
   "outputs": [
    {
     "data": {
      "text/plain": [
       "array([[-0.        ,  0.23299372,  0.        , -0.15249223]])"
      ]
     },
     "execution_count": 129,
     "metadata": {},
     "output_type": "execute_result"
    }
   ],
   "source": [
    "layer_1_delta"
   ]
  },
  {
   "cell_type": "code",
   "execution_count": 130,
   "id": "foster-albany",
   "metadata": {},
   "outputs": [
    {
     "data": {
      "text/plain": [
       "(1, 4)"
      ]
     },
     "execution_count": 130,
     "metadata": {},
     "output_type": "execute_result"
    }
   ],
   "source": [
    "layer_1_delta.shape"
   ]
  },
  {
   "cell_type": "code",
   "execution_count": 131,
   "id": "center-racing",
   "metadata": {},
   "outputs": [
    {
     "data": {
      "text/plain": [
       "array([[-0.2063056]])"
      ]
     },
     "execution_count": 131,
     "metadata": {},
     "output_type": "execute_result"
    }
   ],
   "source": [
    "layer_2_delta"
   ]
  },
  {
   "cell_type": "code",
   "execution_count": 132,
   "id": "meaning-optimum",
   "metadata": {},
   "outputs": [
    {
     "data": {
      "text/plain": [
       "(1, 1)"
      ]
     },
     "execution_count": 132,
     "metadata": {},
     "output_type": "execute_result"
    }
   ],
   "source": [
    "layer_2_delta.shape"
   ]
  },
  {
   "cell_type": "code",
   "execution_count": 133,
   "id": "adolescent-lobby",
   "metadata": {},
   "outputs": [
    {
     "data": {
      "text/plain": [
       "array([[False,  True, False,  True]])"
      ]
     },
     "execution_count": 133,
     "metadata": {},
     "output_type": "execute_result"
    }
   ],
   "source": [
    "relu_to_deriv(layer_1)"
   ]
  },
  {
   "cell_type": "code",
   "execution_count": 134,
   "id": "affecting-chess",
   "metadata": {},
   "outputs": [
    {
     "data": {
      "text/plain": [
       "array([[-0.10625614,  0.23600759,  0.03631028, -0.14669938]])"
      ]
     },
     "execution_count": 134,
     "metadata": {},
     "output_type": "execute_result"
    }
   ],
   "source": [
    "np.dot(layer_2_delta, weights_1_2.T)"
   ]
  },
  {
   "cell_type": "code",
   "execution_count": 135,
   "id": "orange-cricket",
   "metadata": {},
   "outputs": [
    {
     "data": {
      "text/plain": [
       "array([[ 0.        ],\n",
       "       [-0.01460877],\n",
       "       [ 0.        ],\n",
       "       [-0.028079  ]])"
      ]
     },
     "execution_count": 135,
     "metadata": {},
     "output_type": "execute_result"
    }
   ],
   "source": [
    "d"
   ]
  },
  {
   "cell_type": "code",
   "execution_count": 136,
   "id": "complex-grill",
   "metadata": {},
   "outputs": [
    {
     "data": {
      "text/plain": [
       "array([[ 0.51504246],\n",
       "       [-1.14397083],\n",
       "       [-0.1760024 ],\n",
       "       [ 0.71107803]])"
      ]
     },
     "execution_count": 136,
     "metadata": {},
     "output_type": "execute_result"
    }
   ],
   "source": [
    "weights_1_2"
   ]
  },
  {
   "cell_type": "code",
   "execution_count": 137,
   "id": "stone-minutes",
   "metadata": {},
   "outputs": [
    {
     "data": {
      "text/plain": [
       "4"
      ]
     },
     "execution_count": 137,
     "metadata": {},
     "output_type": "execute_result"
    }
   ],
   "source": [
    "len(walk_vs_stop)"
   ]
  },
  {
   "cell_type": "code",
   "execution_count": 108,
   "id": "cathedral-pulse",
   "metadata": {},
   "outputs": [
    {
     "data": {
      "text/plain": [
       "4"
      ]
     },
     "execution_count": 108,
     "metadata": {},
     "output_type": "execute_result"
    }
   ],
   "source": [
    "len(streetlights)"
   ]
  },
  {
   "cell_type": "markdown",
   "id": "bottom-eagle",
   "metadata": {},
   "source": [
    "# Chapter #08"
   ]
  },
  {
   "cell_type": "code",
   "execution_count": 162,
   "id": "opened-twist",
   "metadata": {},
   "outputs": [],
   "source": [
    "## page-164\n",
    "## three-layer NN on MNIST dataset\n",
    "\n",
    "import sys\n",
    "import numpy as np\n",
    "from keras.datasets import mnist"
   ]
  },
  {
   "cell_type": "code",
   "execution_count": 163,
   "id": "qualified-rider",
   "metadata": {},
   "outputs": [
    {
     "name": "stdout",
     "output_type": "stream",
     "text": [
      "Downloading data from https://storage.googleapis.com/tensorflow/tf-keras-datasets/mnist.npz\n",
      "11493376/11490434 [==============================] - 1s 0us/step\n",
      "11501568/11490434 [==============================] - 1s 0us/step\n"
     ]
    },
    {
     "data": {
      "text/plain": [
       "((60000, 28, 28), (60000,), (10000, 28, 28), (10000,))"
      ]
     },
     "execution_count": 163,
     "metadata": {},
     "output_type": "execute_result"
    }
   ],
   "source": [
    "(x_train, y_train), (x_test, y_test) = mnist.load_data()\n",
    "\n",
    "x_train.shape, y_train.shape, x_test.shape, y_test.shape"
   ]
  },
  {
   "cell_type": "code",
   "execution_count": 164,
   "id": "spectacular-circulation",
   "metadata": {},
   "outputs": [
    {
     "data": {
      "text/plain": [
       "dtype('uint8')"
      ]
     },
     "execution_count": 164,
     "metadata": {},
     "output_type": "execute_result"
    }
   ],
   "source": [
    "x_train.dtype"
   ]
  },
  {
   "cell_type": "code",
   "execution_count": 165,
   "id": "great-companion",
   "metadata": {},
   "outputs": [
    {
     "data": {
      "text/plain": [
       "numpy.ndarray"
      ]
     },
     "execution_count": 165,
     "metadata": {},
     "output_type": "execute_result"
    }
   ],
   "source": [
    "type(x_train)"
   ]
  },
  {
   "cell_type": "code",
   "execution_count": 196,
   "id": "variable-providence",
   "metadata": {},
   "outputs": [
    {
     "data": {
      "text/plain": [
       "((1000, 784), (1000,))"
      ]
     },
     "execution_count": 196,
     "metadata": {},
     "output_type": "execute_result"
    }
   ],
   "source": [
    "train_images = x_train[:1000].reshape(-1, 28*28) / 255\n",
    "train_labels = y_train[:1000]\n",
    "\n",
    "train_images.shape, train_labels.shape"
   ]
  },
  {
   "cell_type": "code",
   "execution_count": 197,
   "id": "israeli-bidder",
   "metadata": {},
   "outputs": [
    {
     "data": {
      "text/plain": [
       "((1000, 784), (1000,))"
      ]
     },
     "execution_count": 197,
     "metadata": {},
     "output_type": "execute_result"
    }
   ],
   "source": [
    "test_images = x_test[:1000].reshape(-1, 28*28) / 255\n",
    "test_labels = y_test[:1000]\n",
    "\n",
    "test_images.shape, test_labels.shape"
   ]
  },
  {
   "cell_type": "code",
   "execution_count": 198,
   "id": "outer-decimal",
   "metadata": {},
   "outputs": [],
   "source": [
    "train_labels_1hot = np.zeros(shape=(len(train_labels), 10))\n",
    "for i, x in enumerate(train_labels):\n",
    "    train_labels_1hot[i, x] = 1\n",
    "\n",
    "assert len(train_labels) == len(train_labels_1hot)"
   ]
  },
  {
   "cell_type": "code",
   "execution_count": 199,
   "id": "legislative-federation",
   "metadata": {},
   "outputs": [],
   "source": [
    "test_labels_1hot = np.zeros(shape=(len(test_labels), 10))\n",
    "for i, x in enumerate(test_labels):\n",
    "    test_labels_1hot[i, x] = 1\n",
    "\n",
    "assert len(test_labels) == len(test_labels_1hot)"
   ]
  },
  {
   "cell_type": "code",
   "execution_count": 201,
   "id": "asian-domestic",
   "metadata": {},
   "outputs": [
    {
     "data": {
      "text/plain": [
       "((1000, 10), (1000, 10))"
      ]
     },
     "execution_count": 201,
     "metadata": {},
     "output_type": "execute_result"
    }
   ],
   "source": [
    "train_labels_1hot.shape, test_labels_1hot.shape"
   ]
  },
  {
   "cell_type": "code",
   "execution_count": 202,
   "id": "tender-acquisition",
   "metadata": {},
   "outputs": [
    {
     "data": {
      "text/plain": [
       "array([0., 0., 0., 0., 0., 1., 0., 0., 0., 0.])"
      ]
     },
     "execution_count": 202,
     "metadata": {},
     "output_type": "execute_result"
    }
   ],
   "source": [
    "train_labels_1hot[0]"
   ]
  },
  {
   "cell_type": "code",
   "execution_count": 203,
   "id": "theoretical-collect",
   "metadata": {},
   "outputs": [
    {
     "data": {
      "text/plain": [
       "array([0., 0., 0., 0., 0., 0., 0., 1., 0., 0.])"
      ]
     },
     "execution_count": 203,
     "metadata": {},
     "output_type": "execute_result"
    }
   ],
   "source": [
    "test_labels_1hot[0]"
   ]
  },
  {
   "cell_type": "code",
   "execution_count": 204,
   "id": "fleet-eight",
   "metadata": {},
   "outputs": [
    {
     "data": {
      "text/plain": [
       "((784,), (784,))"
      ]
     },
     "execution_count": 204,
     "metadata": {},
     "output_type": "execute_result"
    }
   ],
   "source": [
    "train_images[0].shape, test_images[0].shape"
   ]
  },
  {
   "cell_type": "code",
   "execution_count": 181,
   "id": "consecutive-hygiene",
   "metadata": {},
   "outputs": [],
   "source": [
    "np.random.seed(217)"
   ]
  },
  {
   "cell_type": "code",
   "execution_count": 182,
   "id": "complete-active",
   "metadata": {},
   "outputs": [],
   "source": [
    "relu = lambda x: (x>0)*x\n",
    "relu_to_deriv = lambda x: x >= 0\n",
    "\n",
    "alpha = 0.005\n",
    "num_iters = 350\n",
    "hidden_size = 40\n",
    "pixels_per_img = 784\n",
    "num_labels = 10"
   ]
  },
  {
   "cell_type": "code",
   "execution_count": 194,
   "id": "disciplinary-luxury",
   "metadata": {},
   "outputs": [],
   "source": [
    "weights_0_1 = 0.2 * np.random.random(size=(pixels_per_img, hidden_size)) - 0.1\n",
    "weights_1_2 = 0.2 * np.random.random(size=(hidden_size, num_labels)) - 0.1"
   ]
  },
  {
   "cell_type": "code",
   "execution_count": 195,
   "id": "intended-favor",
   "metadata": {},
   "outputs": [
    {
     "name": "stdout",
     "output_type": "stream",
     "text": [
      "Iter [  0] | Error = 715.9550459073 | Accuracy = 53.9000%\n",
      "Iter [ 10] | Error = 292.0759468641 | Accuracy = 90.5000%\n",
      "Iter [ 20] | Error = 249.3485302726 | Accuracy = 92.8000%\n",
      "Iter [ 30] | Error = 228.7682784650 | Accuracy = 93.9000%\n",
      "Iter [ 40] | Error = 214.1572566199 | Accuracy = 95.4000%\n",
      "Iter [ 50] | Error = 202.7266069238 | Accuracy = 96.6000%\n",
      "Iter [ 60] | Error = 193.2989290863 | Accuracy = 97.1000%\n",
      "Iter [ 70] | Error = 185.5183819707 | Accuracy = 97.6000%\n",
      "Iter [ 80] | Error = 179.0787681172 | Accuracy = 98.1000%\n",
      "Iter [ 90] | Error = 173.1846001806 | Accuracy = 98.1000%\n",
      "Iter [100] | Error = 167.7714734005 | Accuracy = 98.3000%\n",
      "Iter [110] | Error = 162.6296898946 | Accuracy = 98.7000%\n",
      "Iter [120] | Error = 157.8634092267 | Accuracy = 98.8000%\n",
      "Iter [130] | Error = 153.4278399544 | Accuracy = 99.1000%\n",
      "Iter [140] | Error = 149.3244910007 | Accuracy = 99.2000%\n",
      "Iter [150] | Error = 145.7372877859 | Accuracy = 99.4000%\n",
      "Iter [160] | Error = 142.5372591707 | Accuracy = 99.6000%\n",
      "Iter [170] | Error = 139.6756913392 | Accuracy = 99.5000%\n",
      "Iter [180] | Error = 137.1142601552 | Accuracy = 99.6000%\n",
      "Iter [190] | Error = 134.7746615190 | Accuracy = 99.6000%\n",
      "Iter [200] | Error = 132.7781639298 | Accuracy = 99.7000%\n",
      "Iter [210] | Error = 131.0499608579 | Accuracy = 99.6000%\n",
      "Iter [220] | Error = 129.4040412585 | Accuracy = 99.6000%\n",
      "Iter [230] | Error = 127.7336600892 | Accuracy = 99.6000%\n",
      "Iter [240] | Error = 126.1023904922 | Accuracy = 99.6000%\n",
      "Iter [250] | Error = 124.5605897723 | Accuracy = 99.8000%\n",
      "Iter [260] | Error = 123.1332236582 | Accuracy = 99.8000%\n",
      "Iter [270] | Error = 121.8171510776 | Accuracy = 99.9000%\n",
      "Iter [280] | Error = 120.5970538193 | Accuracy = 99.8000%\n",
      "Iter [290] | Error = 119.4296283828 | Accuracy = 99.8000%\n",
      "Iter [300] | Error = 118.1115279366 | Accuracy = 99.8000%\n",
      "Iter [310] | Error = 116.6353732037 | Accuracy = 99.8000%\n",
      "Iter [320] | Error = 115.1026067415 | Accuracy = 99.8000%\n",
      "Iter [330] | Error = 113.5426588462 | Accuracy = 99.8000%\n",
      "Iter [340] | Error = 111.9634290194 | Accuracy = 99.8000%\n"
     ]
    },
    {
     "data": {
      "image/png": "[encoded data removed]",
      "text/plain": [
       "<Figure size 640x480 with 1 Axes>"
      ]
     },
     "metadata": {},
     "output_type": "display_data"
    },
    {
     "data": {
      "image/png": "[encoded data removed]",
      "text/plain": [
       "<Figure size 640x480 with 1 Axes>"
      ]
     },
     "metadata": {},
     "output_type": "display_data"
    }
   ],
   "source": [
    "error_list = []\n",
    "accuracy_list = []\n",
    "\n",
    "for iter_ in range(num_iters):\n",
    "    iter_error = 0.0\n",
    "    iter_correct_count = 0\n",
    "    for i in range(len(train_images)):\n",
    "        input_ = train_images[i:i+1]\n",
    "        label_ = train_labels_1hot[i:i+1]\n",
    "        \n",
    "        layer_0 = input_\n",
    "        layer_1 = relu(np.dot(layer_0, weights_0_1))\n",
    "        layer_2 = np.dot(layer_1, weights_1_2)\n",
    "        \n",
    "        error = np.sum((label_ - layer_2) ** 2)\n",
    "        iter_error += error\n",
    "        iter_correct_count += int(np.argmax(layer_2) == np.argmax(label_))\n",
    "        \n",
    "        layer_2_delta = label_ - layer_2\n",
    "        layer_1_delta = np.dot(layer_2_delta, weights_1_2.T) * relu_to_deriv(layer_1)\n",
    "        \n",
    "        weights_1_2 += alpha * np.dot(layer_1.T, layer_2_delta)\n",
    "        weights_0_1 += alpha * np.dot(layer_0.T, layer_1_delta)\n",
    "    \n",
    "    error_list.append(iter_error)\n",
    "    iter_accuracy = 100 * iter_correct_count / len(train_images)\n",
    "    accuracy_list.append(iter_accuracy)\n",
    "    \n",
    "    if iter_ % 10 == 0:\n",
    "        print(f\"Iter [{iter_:3}] | Error = {iter_error:.10f} | Accuracy = {iter_accuracy:3.4f}%\")\n",
    "        \n",
    "plt.figure()\n",
    "plt.plot(list(range(num_iters)), error_list, label=\"error\")\n",
    "plt.legend(); plt.grid(); plt.tight_layout(); plt.show()\n",
    "plt.figure()\n",
    "plt.plot(list(range(num_iters)), accuracy_list, label=\"accuracy\")\n",
    "plt.legend(); plt.grid(); plt.tight_layout(); plt.show()"
   ]
  },
  {
   "cell_type": "code",
   "execution_count": 208,
   "id": "trying-antibody",
   "metadata": {},
   "outputs": [
    {
     "name": "stdout",
     "output_type": "stream",
     "text": [
      "Test Accuracy = 66.30 %\n"
     ]
    }
   ],
   "source": [
    "## test phase\n",
    "\n",
    "test_accuracy_count = 0.0\n",
    "\n",
    "for i in range(len(test_images)):\n",
    "    input_ = test_images[i:i+1]\n",
    "    label_ = test_labels_1hot[i:i+1]\n",
    "\n",
    "    layer_0 = input_\n",
    "    layer_1 = relu(np.dot(layer_0, weights_0_1))\n",
    "    layer_2 = np.dot(layer_1, weights_1_2)\n",
    "    \n",
    "    pred = layer_2\n",
    "    test_accuracy_count += np.argmax(label_) == np.argmax(pred)\n",
    "\n",
    "test_accuracy = 100 * test_accuracy_count / len(test_images)\n",
    "print(f\"Test Accuracy = {test_accuracy:5.2f} %\")\n"
   ]
  },
  {
   "cell_type": "code",
   "execution_count": null,
   "id": "laughing-layer",
   "metadata": {},
   "outputs": [],
   "source": []
  },
  {
   "cell_type": "code",
   "execution_count": 222,
   "id": "overhead-ownership",
   "metadata": {},
   "outputs": [
    {
     "name": "stdout",
     "output_type": "stream",
     "text": [
      "Iter [  0] | Error = 0.7311013093 | Accuracy = 51.1000%\n",
      "Iter [ 10] | Error = 0.2834452419 | Accuracy = 90.8000%\n",
      "Iter [ 20] | Error = 0.2356158251 | Accuracy = 94.3000%\n",
      "Iter [ 30] | Error = 0.2144662231 | Accuracy = 95.9000%\n",
      "Iter [ 40] | Error = 0.2016638888 | Accuracy = 96.3000%\n",
      "Iter [ 50] | Error = 0.1923243655 | Accuracy = 97.1000%\n",
      "Iter [ 60] | Error = 0.1846170633 | Accuracy = 97.3000%\n",
      "Iter [ 70] | Error = 0.1783093302 | Accuracy = 97.8000%\n",
      "Iter [ 80] | Error = 0.1732544349 | Accuracy = 98.1000%\n",
      "Iter [ 90] | Error = 0.1691585708 | Accuracy = 98.4000%\n",
      "Iter [100] | Error = 0.1656124693 | Accuracy = 98.6000%\n",
      "Iter [110] | Error = 0.1626106697 | Accuracy = 98.6000%\n",
      "Iter [120] | Error = 0.1595655312 | Accuracy = 98.6000%\n",
      "Iter [130] | Error = 0.1566619381 | Accuracy = 98.7000%\n",
      "Iter [140] | Error = 0.1537847107 | Accuracy = 98.7000%\n",
      "Iter [150] | Error = 0.1509159067 | Accuracy = 99.0000%\n",
      "Iter [160] | Error = 0.1480729453 | Accuracy = 98.9000%\n",
      "Iter [170] | Error = 0.1453867887 | Accuracy = 99.2000%\n",
      "Iter [180] | Error = 0.1428481913 | Accuracy = 99.3000%\n",
      "Iter [190] | Error = 0.1404919006 | Accuracy = 99.4000%\n",
      "Iter [200] | Error = 0.1381898546 | Accuracy = 99.5000%\n",
      "Iter [210] | Error = 0.1359771075 | Accuracy = 99.7000%\n",
      "Iter [220] | Error = 0.1342160439 | Accuracy = 99.8000%\n",
      "Iter [230] | Error = 0.1329572527 | Accuracy = 99.8000%\n",
      "Iter [240] | Error = 0.1320252465 | Accuracy = 99.8000%\n",
      "Iter [250] | Error = 0.1315421007 | Accuracy = 99.9000%\n",
      "Iter [260] | Error = 0.1312403349 | Accuracy = 99.9000%\n",
      "Iter [270] | Error = 0.1309617520 | Accuracy = 99.9000%\n",
      "Iter [280] | Error = 0.1306182878 | Accuracy = 99.9000%\n",
      "Iter [290] | Error = 0.1304182898 | Accuracy = 99.9000%\n",
      "Iter [300] | Error = 0.1303085254 | Accuracy = 99.8000%\n",
      "Iter [310] | Error = 0.1301289433 | Accuracy = 99.9000%\n",
      "Iter [320] | Error = 0.1295582439 | Accuracy = 99.9000%\n",
      "Iter [330] | Error = 0.1291467814 | Accuracy = 99.9000%\n",
      "Iter [340] | Error = 0.1286366678 | Accuracy = 99.9000%\n"
     ]
    },
    {
     "data": {
      "image/png": "[encoded data removed]",
      "text/plain": [
       "<Figure size 640x480 with 1 Axes>"
      ]
     },
     "metadata": {},
     "output_type": "display_data"
    },
    {
     "data": {
      "image/png": "[encoded data removed]",
      "text/plain": [
       "<Figure size 640x480 with 1 Axes>"
      ]
     },
     "metadata": {},
     "output_type": "display_data"
    }
   ],
   "source": [
    "## Overall training Script\n",
    "##\n",
    "\n",
    "(x_train, y_train), (x_test, y_test) = mnist.load_data()\n",
    "# x_train.shape, y_train.shape, x_test.shape, y_test.shape\n",
    "\n",
    "train_images = x_train[:1000].reshape(-1, 28*28) / 255\n",
    "train_labels = y_train[:1000]\n",
    "# train_images.shape, train_labels.shape\n",
    "\n",
    "train_labels_1hot = np.zeros(shape=(len(train_labels), 10))\n",
    "for i, x in enumerate(train_labels):\n",
    "    train_labels_1hot[i, x] = 1\n",
    "\n",
    "assert len(train_labels) == len(train_labels_1hot)\n",
    "\n",
    "relu = lambda x: (x>0)*x\n",
    "relu_to_deriv = lambda x: x >= 0\n",
    "\n",
    "alpha = 0.005\n",
    "num_iters = 350\n",
    "hidden_size = 40\n",
    "pixels_per_img = 784\n",
    "num_labels = 10\n",
    "\n",
    "weights_0_1 = 0.2 * np.random.random(size=(pixels_per_img, hidden_size)) - 0.1\n",
    "weights_1_2 = 0.2 * np.random.random(size=(hidden_size, num_labels)) - 0.1\n",
    "\n",
    "error_list = []\n",
    "accuracy_list = []\n",
    "\n",
    "for iter_ in range(num_iters):\n",
    "    iter_error = 0.0\n",
    "    iter_correct_count = 0\n",
    "    for i in range(len(train_images)):\n",
    "        input_ = train_images[i:i+1]\n",
    "        label_ = train_labels_1hot[i:i+1]\n",
    "        \n",
    "        layer_0 = input_\n",
    "        layer_1 = relu(np.dot(layer_0, weights_0_1))\n",
    "        layer_2 = np.dot(layer_1, weights_1_2)\n",
    "        \n",
    "        error = np.sum((label_ - layer_2) ** 2)\n",
    "        iter_error += error\n",
    "        iter_correct_count += int(np.argmax(layer_2) == np.argmax(label_))\n",
    "        \n",
    "        layer_2_delta = label_ - layer_2\n",
    "        layer_1_delta = np.dot(layer_2_delta, weights_1_2.T) * relu_to_deriv(layer_1)\n",
    "        \n",
    "        weights_1_2 += alpha * np.dot(layer_1.T, layer_2_delta)\n",
    "        weights_0_1 += alpha * np.dot(layer_0.T, layer_1_delta)\n",
    "    \n",
    "    iter_error /= len(train_images)\n",
    "    error_list.append(iter_error)\n",
    "    iter_accuracy = 100 * iter_correct_count / len(train_images)\n",
    "    accuracy_list.append(iter_accuracy)\n",
    "    \n",
    "    if iter_ % 10 == 0:\n",
    "        print(f\"Iter [{iter_:3}] | Error = {iter_error:.10f} | Accuracy = {iter_accuracy:3.4f}%\")\n",
    "        \n",
    "plt.figure()\n",
    "plt.plot(list(range(num_iters)), error_list, label=\"error\")\n",
    "plt.legend(); plt.grid(); plt.tight_layout(); plt.show()\n",
    "plt.figure()\n",
    "plt.plot(list(range(num_iters)), accuracy_list, label=\"accuracy\")\n",
    "plt.legend(); plt.grid(); plt.tight_layout(); plt.show()"
   ]
  },
  {
   "cell_type": "code",
   "execution_count": 223,
   "id": "taken-participation",
   "metadata": {},
   "outputs": [
    {
     "name": "stdout",
     "output_type": "stream",
     "text": [
      "Test Accuracy = 64.60 %\n"
     ]
    }
   ],
   "source": [
    "## test phase\n",
    "\n",
    "test_accuracy_count = 0.0\n",
    "\n",
    "for i in range(len(test_images)):\n",
    "    input_ = test_images[i:i+1]\n",
    "    label_ = test_labels_1hot[i:i+1]\n",
    "\n",
    "    layer_0 = input_\n",
    "    layer_1 = relu(np.dot(layer_0, weights_0_1))\n",
    "    layer_2 = np.dot(layer_1, weights_1_2)\n",
    "    \n",
    "    pred = layer_2\n",
    "    test_accuracy_count += np.argmax(label_) == np.argmax(pred)\n",
    "\n",
    "test_accuracy = 100 * test_accuracy_count / len(test_images)\n",
    "print(f\"Test Accuracy = {test_accuracy:5.2f} %\")\n"
   ]
  },
  {
   "cell_type": "code",
   "execution_count": null,
   "id": "fifty-gothic",
   "metadata": {},
   "outputs": [],
   "source": []
  },
  {
   "cell_type": "code",
   "execution_count": null,
   "id": "powerful-yemen",
   "metadata": {},
   "outputs": [],
   "source": []
  },
  {
   "cell_type": "markdown",
   "id": "polyphonic-break",
   "metadata": {},
   "source": [
    "## Dropout"
   ]
  },
  {
   "cell_type": "code",
   "execution_count": 268,
   "id": "iraqi-power",
   "metadata": {},
   "outputs": [],
   "source": [
    "import time"
   ]
  },
  {
   "cell_type": "code",
   "execution_count": 271,
   "id": "timely-auckland",
   "metadata": {},
   "outputs": [
    {
     "name": "stdout",
     "output_type": "stream",
     "text": [
      "| Iter [  0] | Train_Error = 0.8912245512 | Train_Accuracy = 38.20% | Test_Accuracy = 59.70 %\n",
      "| Iter [ 10] | Train_Error = 0.4674464723 | Train_Accuracy = 77.20% | Test_Accuracy = 74.40 %\n",
      "| Iter [ 20] | Train_Error = 0.4278858689 | Train_Accuracy = 79.70% | Test_Accuracy = 77.40 %\n",
      "| Iter [ 30] | Train_Error = 0.3944583771 | Train_Accuracy = 84.50% | Test_Accuracy = 78.10 %\n",
      "| Iter [ 40] | Train_Error = 0.3833868899 | Train_Accuracy = 84.90% | Test_Accuracy = 79.80 %\n",
      "| Iter [ 50] | Train_Error = 0.3770982180 | Train_Accuracy = 85.60% | Test_Accuracy = 79.60 %\n",
      "| Iter [ 60] | Train_Error = 0.3558180669 | Train_Accuracy = 86.40% | Test_Accuracy = 80.60 %\n",
      "| Iter [ 70] | Train_Error = 0.3461756135 | Train_Accuracy = 87.10% | Test_Accuracy = 80.90 %\n",
      "| Iter [ 80] | Train_Error = 0.3469826004 | Train_Accuracy = 87.80% | Test_Accuracy = 82.00 %\n",
      "| Iter [ 90] | Train_Error = 0.3440449280 | Train_Accuracy = 88.50% | Test_Accuracy = 80.30 %\n",
      "| Iter [100] | Train_Error = 0.3565374971 | Train_Accuracy = 88.00% | Test_Accuracy = 81.20 %\n",
      "| Iter [110] | Train_Error = 0.3449631514 | Train_Accuracy = 87.90% | Test_Accuracy = 81.90 %\n",
      "| Iter [120] | Train_Error = 0.3344532309 | Train_Accuracy = 89.90% | Test_Accuracy = 81.80 %\n",
      "| Iter [130] | Train_Error = 0.3324516620 | Train_Accuracy = 89.50% | Test_Accuracy = 81.70 %\n",
      "| Iter [140] | Train_Error = 0.3178029543 | Train_Accuracy = 89.80% | Test_Accuracy = 80.40 %\n",
      "| Iter [150] | Train_Error = 0.3143297237 | Train_Accuracy = 90.30% | Test_Accuracy = 82.00 %\n",
      "| Iter [160] | Train_Error = 0.3144282001 | Train_Accuracy = 89.90% | Test_Accuracy = 81.30 %\n",
      "| Iter [170] | Train_Error = 0.3199358113 | Train_Accuracy = 90.10% | Test_Accuracy = 80.60 %\n",
      "| Iter [180] | Train_Error = 0.3165271998 | Train_Accuracy = 90.70% | Test_Accuracy = 81.20 %\n",
      "| Iter [190] | Train_Error = 0.3151575757 | Train_Accuracy = 89.80% | Test_Accuracy = 79.80 %\n",
      "| Iter [200] | Train_Error = 0.3282207660 | Train_Accuracy = 90.70% | Test_Accuracy = 80.60 %\n",
      "| Iter [210] | Train_Error = 0.3008612559 | Train_Accuracy = 90.50% | Test_Accuracy = 81.40 %\n",
      "| Iter [220] | Train_Error = 0.3080281107 | Train_Accuracy = 92.10% | Test_Accuracy = 80.30 %\n",
      "| Iter [230] | Train_Error = 0.3103409863 | Train_Accuracy = 90.90% | Test_Accuracy = 79.50 %\n",
      "| Iter [240] | Train_Error = 0.3037052291 | Train_Accuracy = 92.10% | Test_Accuracy = 80.40 %\n",
      "| Iter [250] | Train_Error = 0.2852223010 | Train_Accuracy = 92.30% | Test_Accuracy = 80.50 %\n",
      "| Iter [260] | Train_Error = 0.3089656486 | Train_Accuracy = 90.50% | Test_Accuracy = 79.60 %\n",
      "| Iter [270] | Train_Error = 0.3014222760 | Train_Accuracy = 90.50% | Test_Accuracy = 80.20 %\n",
      "| Iter [280] | Train_Error = 0.3070611892 | Train_Accuracy = 90.60% | Test_Accuracy = 80.70 %\n",
      "| Iter [290] | Train_Error = 0.2957766206 | Train_Accuracy = 90.10% | Test_Accuracy = 80.30 %\n",
      "| Iter [300] | Train_Error = 0.2887974149 | Train_Accuracy = 92.40% | Test_Accuracy = 81.10 %\n",
      "| Iter [310] | Train_Error = 0.2956973275 | Train_Accuracy = 92.60% | Test_Accuracy = 80.70 %\n",
      "| Iter [320] | Train_Error = 0.2792804594 | Train_Accuracy = 91.90% | Test_Accuracy = 79.60 %\n",
      "| Iter [330] | Train_Error = 0.2848339752 | Train_Accuracy = 92.60% | Test_Accuracy = 79.70 %\n",
      "| Iter [340] | Train_Error = 0.2810970297 | Train_Accuracy = 91.90% | Test_Accuracy = 79.30 %\n"
     ]
    },
    {
     "data": {
      "image/png": "[encoded data removed]",
      "text/plain": [
       "<Figure size 640x480 with 1 Axes>"
      ]
     },
     "metadata": {},
     "output_type": "display_data"
    },
    {
     "data": {
      "image/png": "[encoded data removed]",
      "text/plain": [
       "<Figure size 640x480 with 1 Axes>"
      ]
     },
     "metadata": {},
     "output_type": "display_data"
    },
    {
     "name": "stdout",
     "output_type": "stream",
     "text": [
      "69.85398197174072\n"
     ]
    }
   ],
   "source": [
    "start_time = time.time()\n",
    "\n",
    "## page-172\n",
    "## DROPOUT\n",
    "\n",
    "## Overall training Script\n",
    "##\n",
    "\n",
    "(x_train, y_train), (x_test, y_test) = mnist.load_data()\n",
    "# x_train.shape, y_train.shape, x_test.shape, y_test.shape\n",
    "\n",
    "train_images = x_train[:1000].reshape(-1, 28*28) / 255\n",
    "train_labels = y_train[:1000]\n",
    "# train_images.shape, train_labels.shape\n",
    "\n",
    "train_labels_1hot = np.zeros(shape=(len(train_labels), 10))\n",
    "for i, x in enumerate(train_labels):\n",
    "    train_labels_1hot[i, x] = 1\n",
    "\n",
    "assert len(train_labels) == len(train_labels_1hot)\n",
    "\n",
    "relu = lambda x: (x>0)*x\n",
    "relu_to_deriv = lambda x: x >= 0\n",
    "\n",
    "alpha = 0.005\n",
    "num_iters = 350\n",
    "hidden_size = 100\n",
    "pixels_per_img = 784\n",
    "num_labels = 10\n",
    "\n",
    "weights_0_1 = 0.2 * np.random.random(size=(pixels_per_img, hidden_size)) - 0.1\n",
    "weights_1_2 = 0.2 * np.random.random(size=(hidden_size, num_labels)) - 0.1\n",
    "\n",
    "error_list = []\n",
    "train_accuracy_list = []\n",
    "test_accuracy_list = []\n",
    "\n",
    "for iter_ in range(num_iters):\n",
    "    iter_error = 0.0\n",
    "    iter_correct_count = 0\n",
    "    for i in range(len(train_images)):\n",
    "        input_ = train_images[i:i+1]\n",
    "        label_ = train_labels_1hot[i:i+1]\n",
    "        \n",
    "        ## Forward pass\n",
    "        layer_0 = input_\n",
    "        \n",
    "        layer_1 = relu(np.dot(layer_0, weights_0_1))\n",
    "        ## dropout application the hidden layer\n",
    "        dropout_mask = np.random.randint(low=0, high=2, size=layer_1.shape)\n",
    "        layer_1 *= dropout_mask * 2\n",
    "\n",
    "        layer_2 = np.dot(layer_1, weights_1_2)\n",
    "        \n",
    "        ## error/accuracy calculation\n",
    "        error = np.sum((label_ - layer_2) ** 2)\n",
    "        iter_error += error\n",
    "        iter_correct_count += int(np.argmax(layer_2) == np.argmax(label_))\n",
    "        \n",
    "        ## backpropagation & updating the weights\n",
    "        layer_2_delta = label_ - layer_2\n",
    "        layer_1_delta = np.dot(layer_2_delta, weights_1_2.T) * relu_to_deriv(layer_1)\n",
    "        layer_1_delta *= dropout_mask\n",
    "        \n",
    "        weights_1_2 += alpha * np.dot(layer_1.T, layer_2_delta)\n",
    "        weights_0_1 += alpha * np.dot(layer_0.T, layer_1_delta)\n",
    "        \n",
    "    iter_error /= len(train_images)\n",
    "    error_list.append(iter_error)\n",
    "    iter_accuracy = 100 * iter_correct_count / len(train_images)\n",
    "    train_accuracy_list.append(iter_accuracy)\n",
    "    \n",
    "    if iter_ % 10 == 0:\n",
    "        \n",
    "        ## test phase\n",
    "        test_accuracy_count = 0.0\n",
    "\n",
    "        for i in range(len(test_images)):\n",
    "            input_ = test_images[i:i+1]\n",
    "            label_ = test_labels_1hot[i:i+1]\n",
    "\n",
    "            layer_0 = input_\n",
    "            layer_1 = relu(np.dot(layer_0, weights_0_1))\n",
    "            layer_2 = np.dot(layer_1, weights_1_2)\n",
    "\n",
    "            pred = layer_2\n",
    "            test_accuracy_count += np.argmax(label_) == np.argmax(pred)\n",
    "\n",
    "        test_accuracy = 100 * test_accuracy_count / len(test_images)\n",
    "        test_accuracy_list.append(test_accuracy)\n",
    "        print(f\"| Iter [{iter_:3}] | Train_Error = {iter_error:.10f} | Train_Accuracy = {iter_accuracy:3.2f}% | Test_Accuracy = {test_accuracy:5.2f} %\")\n",
    "\n",
    "\n",
    "        \n",
    "plt.figure()\n",
    "plt.plot(list(range(num_iters)), error_list, label=\"error\")\n",
    "plt.legend(); plt.grid(); plt.tight_layout(); plt.show()\n",
    "plt.figure()\n",
    "plt.plot(list(range(num_iters)), train_accuracy_list, label=\"train_accuracy\")\n",
    "plt.plot(list(range(num_iters//10)), test_accuracy_list, label=\"test_accuracy\")\n",
    "plt.legend(); plt.grid(); plt.tight_layout(); plt.show()\n",
    "\n",
    "print(time.time() - start_time)"
   ]
  },
  {
   "cell_type": "code",
   "execution_count": 225,
   "id": "challenging-disabled",
   "metadata": {},
   "outputs": [
    {
     "name": "stdout",
     "output_type": "stream",
     "text": [
      "Test Accuracy = 80.20 %\n"
     ]
    }
   ],
   "source": [
    "## test phase\n",
    "\n",
    "test_accuracy_count = 0.0\n",
    "\n",
    "for i in range(len(test_images)):\n",
    "    input_ = test_images[i:i+1]\n",
    "    label_ = test_labels_1hot[i:i+1]\n",
    "\n",
    "    layer_0 = input_\n",
    "    layer_1 = relu(np.dot(layer_0, weights_0_1))\n",
    "    layer_2 = np.dot(layer_1, weights_1_2)\n",
    "    \n",
    "    pred = layer_2\n",
    "    test_accuracy_count += np.argmax(label_) == np.argmax(pred)\n",
    "\n",
    "test_accuracy = 100 * test_accuracy_count / len(test_images)\n",
    "print(f\"Test Accuracy = {test_accuracy:5.2f} %\")\n"
   ]
  },
  {
   "cell_type": "code",
   "execution_count": null,
   "id": "mexican-listing",
   "metadata": {},
   "outputs": [],
   "source": []
  },
  {
   "cell_type": "markdown",
   "id": "republican-standing",
   "metadata": {},
   "source": [
    "## Batched Gradient Descent"
   ]
  },
  {
   "cell_type": "code",
   "execution_count": 272,
   "id": "excellent-functionality",
   "metadata": {},
   "outputs": [
    {
     "name": "stdout",
     "output_type": "stream",
     "text": [
      "| Iter [  0] | Train_Error = 0.8849606536 | Train_Accuracy = 40.60% | Test_Accuracy = 60.70 %\n",
      "| Iter [ 10] | Train_Error = 0.4769103338 | Train_Accuracy = 78.10% | Test_Accuracy = 74.50 %\n",
      "| Iter [ 20] | Train_Error = 0.4327391967 | Train_Accuracy = 80.70% | Test_Accuracy = 78.50 %\n",
      "| Iter [ 30] | Train_Error = 0.4177032630 | Train_Accuracy = 83.00% | Test_Accuracy = 80.00 %\n",
      "| Iter [ 40] | Train_Error = 0.4035515408 | Train_Accuracy = 83.60% | Test_Accuracy = 79.80 %\n",
      "| Iter [ 50] | Train_Error = 0.3918459087 | Train_Accuracy = 84.40% | Test_Accuracy = 79.50 %\n",
      "| Iter [ 60] | Train_Error = 0.3867343410 | Train_Accuracy = 84.20% | Test_Accuracy = 80.40 %\n",
      "| Iter [ 70] | Train_Error = 0.3746240894 | Train_Accuracy = 83.80% | Test_Accuracy = 80.90 %\n",
      "| Iter [ 80] | Train_Error = 0.3870268799 | Train_Accuracy = 85.00% | Test_Accuracy = 81.40 %\n",
      "| Iter [ 90] | Train_Error = 0.3879573522 | Train_Accuracy = 84.60% | Test_Accuracy = 78.10 %\n",
      "| Iter [100] | Train_Error = 0.3842175628 | Train_Accuracy = 85.80% | Test_Accuracy = 79.80 %\n",
      "| Iter [110] | Train_Error = 0.3695516864 | Train_Accuracy = 86.30% | Test_Accuracy = 78.90 %\n",
      "| Iter [120] | Train_Error = 0.3641735191 | Train_Accuracy = 86.40% | Test_Accuracy = 79.10 %\n",
      "| Iter [130] | Train_Error = 0.3776503064 | Train_Accuracy = 86.00% | Test_Accuracy = 79.10 %\n",
      "| Iter [140] | Train_Error = 0.3757467211 | Train_Accuracy = 87.40% | Test_Accuracy = 77.70 %\n",
      "| Iter [150] | Train_Error = 0.3659684452 | Train_Accuracy = 87.80% | Test_Accuracy = 78.90 %\n",
      "| Iter [160] | Train_Error = 0.3642923041 | Train_Accuracy = 86.40% | Test_Accuracy = 78.10 %\n",
      "| Iter [170] | Train_Error = 0.3595229022 | Train_Accuracy = 86.90% | Test_Accuracy = 80.30 %\n",
      "| Iter [180] | Train_Error = 0.3649661038 | Train_Accuracy = 88.40% | Test_Accuracy = 80.30 %\n",
      "| Iter [190] | Train_Error = 0.3691226595 | Train_Accuracy = 87.30% | Test_Accuracy = 80.20 %\n",
      "| Iter [200] | Train_Error = 0.3537347273 | Train_Accuracy = 89.00% | Test_Accuracy = 78.20 %\n",
      "| Iter [210] | Train_Error = 0.3557729750 | Train_Accuracy = 87.40% | Test_Accuracy = 80.40 %\n",
      "| Iter [220] | Train_Error = 0.3578594481 | Train_Accuracy = 88.10% | Test_Accuracy = 79.60 %\n",
      "| Iter [230] | Train_Error = 0.3415357635 | Train_Accuracy = 89.30% | Test_Accuracy = 80.20 %\n",
      "| Iter [240] | Train_Error = 0.3430918295 | Train_Accuracy = 89.50% | Test_Accuracy = 79.70 %\n",
      "| Iter [250] | Train_Error = 0.3426327062 | Train_Accuracy = 89.40% | Test_Accuracy = 80.90 %\n",
      "| Iter [260] | Train_Error = 0.3315428600 | Train_Accuracy = 88.40% | Test_Accuracy = 79.30 %\n",
      "| Iter [270] | Train_Error = 0.3482030884 | Train_Accuracy = 88.20% | Test_Accuracy = 79.90 %\n",
      "| Iter [280] | Train_Error = 0.3463408135 | Train_Accuracy = 88.60% | Test_Accuracy = 79.70 %\n",
      "| Iter [290] | Train_Error = 0.3311831513 | Train_Accuracy = 89.90% | Test_Accuracy = 79.50 %\n",
      "| Iter [300] | Train_Error = 0.3352935654 | Train_Accuracy = 90.00% | Test_Accuracy = 77.30 %\n",
      "| Iter [310] | Train_Error = 0.3452479498 | Train_Accuracy = 87.60% | Test_Accuracy = 80.40 %\n",
      "| Iter [320] | Train_Error = 0.3364742407 | Train_Accuracy = 88.40% | Test_Accuracy = 77.60 %\n",
      "| Iter [330] | Train_Error = 0.3295346663 | Train_Accuracy = 90.50% | Test_Accuracy = 80.00 %\n",
      "| Iter [340] | Train_Error = 0.3591320775 | Train_Accuracy = 89.50% | Test_Accuracy = 76.60 %\n"
     ]
    },
    {
     "data": {
      "image/png": "[encoded data removed]",
      "text/plain": [
       "<Figure size 640x480 with 1 Axes>"
      ]
     },
     "metadata": {},
     "output_type": "display_data"
    },
    {
     "data": {
      "image/png": "[encoded data removed]",
      "text/plain": [
       "<Figure size 640x480 with 1 Axes>"
      ]
     },
     "metadata": {},
     "output_type": "display_data"
    },
    {
     "name": "stdout",
     "output_type": "stream",
     "text": [
      "55.42038083076477\n"
     ]
    }
   ],
   "source": [
    "start_time = time.time()\n",
    "\n",
    "## page-172\n",
    "## DROPOUT\n",
    "\n",
    "## Overall training Script\n",
    "##\n",
    "\n",
    "(x_train, y_train), (x_test, y_test) = mnist.load_data()\n",
    "# x_train.shape, y_train.shape, x_test.shape, y_test.shape\n",
    "\n",
    "train_images = x_train[:1000].reshape(-1, 28*28) / 255\n",
    "train_labels = y_train[:1000]\n",
    "# train_images.shape, train_labels.shape\n",
    "\n",
    "train_labels_1hot = np.zeros(shape=(len(train_labels), 10))\n",
    "for i, x in enumerate(train_labels):\n",
    "    train_labels_1hot[i, x] = 1\n",
    "\n",
    "assert len(train_labels) == len(train_labels_1hot)\n",
    "\n",
    "relu = lambda x: (x>0)*x\n",
    "relu_to_deriv = lambda x: x >= 0\n",
    "\n",
    "alpha = 0.005\n",
    "num_iters = 350\n",
    "hidden_size = 100\n",
    "pixels_per_img = 784\n",
    "num_labels = 10\n",
    "batch_size = 10\n",
    "\n",
    "weights_0_1 = 0.2 * np.random.random(size=(pixels_per_img, hidden_size)) - 0.1\n",
    "weights_1_2 = 0.2 * np.random.random(size=(hidden_size, num_labels)) - 0.1\n",
    "\n",
    "error_list = []\n",
    "train_accuracy_list = []\n",
    "test_accuracy_list = []\n",
    "\n",
    "for iter_ in range(num_iters):\n",
    "    iter_error = 0.0\n",
    "    iter_correct_count = 0\n",
    "    for i in range(len(train_images) // batch_size):\n",
    "        batch_start = i * batch_size\n",
    "        batch_end = (i+1) * batch_size\n",
    "        input_ = train_images[batch_start:batch_end]\n",
    "        label_ = train_labels_1hot[batch_start:batch_end]\n",
    "        \n",
    "        ## Forward pass\n",
    "        layer_0 = input_\n",
    "        \n",
    "        layer_1 = relu(np.dot(layer_0, weights_0_1))\n",
    "        ## dropout application the hidden layer\n",
    "        dropout_mask = np.random.randint(low=0, high=2, size=layer_1.shape)\n",
    "        layer_1 *= dropout_mask * 2\n",
    "\n",
    "        layer_2 = np.dot(layer_1, weights_1_2)\n",
    "        pred = layer_2\n",
    "        \n",
    "        ## error/accuracy calculation\n",
    "        error = np.sum((label_ - pred) ** 2)\n",
    "        iter_error += error\n",
    "        \n",
    "        ## BATCHED backpropagation & updating the weights\n",
    "        for j in range(batch_size):\n",
    "            iter_correct_count += int(np.argmax(pred[j:j+1]) == np.argmax(label_[j:j+1]))\n",
    "            layer_2_delta = (label_ - pred) / batch_size\n",
    "            layer_1_delta = np.dot(layer_2_delta, weights_1_2.T) * relu_to_deriv(layer_1)\n",
    "            layer_1_delta *= dropout_mask\n",
    "\n",
    "            weights_1_2 += alpha * np.dot(layer_1.T, layer_2_delta)\n",
    "            weights_0_1 += alpha * np.dot(layer_0.T, layer_1_delta)\n",
    "        \n",
    "    iter_error /= len(train_images)\n",
    "    error_list.append(iter_error)\n",
    "    iter_accuracy = 100 * iter_correct_count / len(train_images)\n",
    "    train_accuracy_list.append(iter_accuracy)\n",
    "    \n",
    "    if iter_ % 10 == 0:\n",
    "        \n",
    "        ## test phase\n",
    "        test_accuracy_count = 0.0\n",
    "\n",
    "        for i in range(len(test_images)):\n",
    "            input_ = test_images[i:i+1]\n",
    "            label_ = test_labels_1hot[i:i+1]\n",
    "\n",
    "            layer_0 = input_\n",
    "            layer_1 = relu(np.dot(layer_0, weights_0_1))\n",
    "            layer_2 = np.dot(layer_1, weights_1_2)\n",
    "\n",
    "            pred = layer_2\n",
    "            test_accuracy_count += np.argmax(label_) == np.argmax(pred)\n",
    "\n",
    "        test_accuracy = 100 * test_accuracy_count / len(test_images)\n",
    "        test_accuracy_list.append(test_accuracy)\n",
    "        print(f\"| Iter [{iter_:3}] | Train_Error = {iter_error:.10f} | Train_Accuracy = {iter_accuracy:3.2f}% | Test_Accuracy = {test_accuracy:5.2f} %\")\n",
    "\n",
    "\n",
    "        \n",
    "plt.figure()\n",
    "plt.plot(list(range(num_iters)), error_list, label=\"error\")\n",
    "plt.legend(); plt.grid(); plt.tight_layout(); plt.show()\n",
    "plt.figure()\n",
    "plt.plot(list(range(num_iters)), train_accuracy_list, label=\"train_accuracy\")\n",
    "plt.plot(list(range(num_iters//10)), test_accuracy_list, label=\"test_accuracy\")\n",
    "plt.legend(); plt.grid(); plt.tight_layout(); plt.show()\n",
    "\n",
    "print(time.time() - start_time)"
   ]
  },
  {
   "cell_type": "code",
   "execution_count": null,
   "id": "adequate-friendship",
   "metadata": {},
   "outputs": [],
   "source": []
  },
  {
   "cell_type": "code",
   "execution_count": null,
   "id": "extensive-least",
   "metadata": {},
   "outputs": [],
   "source": []
  }
 ],
 "metadata": {
  "kernelspec": {
   "display_name": "Python 3",
   "language": "python",
   "name": "python3"
  },
  "language_info": {
   "codemirror_mode": {
    "name": "ipython",
    "version": 3
   },
   "file_extension": ".py",
   "mimetype": "text/x-python",
   "name": "python",
   "nbconvert_exporter": "python",
   "pygments_lexer": "ipython3",
   "version": "3.7.4"
  }
 },
 "nbformat": 4,
 "nbformat_minor": 5
}
