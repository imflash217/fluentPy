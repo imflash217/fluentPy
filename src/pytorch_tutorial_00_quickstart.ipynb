{
 "cells": [
  {
   "cell_type": "code",
   "execution_count": 1,
   "id": "tribal-lawrence",
   "metadata": {
    "slideshow": {
     "slide_type": "slide"
    }
   },
   "outputs": [
    {
     "data": {
      "text/html": [
       "<style>body {\n",
       "    margin: 0;\n",
       "    font-family: lexend;\n",
       "}\n",
       "table.dataframe {\n",
       "    border-collapse: collapse;\n",
       "    border: none;\n",
       "}\n",
       "table.dataframe tr {\n",
       "    border: none;\n",
       "}\n",
       "table.dataframe td, table.dataframe th {\n",
       "    margin: 0;\n",
       "    border: 1px solid white;\n",
       "    padding-left: 0.25em;\n",
       "    padding-right: 0.25em;\n",
       "}\n",
       "table.dataframe th:not(:empty) {\n",
       "    background-color: #fec;\n",
       "    text-align: left;\n",
       "    font-weight: normal;\n",
       "}\n",
       "table.dataframe tr:nth-child(2) th:empty {\n",
       "    border-left: none;\n",
       "    border-right: 1px dashed #888;\n",
       "}\n",
       "table.dataframe td {\n",
       "    border: 2px solid #ccf;\n",
       "    background-color: #f4f4ff;\n",
       "}\n",
       "h1 {\n",
       "    color: white;\n",
       "    background: rgb(2,0,36);\n",
       "    background: linear-gradient(90deg, rgba(2,0,36,1) 0%, rgba(238,65,79,1) 42%, rgba(0,84,255,1) 81%); \n",
       "    padding: 0.25em;\n",
       "}\n",
       "\n",
       "h3 {\n",
       "    color: white;\n",
       "    background-color: black;\n",
       "    padding: 0.25em;\n",
       "}\n",
       "\n",
       "h2 {\n",
       "    color: white;\n",
       "    background-color: #fc0362;\n",
       "    padding: 0.25em;\n",
       "}\n",
       "</style>"
      ],
      "text/plain": [
       "<IPython.core.display.HTML object>"
      ]
     },
     "execution_count": 1,
     "metadata": {},
     "output_type": "execute_result"
    }
   ],
   "source": [
    "from IPython.core.display import HTML\n",
    "css = open('notebook_css/style-table.css').read() + open('notebook_css/style-notebook.css').read()\n",
    "HTML('<style>{}</style>'.format(css))"
   ]
  },
  {
   "cell_type": "markdown",
   "id": "silver-teens",
   "metadata": {
    "slideshow": {
     "slide_type": "subslide"
    }
   },
   "source": [
    "https://pytorch.org/tutorials/beginner/basics/quickstart_tutorial.html\n",
    "\n",
    "Author: @imflash217 [September/06/2021]"
   ]
  },
  {
   "cell_type": "markdown",
   "id": "sharing-glossary",
   "metadata": {
    "slideshow": {
     "slide_type": "skip"
    }
   },
   "source": [
    "# Quickatart"
   ]
  },
  {
   "cell_type": "markdown",
   "id": "second-massage",
   "metadata": {
    "slideshow": {
     "slide_type": "skip"
    }
   },
   "source": [
    "## Working with data"
   ]
  },
  {
   "cell_type": "markdown",
   "id": "secondary-quarter",
   "metadata": {
    "slideshow": {
     "slide_type": "slide"
    }
   },
   "source": [
    "PyTorch has two primitives to work with data:\n",
    "\n",
    "1. **`torch.utils.data.Dataset`**\n",
    "\n",
    "2. **`torch.utils.data.DataLoader`**\n",
    "   \n",
    "**`Dataset`** stores the samples and their corresponding labels.\n",
    "\n",
    "**`DataLoader`** wraps an **iterable** around the **`Dataset`**"
   ]
  },
  {
   "cell_type": "code",
   "execution_count": 2,
   "id": "average-synthetic",
   "metadata": {
    "slideshow": {
     "slide_type": "slide"
    }
   },
   "outputs": [],
   "source": [
    "import torch\n",
    "from torch import nn\n",
    "from torch.utils.data import DataLoader\n",
    "from torchvision import datasets\n",
    "from torchvision.transforms import ToTensor, Lambda, Compose\n",
    "\n",
    "import matplotlib.pyplot as plt"
   ]
  },
  {
   "cell_type": "markdown",
   "id": "mounted-filename",
   "metadata": {
    "slideshow": {
     "slide_type": "slide"
    }
   },
   "source": [
    "PyTorch offers domain-specific libraries such as `TorchText`, `TorchVision` & `TorchAudio`; all of which include datasets. Here, we will use `TorchVision` dataset.\n",
    "\n",
    "The **`torchvision.datasets`** module contains `Dataset` objects for many real-world data like COCO, CIFAR etc.\n",
    "\n",
    "Here we will use **FashionMNIST** dataset.\n",
    "\n",
    "Every TorchVision **`Dataset`** object includes two arguments:\n",
    "\n",
    "1. **`transform`**: modifies the samples\n",
    "\n",
    "2. **`target_transform`**: modifies the labels"
   ]
  },
  {
   "cell_type": "code",
   "execution_count": 3,
   "id": "strange-skirt",
   "metadata": {
    "slideshow": {
     "slide_type": "slide"
    }
   },
   "outputs": [],
   "source": [
    "## 🎯 Download the data from open datasets\n",
    "\n",
    "## TRAINING Data\n",
    "training_data = datasets.FashionMNIST(root=\"data\",\n",
    "                                      train=True,\n",
    "                                      download=True,\n",
    "                                      transform=ToTensor(),\n",
    "                                     )\n",
    "\n",
    "## TEST data\n",
    "test_data = datasets.FashionMNIST(root=\"data\",\n",
    "                                  train=False,\n",
    "                                  download=True,\n",
    "                                  transform=ToTensor(),\n",
    "                                 )"
   ]
  },
  {
   "cell_type": "code",
   "execution_count": null,
   "id": "removed-editor",
   "metadata": {
    "slideshow": {
     "slide_type": "slide"
    }
   },
   "outputs": [],
   "source": []
  },
  {
   "cell_type": "markdown",
   "id": "czech-benefit",
   "metadata": {
    "slideshow": {
     "slide_type": "slide"
    }
   },
   "source": [
    "We pass the `Dataset` as an argument to the `DataLoader`. \n",
    "\n",
    "This wraps an iterable over our dataset, and supports automatic **batching, sampling, shuffling & multiprocess-data-loading**."
   ]
  },
  {
   "cell_type": "code",
   "execution_count": 5,
   "id": "frank-rehabilitation",
   "metadata": {
    "slideshow": {
     "slide_type": "slide"
    }
   },
   "outputs": [
    {
     "name": "stdout",
     "output_type": "stream",
     "text": [
      "X.shape [N,C,H,W] = torch.Size([64, 1, 28, 28])\n",
      "y.shape = torch.Size([64]), torch.int64\n"
     ]
    }
   ],
   "source": [
    "## Here we define a batch size of 64\n",
    "## (i.e. each element of the DataLoader iterable will return a batch of 64 features & labels)\n",
    "\n",
    "batch_size = 64\n",
    "\n",
    "## Create dataloaders\n",
    "train_dataloader = DataLoader(dataset=training_data,\n",
    "                              batch_size=batch_size)\n",
    "test_dataloader = DataLoader(dataset=test_data,\n",
    "                             batch_size=batch_size)\n",
    "\n",
    "for X, y in test_dataloader:\n",
    "    print(f\"X.shape [N,C,H,W] = {X.shape}\")\n",
    "    print(f\"y.shape = {y.shape}, {y.dtype}\")\n",
    "    break"
   ]
  },
  {
   "cell_type": "code",
   "execution_count": null,
   "id": "prime-rugby",
   "metadata": {
    "slideshow": {
     "slide_type": "skip"
    }
   },
   "outputs": [],
   "source": []
  },
  {
   "cell_type": "markdown",
   "id": "sunrise-blanket",
   "metadata": {},
   "source": [
    "## Creating Models"
   ]
  },
  {
   "cell_type": "markdown",
   "id": "selected-robin",
   "metadata": {},
   "source": [
    "To define a neural network in PyTorch, we create a class that inherits from **`torch.nn.Module`**. \n",
    "\n",
    "We define the layers of the network in the **`__init__()`** method and specify how data will pass through the network in the **`forward()`** method."
   ]
  },
  {
   "cell_type": "code",
   "execution_count": 18,
   "id": "postal-prospect",
   "metadata": {},
   "outputs": [
    {
     "name": "stdout",
     "output_type": "stream",
     "text": [
      "Using cpu device.\n",
      "NeuralNetwork(\n",
      "  (flatten): Flatten(start_dim=1, end_dim=-1)\n",
      "  (linear_relu_stack): Sequential(\n",
      "    (0): Linear(in_features=784, out_features=512, bias=True)\n",
      "    (1): ReLU()\n",
      "    (2): Linear(in_features=512, out_features=512, bias=True)\n",
      "    (3): ReLU()\n",
      "    (4): Linear(in_features=512, out_features=10, bias=True)\n",
      "  )\n",
      ")\n"
     ]
    }
   ],
   "source": [
    "## Get cpu or gou device for training\n",
    "\n",
    "device = \"cuda\" if torch.cuda.is_available() else \"cpu\"\n",
    "print(f\"Using {device} device.\")\n",
    "\n",
    "## Define Model\n",
    "\n",
    "class NeuralNetwork(nn.Module):\n",
    "    def __init__(self):\n",
    "        super(NeuralNetwork, self).__init__()\n",
    "        self.flatten = nn.Flatten()\n",
    "        self.linear_relu_stack = nn.Sequential(\n",
    "            nn.Linear(in_features=28*28, out_features=512),\n",
    "            nn.ReLU(),\n",
    "            nn.Linear(in_features=512, out_features=512),\n",
    "            nn.ReLU(),\n",
    "            nn.Linear(in_features=512, out_features=10),\n",
    "        )\n",
    "    \n",
    "    def forward(self, x):\n",
    "        x = self.flatten(x)\n",
    "        logits = self.linear_relu_stack(x)\n",
    "        return logits\n",
    "    \n",
    "model = NeuralNetwork().to(device=device)\n",
    "print(model)\n",
    "    "
   ]
  },
  {
   "cell_type": "code",
   "execution_count": null,
   "id": "neither-governor",
   "metadata": {},
   "outputs": [],
   "source": []
  },
  {
   "cell_type": "markdown",
   "id": "municipal-iraqi",
   "metadata": {},
   "source": [
    "## Optimizing the Model parameters"
   ]
  },
  {
   "cell_type": "markdown",
   "id": "reflected-alloy",
   "metadata": {},
   "source": [
    "To train a model we need a **loss function** and an **optimizer**."
   ]
  },
  {
   "cell_type": "code",
   "execution_count": 19,
   "id": "divided-corrections",
   "metadata": {},
   "outputs": [],
   "source": [
    "loss_func = nn.CrossEntropyLoss()\n",
    "optimizer = torch.optim.SGD(params=model.parameters(), lr=1e-3)"
   ]
  },
  {
   "cell_type": "markdown",
   "id": "multiple-extent",
   "metadata": {},
   "source": [
    "In a single training loop, the model makes prediction on the training dataset (fed to it in batches), & backpropagates the prediction error to adjust the model's prediction"
   ]
  },
  {
   "cell_type": "code",
   "execution_count": 20,
   "id": "pharmaceutical-corner",
   "metadata": {},
   "outputs": [],
   "source": [
    "## the training loop\n",
    "\n",
    "def train(dataloader, model, loss_func, optimizer):\n",
    "    size = len(dataloader.dataset)\n",
    "    model.train()\n",
    "    \n",
    "    for batch, (X, y) in enumerate(dataloader):\n",
    "        X = X.to(device)\n",
    "        y = y.to(device)\n",
    "        \n",
    "        ## Compute the prediction loss (aka. error)\n",
    "        pred = model(X)\n",
    "        loss = loss_func(pred, y)\n",
    "        \n",
    "        ## Backpropagation\n",
    "        optimizer.zero_grad()\n",
    "        loss.backward()\n",
    "        optimizer.step()\n",
    "        \n",
    "        if batch % 100 == 0:\n",
    "            loss = loss.item()\n",
    "            current = batch * len(X)\n",
    "            print(f\"loss = {loss:>7f} | [{current:>5d}/{size:>5d}]\")"
   ]
  },
  {
   "cell_type": "code",
   "execution_count": 21,
   "id": "enabling-button",
   "metadata": {},
   "outputs": [],
   "source": [
    "## the test loop\n",
    "\n",
    "def test(dataloader, model, loss_func):\n",
    "    size = len(dataloader.dataset)\n",
    "    num_batches = len(dataloader)\n",
    "    model.eval()\n",
    "    test_loss = 0\n",
    "    correct = 0\n",
    "    \n",
    "    with torch.no_grad():\n",
    "        for X, y in dataloader:\n",
    "            X = X.to(device)\n",
    "            y = y.to(device)\n",
    "            pred = model(X)\n",
    "            test_loss += loss_func(pred, y).item()\n",
    "            correct += (pred.argmax(1) == y).type(torch.float).sum().item()\n",
    "    test_loss /= num_batches\n",
    "    correct /= size\n",
    "    print(f\"Test Error: \\n Accuracy = {(100 * correct):>0.1f}% | Avg. Loss = {test_loss:>8f}\\n\")\n",
    "            "
   ]
  },
  {
   "cell_type": "code",
   "execution_count": 22,
   "id": "efficient-market",
   "metadata": {},
   "outputs": [
    {
     "name": "stdout",
     "output_type": "stream",
     "text": [
      "epoch = [ 1]\n",
      "------------------------------\n",
      "loss = 2.301116 | [    0/60000]\n",
      "loss = 2.293996 | [ 6400/60000]\n",
      "loss = 2.270871 | [12800/60000]\n",
      "loss = 2.266312 | [19200/60000]\n",
      "loss = 2.246859 | [25600/60000]\n",
      "loss = 2.215365 | [32000/60000]\n",
      "loss = 2.220870 | [38400/60000]\n",
      "loss = 2.189469 | [44800/60000]\n",
      "loss = 2.187078 | [51200/60000]\n",
      "loss = 2.149142 | [57600/60000]\n",
      "Test Error: \n",
      " Accuracy = 50.2% | Avg. Loss = 2.148793\n",
      "\n",
      "epoch = [ 2]\n",
      "------------------------------\n",
      "loss = 2.155531 | [    0/60000]\n",
      "loss = 2.151610 | [ 6400/60000]\n",
      "loss = 2.090049 | [12800/60000]\n",
      "loss = 2.103378 | [19200/60000]\n",
      "loss = 2.048813 | [25600/60000]\n",
      "loss = 1.990808 | [32000/60000]\n",
      "loss = 2.006786 | [38400/60000]\n",
      "loss = 1.935593 | [44800/60000]\n",
      "loss = 1.934177 | [51200/60000]\n",
      "loss = 1.849816 | [57600/60000]\n",
      "Test Error: \n",
      " Accuracy = 59.0% | Avg. Loss = 1.862372\n",
      "\n",
      "epoch = [ 3]\n",
      "------------------------------\n",
      "loss = 1.889737 | [    0/60000]\n",
      "loss = 1.870955 | [ 6400/60000]\n",
      "loss = 1.751145 | [12800/60000]\n",
      "loss = 1.784836 | [19200/60000]\n",
      "loss = 1.668376 | [25600/60000]\n",
      "loss = 1.624193 | [32000/60000]\n",
      "loss = 1.627577 | [38400/60000]\n",
      "loss = 1.544188 | [44800/60000]\n",
      "loss = 1.564935 | [51200/60000]\n",
      "loss = 1.450820 | [57600/60000]\n",
      "Test Error: \n",
      " Accuracy = 60.4% | Avg. Loss = 1.486307\n",
      "\n",
      "epoch = [ 4]\n",
      "------------------------------\n",
      "loss = 1.547893 | [    0/60000]\n",
      "loss = 1.527565 | [ 6400/60000]\n",
      "loss = 1.376954 | [12800/60000]\n",
      "loss = 1.443831 | [19200/60000]\n",
      "loss = 1.322298 | [25600/60000]\n",
      "loss = 1.320987 | [32000/60000]\n",
      "loss = 1.322889 | [38400/60000]\n",
      "loss = 1.260567 | [44800/60000]\n",
      "loss = 1.296275 | [51200/60000]\n",
      "loss = 1.198174 | [57600/60000]\n",
      "Test Error: \n",
      " Accuracy = 62.4% | Avg. Loss = 1.231220\n",
      "\n",
      "epoch = [ 5]\n",
      "------------------------------\n",
      "loss = 1.304837 | [    0/60000]\n",
      "loss = 1.296492 | [ 6400/60000]\n",
      "loss = 1.130906 | [12800/60000]\n",
      "loss = 1.233466 | [19200/60000]\n",
      "loss = 1.108979 | [25600/60000]\n",
      "loss = 1.131772 | [32000/60000]\n",
      "loss = 1.146407 | [38400/60000]\n",
      "loss = 1.090822 | [44800/60000]\n",
      "loss = 1.131303 | [51200/60000]\n",
      "loss = 1.056351 | [57600/60000]\n",
      "Test Error: \n",
      " Accuracy = 64.1% | Avg. Loss = 1.077012\n",
      "\n",
      "DONE!!🎯🎯\n"
     ]
    }
   ],
   "source": [
    "## the training process\n",
    "\n",
    "epochs = 5\n",
    "for t in range(epochs):\n",
    "    print(f\"epoch = [{(t+1):2d}]\\n{'---'*10}\")\n",
    "    \n",
    "    train(dataloader=train_dataloader,\n",
    "          model=model,\n",
    "          loss_func=loss_func,\n",
    "          optimizer=optimizer,)\n",
    "    \n",
    "    test(dataloader=test_dataloader, \n",
    "         model=model, \n",
    "         loss_func=loss_func,)\n",
    "\n",
    "print(\"DONE!!🎯🎯\")"
   ]
  },
  {
   "cell_type": "code",
   "execution_count": null,
   "id": "european-consideration",
   "metadata": {},
   "outputs": [],
   "source": []
  },
  {
   "cell_type": "markdown",
   "id": "leading-satin",
   "metadata": {},
   "source": [
    "## Saving Models\n",
    "\n",
    "A common way to save a model is to serialize the internal state dictionary (containing the model parameters)"
   ]
  },
  {
   "cell_type": "code",
   "execution_count": 26,
   "id": "chronic-music",
   "metadata": {},
   "outputs": [
    {
     "name": "stdout",
     "output_type": "stream",
     "text": [
      "Saved PyTorch model to 'models/model_1.pth'\n"
     ]
    }
   ],
   "source": [
    "torch.save(model.state_dict(), \"models/model_1.pth\")\n",
    "print(f\"Saved PyTorch model to 'models/model_1.pth'\")"
   ]
  },
  {
   "cell_type": "code",
   "execution_count": null,
   "id": "funny-convention",
   "metadata": {},
   "outputs": [],
   "source": []
  },
  {
   "cell_type": "markdown",
   "id": "focal-incidence",
   "metadata": {},
   "source": [
    "## Loading Models\n",
    "\n",
    "The process of loading the models includes:\n",
    "\n",
    "1. Re-creating the model structure / architecture\n",
    "\n",
    "2. Then, loading the saved state-dictionary into it."
   ]
  },
  {
   "cell_type": "code",
   "execution_count": 27,
   "id": "tested-endorsement",
   "metadata": {},
   "outputs": [
    {
     "data": {
      "text/plain": [
       "<All keys matched successfully>"
      ]
     },
     "execution_count": 27,
     "metadata": {},
     "output_type": "execute_result"
    }
   ],
   "source": [
    "model = NeuralNetwork()\n",
    "model.load_state_dict(torch.load(\"models/model_1.pth\"))"
   ]
  },
  {
   "cell_type": "code",
   "execution_count": null,
   "id": "extended-wisconsin",
   "metadata": {},
   "outputs": [],
   "source": []
  },
  {
   "cell_type": "markdown",
   "id": "cubic-conversion",
   "metadata": {},
   "source": [
    "This model can now be used to make predictions"
   ]
  },
  {
   "cell_type": "code",
   "execution_count": 48,
   "id": "fifty-equity",
   "metadata": {},
   "outputs": [
    {
     "name": "stdout",
     "output_type": "stream",
     "text": [
      "Predicted_label = 'Ankle boot' | True_label = 'Ankle boot'\n"
     ]
    }
   ],
   "source": [
    "classes = [\"T-shirt/top\",\n",
    "           \"Trouser\",\n",
    "           \"Pullover\",\n",
    "           \"Dress\",\n",
    "           \"Coat\",\n",
    "           \"Sandal\",\n",
    "           \"Shirt\",\n",
    "           \"Sneaker\",\n",
    "           \"Bag\",\n",
    "           \"Ankle boot\",\n",
    "          ]\n",
    "\n",
    "model.eval()\n",
    "x = test_data[0][0]\n",
    "y = test_data[0][1]\n",
    "\n",
    "with torch.no_grad():\n",
    "    pred = model(x)\n",
    "    pred_label = classes[pred.argmax(dim=-1)]\n",
    "    true_label = classes[y]\n",
    "    print(f\"Predicted_label = '{pred_label}' | True_label = '{true_label}'\")\n",
    "    "
   ]
  },
  {
   "cell_type": "code",
   "execution_count": null,
   "id": "fuzzy-renewal",
   "metadata": {},
   "outputs": [],
   "source": []
  }
 ],
 "metadata": {
  "celltoolbar": "Slideshow",
  "kernelspec": {
   "display_name": "Python 3",
   "language": "python",
   "name": "python3"
  },
  "language_info": {
   "codemirror_mode": {
    "name": "ipython",
    "version": 3
   },
   "file_extension": ".py",
   "mimetype": "text/x-python",
   "name": "python",
   "nbconvert_exporter": "python",
   "pygments_lexer": "ipython3",
   "version": "3.7.4"
  },
  "toc-autonumbering": true
 },
 "nbformat": 4,
 "nbformat_minor": 5
}
