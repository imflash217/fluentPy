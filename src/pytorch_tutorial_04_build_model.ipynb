{
 "cells": [
  {
   "cell_type": "code",
   "execution_count": 198,
   "id": "eligible-polyester",
   "metadata": {},
   "outputs": [
    {
     "data": {
      "text/html": [
       "<style>body {\n",
       "    margin: 0;\n",
       "    font-family: lexend;\n",
       "}\n",
       "table.dataframe {\n",
       "    border-collapse: collapse;\n",
       "    border: none;\n",
       "}\n",
       "table.dataframe tr {\n",
       "    border: none;\n",
       "}\n",
       "table.dataframe td, table.dataframe th {\n",
       "    margin: 0;\n",
       "    border: 1px solid white;\n",
       "    padding-left: 0.25em;\n",
       "    padding-right: 0.25em;\n",
       "}\n",
       "table.dataframe th:not(:empty) {\n",
       "    background-color: #fec;\n",
       "    text-align: left;\n",
       "    font-weight: normal;\n",
       "}\n",
       "table.dataframe tr:nth-child(2) th:empty {\n",
       "    border-left: none;\n",
       "    border-right: 1px dashed #888;\n",
       "}\n",
       "table.dataframe td {\n",
       "    border: 2px solid #ccf;\n",
       "    background-color: #f4f4ff;\n",
       "}\n",
       "h1 {\n",
       "    color: white;\n",
       "    background: rgb(2,0,36);\n",
       "    background: linear-gradient(90deg, rgba(2,0,36,1) 0%, rgba(238,65,79,1) 42%, rgba(0,84,255,1) 81%); \n",
       "    padding: 0.25em;\n",
       "}\n",
       "\n",
       "h3 {\n",
       "    color: white;\n",
       "    background-color: black;\n",
       "    padding: 0.25em;\n",
       "}\n",
       "\n",
       "h2 {\n",
       "    color: white;\n",
       "    background-color: #fc0362;\n",
       "    padding: 0.25em;\n",
       "}\n",
       "</style>"
      ],
      "text/plain": [
       "<IPython.core.display.HTML object>"
      ]
     },
     "execution_count": 198,
     "metadata": {},
     "output_type": "execute_result"
    }
   ],
   "source": [
    "from IPython.core.display import HTML\n",
    "css = open('notebook_css/style-table.css').read() + open('notebook_css/style-notebook.css').read()\n",
    "HTML('<style>{}</style>'.format(css))"
   ]
  },
  {
   "cell_type": "markdown",
   "id": "entitled-certification",
   "metadata": {},
   "source": [
    "# Optimizing Model Parameters"
   ]
  },
  {
   "cell_type": "markdown",
   "id": "cooperative-uncle",
   "metadata": {},
   "source": [
    "## Jacobian"
   ]
  },
  {
   "cell_type": "code",
   "execution_count": 3,
   "id": "interesting-contact",
   "metadata": {},
   "outputs": [],
   "source": [
    "import torch"
   ]
  },
  {
   "cell_type": "code",
   "execution_count": 17,
   "id": "terminal-africa",
   "metadata": {},
   "outputs": [
    {
     "data": {
      "text/plain": [
       "tensor([[1., 0., 0., 0., 0.],\n",
       "        [0., 1., 0., 0., 0.],\n",
       "        [0., 0., 1., 0., 0.],\n",
       "        [0., 0., 0., 1., 0.],\n",
       "        [0., 0., 0., 0., 1.]], requires_grad=True)"
      ]
     },
     "execution_count": 17,
     "metadata": {},
     "output_type": "execute_result"
    }
   ],
   "source": [
    "inp = torch.eye(5, requires_grad=True)\n",
    "inp"
   ]
  },
  {
   "cell_type": "code",
   "execution_count": 18,
   "id": "existing-browser",
   "metadata": {},
   "outputs": [
    {
     "data": {
      "text/plain": [
       "tensor([[4., 1., 1., 1., 1.],\n",
       "        [1., 4., 1., 1., 1.],\n",
       "        [1., 1., 4., 1., 1.],\n",
       "        [1., 1., 1., 4., 1.],\n",
       "        [1., 1., 1., 1., 4.]], grad_fn=<PowBackward0>)"
      ]
     },
     "execution_count": 18,
     "metadata": {},
     "output_type": "execute_result"
    }
   ],
   "source": [
    "out = (inp + 1).pow(2)\n",
    "out"
   ]
  },
  {
   "cell_type": "code",
   "execution_count": 19,
   "id": "comic-bulgarian",
   "metadata": {},
   "outputs": [
    {
     "name": "stdout",
     "output_type": "stream",
     "text": [
      "First Call:\n",
      "tensor([[4., 2., 2., 2., 2.],\n",
      "        [2., 4., 2., 2., 2.],\n",
      "        [2., 2., 4., 2., 2.],\n",
      "        [2., 2., 2., 4., 2.],\n",
      "        [2., 2., 2., 2., 4.]])\n"
     ]
    }
   ],
   "source": [
    "out.backward(gradient=torch.ones_like(inp), retain_graph=True)\n",
    "print(f\"First Call:\\n{inp.grad}\")"
   ]
  },
  {
   "cell_type": "code",
   "execution_count": 20,
   "id": "thousand-ready",
   "metadata": {},
   "outputs": [
    {
     "name": "stdout",
     "output_type": "stream",
     "text": [
      "Second Call:\n",
      "tensor([[8., 4., 4., 4., 4.],\n",
      "        [4., 8., 4., 4., 4.],\n",
      "        [4., 4., 8., 4., 4.],\n",
      "        [4., 4., 4., 8., 4.],\n",
      "        [4., 4., 4., 4., 8.]])\n"
     ]
    }
   ],
   "source": [
    "out.backward(gradient=torch.ones_like(inp), retain_graph=True)\n",
    "print(f\"Second Call:\\n{inp.grad}\")"
   ]
  },
  {
   "cell_type": "code",
   "execution_count": 21,
   "id": "wired-paragraph",
   "metadata": {},
   "outputs": [
    {
     "name": "stdout",
     "output_type": "stream",
     "text": [
      "Third Call:\n",
      "tensor([[4., 2., 2., 2., 2.],\n",
      "        [2., 4., 2., 2., 2.],\n",
      "        [2., 2., 4., 2., 2.],\n",
      "        [2., 2., 2., 4., 2.],\n",
      "        [2., 2., 2., 2., 4.]])\n"
     ]
    }
   ],
   "source": [
    "inp.grad.zero_()\n",
    "out.backward(gradient=torch.ones_like(inp), retain_graph=True)\n",
    "print(f\"Third Call:\\n{inp.grad}\")"
   ]
  },
  {
   "cell_type": "code",
   "execution_count": 23,
   "id": "stable-interpretation",
   "metadata": {},
   "outputs": [
    {
     "name": "stdout",
     "output_type": "stream",
     "text": [
      "Fourth Call:\n",
      "tensor([[4., 2., 2., 2., 2.],\n",
      "        [2., 4., 2., 2., 2.],\n",
      "        [2., 2., 4., 2., 2.],\n",
      "        [2., 2., 2., 4., 2.],\n",
      "        [2., 2., 2., 2., 4.]])\n"
     ]
    }
   ],
   "source": [
    "inp.grad.zero_()\n",
    "out.backward(gradient=torch.ones_like(inp), retain_graph=True)\n",
    "print(f\"Fourth Call:\\n{inp.grad}\")"
   ]
  },
  {
   "cell_type": "markdown",
   "id": "retained-variable",
   "metadata": {},
   "source": [
    "Previously we were calling `backward()` (without function parameters).\n",
    "\n",
    "This is essentially equivalent to calling `backward(torch.tensor(1.0))` which is a useful way to compute gradients in case of a scalar valued function; such as **loss** during NN training"
   ]
  },
  {
   "cell_type": "code",
   "execution_count": null,
   "id": "sufficient-architect",
   "metadata": {},
   "outputs": [],
   "source": []
  },
  {
   "cell_type": "markdown",
   "id": "clinical-cincinnati",
   "metadata": {},
   "source": [
    "## Optimizer"
   ]
  },
  {
   "cell_type": "markdown",
   "id": "caring-giant",
   "metadata": {},
   "source": [
    "We initialize the optimizer by registering model parameters that need to be optimized and passing in the learning rate `lr`\n",
    "\n",
    "Inside the training loop; optimization happend in three steps:\n",
    "\n",
    "1. Call `optimizer.zero_grad()` to reset the gradients of the model parameters. Gradients by default adds up; to prevent counting we explicitly zero tem at each iteration\n",
    "\n",
    "2. Backpropagate the prediction loss with `loss.backwards()`. PyTorch deposits the gradients w.r.t each parameter.\n",
    "\n",
    "3. Once we have the graients we call `optimizer.step()` to adjust the weights of the parameters based on the graients collected in the backward pass."
   ]
  },
  {
   "cell_type": "code",
   "execution_count": null,
   "id": "successful-demonstration",
   "metadata": {},
   "outputs": [],
   "source": [
    "optimizer = torch.optim.SGD(params=model.parameter(), lr=learning_rate)"
   ]
  },
  {
   "cell_type": "code",
   "execution_count": null,
   "id": "south-edinburgh",
   "metadata": {},
   "outputs": [],
   "source": []
  },
  {
   "cell_type": "markdown",
   "id": "biological-seminar",
   "metadata": {},
   "source": [
    "## Full Implementation"
   ]
  },
  {
   "cell_type": "code",
   "execution_count": 26,
   "id": "educated-municipality",
   "metadata": {},
   "outputs": [],
   "source": [
    "def train_loop(dataloader, model, loss_fn, optimizer):\n",
    "    size = len(dataloader.dataset)\n",
    "    for batch, (X, y) in enumerate(dataloader):\n",
    "        ## compute prediction & loss\n",
    "        pred = model(X)\n",
    "        loss = loss_fn(pred, y)\n",
    "        \n",
    "        ## Backpropagation\n",
    "        optimizer.zero_grad()\n",
    "        loss.backward()\n",
    "        optimizer.step()\n",
    "        \n",
    "        if batch % 100 == 0:\n",
    "            loss = loss.item()\n",
    "            current = bacth * len(X)\n",
    "            print(f\"loss: {loss:>7f} | [{current:5d} / {size:5d}]\")\n",
    "            \n",
    "def test_loop(dataloader, model, loss_fn):\n",
    "    size = len(dataloader.dataset)\n",
    "    num_batches = len(dataloader)\n",
    "    test_loss = 0.\n",
    "    correct = 0\n",
    "    with torch.no_grad():\n",
    "        for batch, (X, y) in enumerate(dataloader):\n",
    "            pred = model(X)\n",
    "            loss = loss_fn(pred, y)\n",
    "            test_loss += loss.item()\n",
    "            correct += (pred.argmax(dim=-1) == y).type(torch.float).sum().item()\n",
    "        \n",
    "    test_loss /= num_batches\n",
    "    correct /= size\n",
    "    print(f\"Test Error:\\nAvg. loss: {test_loss:>8f} | Accuracy: {(100*correct):>0.1f}%\")\n"
   ]
  },
  {
   "cell_type": "code",
   "execution_count": 27,
   "id": "superb-sigma",
   "metadata": {},
   "outputs": [
    {
     "ename": "NameError",
     "evalue": "name 'model' is not defined",
     "output_type": "error",
     "traceback": [
      "\u001b[0;31m---------------------------------------------------------------------------\u001b[0m",
      "\u001b[0;31mNameError\u001b[0m                                 Traceback (most recent call last)",
      "\u001b[0;32m<ipython-input-27-5c4e005d1836>\u001b[0m in \u001b[0;36m<module>\u001b[0;34m\u001b[0m\n\u001b[0;32m----> 1\u001b[0;31m \u001b[0moptimizer\u001b[0m \u001b[0;34m=\u001b[0m \u001b[0mtorch\u001b[0m\u001b[0;34m.\u001b[0m\u001b[0moptim\u001b[0m\u001b[0;34m.\u001b[0m\u001b[0mSGD\u001b[0m\u001b[0;34m(\u001b[0m\u001b[0mmodel\u001b[0m\u001b[0;34m.\u001b[0m\u001b[0mparameters\u001b[0m\u001b[0;34m(\u001b[0m\u001b[0;34m)\u001b[0m\u001b[0;34m,\u001b[0m \u001b[0mlr\u001b[0m\u001b[0;34m=\u001b[0m\u001b[0mlearning_rate\u001b[0m\u001b[0;34m)\u001b[0m\u001b[0;34m\u001b[0m\u001b[0;34m\u001b[0m\u001b[0m\n\u001b[0m\u001b[1;32m      2\u001b[0m \u001b[0mloss_fn\u001b[0m \u001b[0;34m=\u001b[0m \u001b[0mtorch\u001b[0m\u001b[0;34m.\u001b[0m\u001b[0mnn\u001b[0m\u001b[0;34m.\u001b[0m\u001b[0mCrossEntropyLoss\u001b[0m\u001b[0;34m(\u001b[0m\u001b[0;34m)\u001b[0m\u001b[0;34m\u001b[0m\u001b[0;34m\u001b[0m\u001b[0m\n\u001b[1;32m      3\u001b[0m \u001b[0mepochs\u001b[0m \u001b[0;34m=\u001b[0m \u001b[0;36m10\u001b[0m\u001b[0;34m\u001b[0m\u001b[0;34m\u001b[0m\u001b[0m\n\u001b[1;32m      4\u001b[0m \u001b[0;32mfor\u001b[0m \u001b[0mt\u001b[0m \u001b[0;32min\u001b[0m \u001b[0mrange\u001b[0m\u001b[0;34m(\u001b[0m\u001b[0mepochs\u001b[0m\u001b[0;34m)\u001b[0m\u001b[0;34m:\u001b[0m\u001b[0;34m\u001b[0m\u001b[0;34m\u001b[0m\u001b[0m\n\u001b[1;32m      5\u001b[0m     \u001b[0mprint\u001b[0m\u001b[0;34m(\u001b[0m\u001b[0;34mf\"Epoch [{t+1}]:{'--'*15}\\n\"\u001b[0m\u001b[0;34m)\u001b[0m\u001b[0;34m\u001b[0m\u001b[0;34m\u001b[0m\u001b[0m\n",
      "\u001b[0;31mNameError\u001b[0m: name 'model' is not defined"
     ]
    }
   ],
   "source": [
    "optimizer = torch.optim.SGD(model.parameters(), lr=learning_rate)\n",
    "loss_fn = torch.nn.CrossEntropyLoss()\n",
    "epochs = 10\n",
    "for t in range(epochs):\n",
    "    print(f\"Epoch [{t+1}]:{'--'*15}\\n\")\n",
    "    train_loop(train_dataloader, model, loss_fn, optimizer)\n",
    "    test_loop(test_dataloader, model, loss_fn, optimizer)\n",
    "print(f\"DONE!!🎯🎯\")"
   ]
  },
  {
   "cell_type": "code",
   "execution_count": null,
   "id": "naughty-criterion",
   "metadata": {},
   "outputs": [],
   "source": []
  },
  {
   "cell_type": "markdown",
   "id": "running-narrow",
   "metadata": {},
   "source": [
    "# Saving & Loading a model"
   ]
  },
  {
   "cell_type": "code",
   "execution_count": 28,
   "id": "naughty-bookmark",
   "metadata": {},
   "outputs": [],
   "source": [
    "from torch import nn, optim\n",
    "from torchvision import models"
   ]
  },
  {
   "cell_type": "code",
   "execution_count": 30,
   "id": "expressed-heath",
   "metadata": {},
   "outputs": [
    {
     "name": "stderr",
     "output_type": "stream",
     "text": [
      "Downloading: \"https://download.pytorch.org/models/resnet18-5c106cde.pth\" to /Users/imflash217/.cache/torch/hub/checkpoints/resnet18-5c106cde.pth\n"
     ]
    },
    {
     "data": {
      "application/vnd.jupyter.widget-view+json": {
       "model_id": "87c6e2b2a76647babb0d5d9d220446f9",
       "version_major": 2,
       "version_minor": 0
      },
      "text/plain": [
       "  0%|          | 0.00/44.7M [00:00<?, ?B/s]"
      ]
     },
     "metadata": {},
     "output_type": "display_data"
    },
    {
     "data": {
      "text/plain": [
       "ResNet(\n",
       "  (conv1): Conv2d(3, 64, kernel_size=(7, 7), stride=(2, 2), padding=(3, 3), bias=False)\n",
       "  (bn1): BatchNorm2d(64, eps=1e-05, momentum=0.1, affine=True, track_running_stats=True)\n",
       "  (relu): ReLU(inplace=True)\n",
       "  (maxpool): MaxPool2d(kernel_size=3, stride=2, padding=1, dilation=1, ceil_mode=False)\n",
       "  (layer1): Sequential(\n",
       "    (0): BasicBlock(\n",
       "      (conv1): Conv2d(64, 64, kernel_size=(3, 3), stride=(1, 1), padding=(1, 1), bias=False)\n",
       "      (bn1): BatchNorm2d(64, eps=1e-05, momentum=0.1, affine=True, track_running_stats=True)\n",
       "      (relu): ReLU(inplace=True)\n",
       "      (conv2): Conv2d(64, 64, kernel_size=(3, 3), stride=(1, 1), padding=(1, 1), bias=False)\n",
       "      (bn2): BatchNorm2d(64, eps=1e-05, momentum=0.1, affine=True, track_running_stats=True)\n",
       "    )\n",
       "    (1): BasicBlock(\n",
       "      (conv1): Conv2d(64, 64, kernel_size=(3, 3), stride=(1, 1), padding=(1, 1), bias=False)\n",
       "      (bn1): BatchNorm2d(64, eps=1e-05, momentum=0.1, affine=True, track_running_stats=True)\n",
       "      (relu): ReLU(inplace=True)\n",
       "      (conv2): Conv2d(64, 64, kernel_size=(3, 3), stride=(1, 1), padding=(1, 1), bias=False)\n",
       "      (bn2): BatchNorm2d(64, eps=1e-05, momentum=0.1, affine=True, track_running_stats=True)\n",
       "    )\n",
       "  )\n",
       "  (layer2): Sequential(\n",
       "    (0): BasicBlock(\n",
       "      (conv1): Conv2d(64, 128, kernel_size=(3, 3), stride=(2, 2), padding=(1, 1), bias=False)\n",
       "      (bn1): BatchNorm2d(128, eps=1e-05, momentum=0.1, affine=True, track_running_stats=True)\n",
       "      (relu): ReLU(inplace=True)\n",
       "      (conv2): Conv2d(128, 128, kernel_size=(3, 3), stride=(1, 1), padding=(1, 1), bias=False)\n",
       "      (bn2): BatchNorm2d(128, eps=1e-05, momentum=0.1, affine=True, track_running_stats=True)\n",
       "      (downsample): Sequential(\n",
       "        (0): Conv2d(64, 128, kernel_size=(1, 1), stride=(2, 2), bias=False)\n",
       "        (1): BatchNorm2d(128, eps=1e-05, momentum=0.1, affine=True, track_running_stats=True)\n",
       "      )\n",
       "    )\n",
       "    (1): BasicBlock(\n",
       "      (conv1): Conv2d(128, 128, kernel_size=(3, 3), stride=(1, 1), padding=(1, 1), bias=False)\n",
       "      (bn1): BatchNorm2d(128, eps=1e-05, momentum=0.1, affine=True, track_running_stats=True)\n",
       "      (relu): ReLU(inplace=True)\n",
       "      (conv2): Conv2d(128, 128, kernel_size=(3, 3), stride=(1, 1), padding=(1, 1), bias=False)\n",
       "      (bn2): BatchNorm2d(128, eps=1e-05, momentum=0.1, affine=True, track_running_stats=True)\n",
       "    )\n",
       "  )\n",
       "  (layer3): Sequential(\n",
       "    (0): BasicBlock(\n",
       "      (conv1): Conv2d(128, 256, kernel_size=(3, 3), stride=(2, 2), padding=(1, 1), bias=False)\n",
       "      (bn1): BatchNorm2d(256, eps=1e-05, momentum=0.1, affine=True, track_running_stats=True)\n",
       "      (relu): ReLU(inplace=True)\n",
       "      (conv2): Conv2d(256, 256, kernel_size=(3, 3), stride=(1, 1), padding=(1, 1), bias=False)\n",
       "      (bn2): BatchNorm2d(256, eps=1e-05, momentum=0.1, affine=True, track_running_stats=True)\n",
       "      (downsample): Sequential(\n",
       "        (0): Conv2d(128, 256, kernel_size=(1, 1), stride=(2, 2), bias=False)\n",
       "        (1): BatchNorm2d(256, eps=1e-05, momentum=0.1, affine=True, track_running_stats=True)\n",
       "      )\n",
       "    )\n",
       "    (1): BasicBlock(\n",
       "      (conv1): Conv2d(256, 256, kernel_size=(3, 3), stride=(1, 1), padding=(1, 1), bias=False)\n",
       "      (bn1): BatchNorm2d(256, eps=1e-05, momentum=0.1, affine=True, track_running_stats=True)\n",
       "      (relu): ReLU(inplace=True)\n",
       "      (conv2): Conv2d(256, 256, kernel_size=(3, 3), stride=(1, 1), padding=(1, 1), bias=False)\n",
       "      (bn2): BatchNorm2d(256, eps=1e-05, momentum=0.1, affine=True, track_running_stats=True)\n",
       "    )\n",
       "  )\n",
       "  (layer4): Sequential(\n",
       "    (0): BasicBlock(\n",
       "      (conv1): Conv2d(256, 512, kernel_size=(3, 3), stride=(2, 2), padding=(1, 1), bias=False)\n",
       "      (bn1): BatchNorm2d(512, eps=1e-05, momentum=0.1, affine=True, track_running_stats=True)\n",
       "      (relu): ReLU(inplace=True)\n",
       "      (conv2): Conv2d(512, 512, kernel_size=(3, 3), stride=(1, 1), padding=(1, 1), bias=False)\n",
       "      (bn2): BatchNorm2d(512, eps=1e-05, momentum=0.1, affine=True, track_running_stats=True)\n",
       "      (downsample): Sequential(\n",
       "        (0): Conv2d(256, 512, kernel_size=(1, 1), stride=(2, 2), bias=False)\n",
       "        (1): BatchNorm2d(512, eps=1e-05, momentum=0.1, affine=True, track_running_stats=True)\n",
       "      )\n",
       "    )\n",
       "    (1): BasicBlock(\n",
       "      (conv1): Conv2d(512, 512, kernel_size=(3, 3), stride=(1, 1), padding=(1, 1), bias=False)\n",
       "      (bn1): BatchNorm2d(512, eps=1e-05, momentum=0.1, affine=True, track_running_stats=True)\n",
       "      (relu): ReLU(inplace=True)\n",
       "      (conv2): Conv2d(512, 512, kernel_size=(3, 3), stride=(1, 1), padding=(1, 1), bias=False)\n",
       "      (bn2): BatchNorm2d(512, eps=1e-05, momentum=0.1, affine=True, track_running_stats=True)\n",
       "    )\n",
       "  )\n",
       "  (avgpool): AdaptiveAvgPool2d(output_size=(1, 1))\n",
       "  (fc): Linear(in_features=512, out_features=1000, bias=True)\n",
       ")"
      ]
     },
     "execution_count": 30,
     "metadata": {},
     "output_type": "execute_result"
    }
   ],
   "source": [
    "resnet18 = models.resnet18(pretrained=True)\n",
    "resnet18"
   ]
  },
  {
   "cell_type": "code",
   "execution_count": 36,
   "id": "attended-defeat",
   "metadata": {},
   "outputs": [],
   "source": [
    "for params in resnet18.parameters():\n",
    "    params.requires_grad = False"
   ]
  },
  {
   "cell_type": "code",
   "execution_count": 37,
   "id": "super-heath",
   "metadata": {},
   "outputs": [
    {
     "data": {
      "text/plain": [
       "ResNet(\n",
       "  (conv1): Conv2d(3, 64, kernel_size=(7, 7), stride=(2, 2), padding=(3, 3), bias=False)\n",
       "  (bn1): BatchNorm2d(64, eps=1e-05, momentum=0.1, affine=True, track_running_stats=True)\n",
       "  (relu): ReLU(inplace=True)\n",
       "  (maxpool): MaxPool2d(kernel_size=3, stride=2, padding=1, dilation=1, ceil_mode=False)\n",
       "  (layer1): Sequential(\n",
       "    (0): BasicBlock(\n",
       "      (conv1): Conv2d(64, 64, kernel_size=(3, 3), stride=(1, 1), padding=(1, 1), bias=False)\n",
       "      (bn1): BatchNorm2d(64, eps=1e-05, momentum=0.1, affine=True, track_running_stats=True)\n",
       "      (relu): ReLU(inplace=True)\n",
       "      (conv2): Conv2d(64, 64, kernel_size=(3, 3), stride=(1, 1), padding=(1, 1), bias=False)\n",
       "      (bn2): BatchNorm2d(64, eps=1e-05, momentum=0.1, affine=True, track_running_stats=True)\n",
       "    )\n",
       "    (1): BasicBlock(\n",
       "      (conv1): Conv2d(64, 64, kernel_size=(3, 3), stride=(1, 1), padding=(1, 1), bias=False)\n",
       "      (bn1): BatchNorm2d(64, eps=1e-05, momentum=0.1, affine=True, track_running_stats=True)\n",
       "      (relu): ReLU(inplace=True)\n",
       "      (conv2): Conv2d(64, 64, kernel_size=(3, 3), stride=(1, 1), padding=(1, 1), bias=False)\n",
       "      (bn2): BatchNorm2d(64, eps=1e-05, momentum=0.1, affine=True, track_running_stats=True)\n",
       "    )\n",
       "  )\n",
       "  (layer2): Sequential(\n",
       "    (0): BasicBlock(\n",
       "      (conv1): Conv2d(64, 128, kernel_size=(3, 3), stride=(2, 2), padding=(1, 1), bias=False)\n",
       "      (bn1): BatchNorm2d(128, eps=1e-05, momentum=0.1, affine=True, track_running_stats=True)\n",
       "      (relu): ReLU(inplace=True)\n",
       "      (conv2): Conv2d(128, 128, kernel_size=(3, 3), stride=(1, 1), padding=(1, 1), bias=False)\n",
       "      (bn2): BatchNorm2d(128, eps=1e-05, momentum=0.1, affine=True, track_running_stats=True)\n",
       "      (downsample): Sequential(\n",
       "        (0): Conv2d(64, 128, kernel_size=(1, 1), stride=(2, 2), bias=False)\n",
       "        (1): BatchNorm2d(128, eps=1e-05, momentum=0.1, affine=True, track_running_stats=True)\n",
       "      )\n",
       "    )\n",
       "    (1): BasicBlock(\n",
       "      (conv1): Conv2d(128, 128, kernel_size=(3, 3), stride=(1, 1), padding=(1, 1), bias=False)\n",
       "      (bn1): BatchNorm2d(128, eps=1e-05, momentum=0.1, affine=True, track_running_stats=True)\n",
       "      (relu): ReLU(inplace=True)\n",
       "      (conv2): Conv2d(128, 128, kernel_size=(3, 3), stride=(1, 1), padding=(1, 1), bias=False)\n",
       "      (bn2): BatchNorm2d(128, eps=1e-05, momentum=0.1, affine=True, track_running_stats=True)\n",
       "    )\n",
       "  )\n",
       "  (layer3): Sequential(\n",
       "    (0): BasicBlock(\n",
       "      (conv1): Conv2d(128, 256, kernel_size=(3, 3), stride=(2, 2), padding=(1, 1), bias=False)\n",
       "      (bn1): BatchNorm2d(256, eps=1e-05, momentum=0.1, affine=True, track_running_stats=True)\n",
       "      (relu): ReLU(inplace=True)\n",
       "      (conv2): Conv2d(256, 256, kernel_size=(3, 3), stride=(1, 1), padding=(1, 1), bias=False)\n",
       "      (bn2): BatchNorm2d(256, eps=1e-05, momentum=0.1, affine=True, track_running_stats=True)\n",
       "      (downsample): Sequential(\n",
       "        (0): Conv2d(128, 256, kernel_size=(1, 1), stride=(2, 2), bias=False)\n",
       "        (1): BatchNorm2d(256, eps=1e-05, momentum=0.1, affine=True, track_running_stats=True)\n",
       "      )\n",
       "    )\n",
       "    (1): BasicBlock(\n",
       "      (conv1): Conv2d(256, 256, kernel_size=(3, 3), stride=(1, 1), padding=(1, 1), bias=False)\n",
       "      (bn1): BatchNorm2d(256, eps=1e-05, momentum=0.1, affine=True, track_running_stats=True)\n",
       "      (relu): ReLU(inplace=True)\n",
       "      (conv2): Conv2d(256, 256, kernel_size=(3, 3), stride=(1, 1), padding=(1, 1), bias=False)\n",
       "      (bn2): BatchNorm2d(256, eps=1e-05, momentum=0.1, affine=True, track_running_stats=True)\n",
       "    )\n",
       "  )\n",
       "  (layer4): Sequential(\n",
       "    (0): BasicBlock(\n",
       "      (conv1): Conv2d(256, 512, kernel_size=(3, 3), stride=(2, 2), padding=(1, 1), bias=False)\n",
       "      (bn1): BatchNorm2d(512, eps=1e-05, momentum=0.1, affine=True, track_running_stats=True)\n",
       "      (relu): ReLU(inplace=True)\n",
       "      (conv2): Conv2d(512, 512, kernel_size=(3, 3), stride=(1, 1), padding=(1, 1), bias=False)\n",
       "      (bn2): BatchNorm2d(512, eps=1e-05, momentum=0.1, affine=True, track_running_stats=True)\n",
       "      (downsample): Sequential(\n",
       "        (0): Conv2d(256, 512, kernel_size=(1, 1), stride=(2, 2), bias=False)\n",
       "        (1): BatchNorm2d(512, eps=1e-05, momentum=0.1, affine=True, track_running_stats=True)\n",
       "      )\n",
       "    )\n",
       "    (1): BasicBlock(\n",
       "      (conv1): Conv2d(512, 512, kernel_size=(3, 3), stride=(1, 1), padding=(1, 1), bias=False)\n",
       "      (bn1): BatchNorm2d(512, eps=1e-05, momentum=0.1, affine=True, track_running_stats=True)\n",
       "      (relu): ReLU(inplace=True)\n",
       "      (conv2): Conv2d(512, 512, kernel_size=(3, 3), stride=(1, 1), padding=(1, 1), bias=False)\n",
       "      (bn2): BatchNorm2d(512, eps=1e-05, momentum=0.1, affine=True, track_running_stats=True)\n",
       "    )\n",
       "  )\n",
       "  (avgpool): AdaptiveAvgPool2d(output_size=(1, 1))\n",
       "  (fc): Linear(in_features=512, out_features=10, bias=True)\n",
       ")"
      ]
     },
     "execution_count": 37,
     "metadata": {},
     "output_type": "execute_result"
    }
   ],
   "source": [
    "resnet18"
   ]
  },
  {
   "cell_type": "code",
   "execution_count": 38,
   "id": "revised-position",
   "metadata": {},
   "outputs": [
    {
     "data": {
      "text/plain": [
       "Linear(in_features=512, out_features=10, bias=True)"
      ]
     },
     "execution_count": 38,
     "metadata": {},
     "output_type": "execute_result"
    }
   ],
   "source": [
    "resnet18.fc"
   ]
  },
  {
   "cell_type": "code",
   "execution_count": 39,
   "id": "arranged-motel",
   "metadata": {},
   "outputs": [],
   "source": [
    "resnet18.fc = nn.Linear(in_features=512, out_features=10, bias=True)"
   ]
  },
  {
   "cell_type": "code",
   "execution_count": 40,
   "id": "split-extraction",
   "metadata": {},
   "outputs": [
    {
     "data": {
      "text/plain": [
       "Linear(in_features=512, out_features=10, bias=True)"
      ]
     },
     "execution_count": 40,
     "metadata": {},
     "output_type": "execute_result"
    }
   ],
   "source": [
    "resnet18.fc"
   ]
  },
  {
   "cell_type": "code",
   "execution_count": 41,
   "id": "hazardous-consistency",
   "metadata": {},
   "outputs": [
    {
     "data": {
      "text/plain": [
       "ResNet(\n",
       "  (conv1): Conv2d(3, 64, kernel_size=(7, 7), stride=(2, 2), padding=(3, 3), bias=False)\n",
       "  (bn1): BatchNorm2d(64, eps=1e-05, momentum=0.1, affine=True, track_running_stats=True)\n",
       "  (relu): ReLU(inplace=True)\n",
       "  (maxpool): MaxPool2d(kernel_size=3, stride=2, padding=1, dilation=1, ceil_mode=False)\n",
       "  (layer1): Sequential(\n",
       "    (0): BasicBlock(\n",
       "      (conv1): Conv2d(64, 64, kernel_size=(3, 3), stride=(1, 1), padding=(1, 1), bias=False)\n",
       "      (bn1): BatchNorm2d(64, eps=1e-05, momentum=0.1, affine=True, track_running_stats=True)\n",
       "      (relu): ReLU(inplace=True)\n",
       "      (conv2): Conv2d(64, 64, kernel_size=(3, 3), stride=(1, 1), padding=(1, 1), bias=False)\n",
       "      (bn2): BatchNorm2d(64, eps=1e-05, momentum=0.1, affine=True, track_running_stats=True)\n",
       "    )\n",
       "    (1): BasicBlock(\n",
       "      (conv1): Conv2d(64, 64, kernel_size=(3, 3), stride=(1, 1), padding=(1, 1), bias=False)\n",
       "      (bn1): BatchNorm2d(64, eps=1e-05, momentum=0.1, affine=True, track_running_stats=True)\n",
       "      (relu): ReLU(inplace=True)\n",
       "      (conv2): Conv2d(64, 64, kernel_size=(3, 3), stride=(1, 1), padding=(1, 1), bias=False)\n",
       "      (bn2): BatchNorm2d(64, eps=1e-05, momentum=0.1, affine=True, track_running_stats=True)\n",
       "    )\n",
       "  )\n",
       "  (layer2): Sequential(\n",
       "    (0): BasicBlock(\n",
       "      (conv1): Conv2d(64, 128, kernel_size=(3, 3), stride=(2, 2), padding=(1, 1), bias=False)\n",
       "      (bn1): BatchNorm2d(128, eps=1e-05, momentum=0.1, affine=True, track_running_stats=True)\n",
       "      (relu): ReLU(inplace=True)\n",
       "      (conv2): Conv2d(128, 128, kernel_size=(3, 3), stride=(1, 1), padding=(1, 1), bias=False)\n",
       "      (bn2): BatchNorm2d(128, eps=1e-05, momentum=0.1, affine=True, track_running_stats=True)\n",
       "      (downsample): Sequential(\n",
       "        (0): Conv2d(64, 128, kernel_size=(1, 1), stride=(2, 2), bias=False)\n",
       "        (1): BatchNorm2d(128, eps=1e-05, momentum=0.1, affine=True, track_running_stats=True)\n",
       "      )\n",
       "    )\n",
       "    (1): BasicBlock(\n",
       "      (conv1): Conv2d(128, 128, kernel_size=(3, 3), stride=(1, 1), padding=(1, 1), bias=False)\n",
       "      (bn1): BatchNorm2d(128, eps=1e-05, momentum=0.1, affine=True, track_running_stats=True)\n",
       "      (relu): ReLU(inplace=True)\n",
       "      (conv2): Conv2d(128, 128, kernel_size=(3, 3), stride=(1, 1), padding=(1, 1), bias=False)\n",
       "      (bn2): BatchNorm2d(128, eps=1e-05, momentum=0.1, affine=True, track_running_stats=True)\n",
       "    )\n",
       "  )\n",
       "  (layer3): Sequential(\n",
       "    (0): BasicBlock(\n",
       "      (conv1): Conv2d(128, 256, kernel_size=(3, 3), stride=(2, 2), padding=(1, 1), bias=False)\n",
       "      (bn1): BatchNorm2d(256, eps=1e-05, momentum=0.1, affine=True, track_running_stats=True)\n",
       "      (relu): ReLU(inplace=True)\n",
       "      (conv2): Conv2d(256, 256, kernel_size=(3, 3), stride=(1, 1), padding=(1, 1), bias=False)\n",
       "      (bn2): BatchNorm2d(256, eps=1e-05, momentum=0.1, affine=True, track_running_stats=True)\n",
       "      (downsample): Sequential(\n",
       "        (0): Conv2d(128, 256, kernel_size=(1, 1), stride=(2, 2), bias=False)\n",
       "        (1): BatchNorm2d(256, eps=1e-05, momentum=0.1, affine=True, track_running_stats=True)\n",
       "      )\n",
       "    )\n",
       "    (1): BasicBlock(\n",
       "      (conv1): Conv2d(256, 256, kernel_size=(3, 3), stride=(1, 1), padding=(1, 1), bias=False)\n",
       "      (bn1): BatchNorm2d(256, eps=1e-05, momentum=0.1, affine=True, track_running_stats=True)\n",
       "      (relu): ReLU(inplace=True)\n",
       "      (conv2): Conv2d(256, 256, kernel_size=(3, 3), stride=(1, 1), padding=(1, 1), bias=False)\n",
       "      (bn2): BatchNorm2d(256, eps=1e-05, momentum=0.1, affine=True, track_running_stats=True)\n",
       "    )\n",
       "  )\n",
       "  (layer4): Sequential(\n",
       "    (0): BasicBlock(\n",
       "      (conv1): Conv2d(256, 512, kernel_size=(3, 3), stride=(2, 2), padding=(1, 1), bias=False)\n",
       "      (bn1): BatchNorm2d(512, eps=1e-05, momentum=0.1, affine=True, track_running_stats=True)\n",
       "      (relu): ReLU(inplace=True)\n",
       "      (conv2): Conv2d(512, 512, kernel_size=(3, 3), stride=(1, 1), padding=(1, 1), bias=False)\n",
       "      (bn2): BatchNorm2d(512, eps=1e-05, momentum=0.1, affine=True, track_running_stats=True)\n",
       "      (downsample): Sequential(\n",
       "        (0): Conv2d(256, 512, kernel_size=(1, 1), stride=(2, 2), bias=False)\n",
       "        (1): BatchNorm2d(512, eps=1e-05, momentum=0.1, affine=True, track_running_stats=True)\n",
       "      )\n",
       "    )\n",
       "    (1): BasicBlock(\n",
       "      (conv1): Conv2d(512, 512, kernel_size=(3, 3), stride=(1, 1), padding=(1, 1), bias=False)\n",
       "      (bn1): BatchNorm2d(512, eps=1e-05, momentum=0.1, affine=True, track_running_stats=True)\n",
       "      (relu): ReLU(inplace=True)\n",
       "      (conv2): Conv2d(512, 512, kernel_size=(3, 3), stride=(1, 1), padding=(1, 1), bias=False)\n",
       "      (bn2): BatchNorm2d(512, eps=1e-05, momentum=0.1, affine=True, track_running_stats=True)\n",
       "    )\n",
       "  )\n",
       "  (avgpool): AdaptiveAvgPool2d(output_size=(1, 1))\n",
       "  (fc): Linear(in_features=512, out_features=10, bias=True)\n",
       ")"
      ]
     },
     "execution_count": 41,
     "metadata": {},
     "output_type": "execute_result"
    }
   ],
   "source": [
    "resnet18"
   ]
  },
  {
   "cell_type": "code",
   "execution_count": 56,
   "id": "novel-faith",
   "metadata": {},
   "outputs": [
    {
     "name": "stdout",
     "output_type": "stream",
     "text": [
      "------------------------------\n",
      "torch.Size([10])\n",
      "Parameter containing:\n",
      "tensor([ 0.0262,  0.0441, -0.0406, -0.0184,  0.0055, -0.0107, -0.0008, -0.0121,\n",
      "        -0.0333,  0.0437], requires_grad=True)\n",
      "True\n",
      "\n",
      "------------------------------\n",
      "torch.Size([10, 512])\n",
      "Parameter containing:\n",
      "tensor([[-0.0134,  0.0272,  0.0418,  ...,  0.0233,  0.0384,  0.0063],\n",
      "        [-0.0073, -0.0319,  0.0230,  ..., -0.0347, -0.0302,  0.0288],\n",
      "        [ 0.0349,  0.0128,  0.0341,  ..., -0.0132, -0.0108,  0.0062],\n",
      "        ...,\n",
      "        [ 0.0113,  0.0283,  0.0197,  ...,  0.0263,  0.0314,  0.0398],\n",
      "        [-0.0339, -0.0300,  0.0410,  ..., -0.0178,  0.0176,  0.0381],\n",
      "        [-0.0310,  0.0348, -0.0219,  ...,  0.0062, -0.0208,  0.0253]],\n",
      "       requires_grad=True)\n",
      "True\n",
      "\n"
     ]
    }
   ],
   "source": [
    "for i, param in enumerate(reversed(list(resnet18.parameters()))):\n",
    "    if i > 1: break\n",
    "    print(f\"{'---'*10}\")\n",
    "    print(f\"{param.shape}\\n{param}\\n{param.requires_grad}\\n\")"
   ]
  },
  {
   "cell_type": "code",
   "execution_count": 57,
   "id": "textile-comparative",
   "metadata": {},
   "outputs": [
    {
     "data": {
      "text/plain": [
       "torch.Size([2, 3, 4, 5])"
      ]
     },
     "execution_count": 57,
     "metadata": {},
     "output_type": "execute_result"
    }
   ],
   "source": [
    "x = torch.rand(size=(2,3,4,5))\n",
    "x.shape"
   ]
  },
  {
   "cell_type": "code",
   "execution_count": 60,
   "id": "static-worth",
   "metadata": {},
   "outputs": [
    {
     "data": {
      "text/plain": [
       "torch.Size([120])"
      ]
     },
     "execution_count": 60,
     "metadata": {},
     "output_type": "execute_result"
    }
   ],
   "source": [
    "y = torch.flatten(x, 0)\n",
    "y.shape                      ## [2*3*4*5]"
   ]
  },
  {
   "cell_type": "code",
   "execution_count": 58,
   "id": "affecting-dodge",
   "metadata": {},
   "outputs": [
    {
     "data": {
      "text/plain": [
       "torch.Size([2, 60])"
      ]
     },
     "execution_count": 58,
     "metadata": {},
     "output_type": "execute_result"
    }
   ],
   "source": [
    "y = torch.flatten(x, 1)\n",
    "y.shape                      ## [2, 3*4*5]"
   ]
  },
  {
   "cell_type": "code",
   "execution_count": 59,
   "id": "excess-mainstream",
   "metadata": {},
   "outputs": [
    {
     "data": {
      "text/plain": [
       "torch.Size([2, 3, 20])"
      ]
     },
     "execution_count": 59,
     "metadata": {},
     "output_type": "execute_result"
    }
   ],
   "source": [
    "y = torch.flatten(x, 2)\n",
    "y.shape                      ## [2, 3, 4*5]"
   ]
  },
  {
   "cell_type": "code",
   "execution_count": 61,
   "id": "presidential-circle",
   "metadata": {},
   "outputs": [
    {
     "data": {
      "text/plain": [
       "\u001b[0;31mInit signature:\u001b[0m \u001b[0mnn\u001b[0m\u001b[0;34m.\u001b[0m\u001b[0mParameter\u001b[0m\u001b[0;34m(\u001b[0m\u001b[0mdata\u001b[0m\u001b[0;34m=\u001b[0m\u001b[0;32mNone\u001b[0m\u001b[0;34m,\u001b[0m \u001b[0mrequires_grad\u001b[0m\u001b[0;34m=\u001b[0m\u001b[0;32mTrue\u001b[0m\u001b[0;34m)\u001b[0m\u001b[0;34m\u001b[0m\u001b[0;34m\u001b[0m\u001b[0m\n",
       "\u001b[0;31mDocstring:\u001b[0m     \n",
       "A kind of Tensor that is to be considered a module parameter.\n",
       "\n",
       "Parameters are :class:`~torch.Tensor` subclasses, that have a\n",
       "very special property when used with :class:`Module` s - when they're\n",
       "assigned as Module attributes they are automatically added to the list of\n",
       "its parameters, and will appear e.g. in :meth:`~Module.parameters` iterator.\n",
       "Assigning a Tensor doesn't have such effect. This is because one might\n",
       "want to cache some temporary state, like last hidden state of the RNN, in\n",
       "the model. If there was no such class as :class:`Parameter`, these\n",
       "temporaries would get registered too.\n",
       "\n",
       "Arguments:\n",
       "    data (Tensor): parameter tensor.\n",
       "    requires_grad (bool, optional): if the parameter requires gradient. See\n",
       "        :ref:`excluding-subgraphs` for more details. Default: `True`\n",
       "\u001b[0;31mFile:\u001b[0m           ~/anaconda3/lib/python3.7/site-packages/torch/nn/parameter.py\n",
       "\u001b[0;31mType:\u001b[0m           type\n",
       "\u001b[0;31mSubclasses:\u001b[0m     \n"
      ]
     },
     "metadata": {},
     "output_type": "display_data"
    }
   ],
   "source": [
    "nn.Parameter?"
   ]
  },
  {
   "cell_type": "code",
   "execution_count": 63,
   "id": "dental-factory",
   "metadata": {},
   "outputs": [
    {
     "data": {
      "text/plain": [
       "torch.nn.parameter.Parameter"
      ]
     },
     "execution_count": 63,
     "metadata": {},
     "output_type": "execute_result"
    }
   ],
   "source": [
    "type(param)"
   ]
  },
  {
   "cell_type": "code",
   "execution_count": 64,
   "id": "adjusted-partnership",
   "metadata": {},
   "outputs": [
    {
     "data": {
      "text/plain": [
       "Parameter containing:\n",
       "tensor([0.2371, 0.3433, 0.3279, 0.4642, 0.2233, 0.2370, 0.2176, 0.3793, 0.3140,\n",
       "        0.2803, 0.2434, 0.2116, 0.2478, 0.2435, 0.2298, 0.3172, 0.2725, 0.6511,\n",
       "        0.2925, 0.2281, 0.2279, 0.4254, 0.2342, 0.3328, 0.2632, 0.2176, 0.3180,\n",
       "        0.3893, 0.1387, 0.2274, 0.3379, 0.0767, 0.2253, 0.2504, 0.1990, 0.1951,\n",
       "        0.2566, 0.3253, 0.2797, 0.3149, 0.2373, 0.2533, 0.1956, 0.3236, 0.2093,\n",
       "        0.2333, 0.2300, 0.5019, 0.2830, 0.1885, 0.3264, 0.2722, 0.2369, 0.2430,\n",
       "        0.3625, 0.2165, 0.4700, 0.3047, 0.3675, 0.2641, 0.1979, 0.2664, 0.3448,\n",
       "        0.2005, 0.2450, 0.4351, 0.2689, 0.1632, 0.3087, 0.1209, 0.2153, 0.1592,\n",
       "        0.2960, 0.1423, 0.2951, 0.2706, 0.2007, 0.2939, 0.2210, 0.2243, 0.2465,\n",
       "        0.3910, 0.4599, 0.5417, 0.2147, 0.3469, 0.2703, 0.2229, 0.3645, 0.2647,\n",
       "        0.2421, 0.2492, 0.1666, 0.2763, 0.2560, 0.2151, 0.3363, 0.2767, 0.2516,\n",
       "        0.2988, 0.2622, 0.3499, 0.3001, 0.3907, 0.3184, 0.2233, 0.2649, 0.2110,\n",
       "        0.2034, 0.2752, 0.2314, 0.3480, 0.2238, 0.2892, 0.1991, 0.2923, 0.3259,\n",
       "        0.0722, 0.3039, 0.3041, 0.3803, 0.2568, 0.2382, 0.3057, 0.2652, 0.1532,\n",
       "        0.2110, 0.2567, 0.3148, 0.2746, 0.1833, 0.1950, 0.1116, 0.2279, 0.3705,\n",
       "        0.2477, 0.2000, 0.3060, 0.2548, 0.2468, 0.3028, 0.1921, 0.2952, 0.1980,\n",
       "        0.2135, 0.1583, 0.1586, 0.3944, 0.2352, 0.3947, 0.2740, 0.2861, 0.1856,\n",
       "        0.2702, 0.2986, 0.1728, 0.2658, 0.2696, 0.2028, 0.1838, 0.3176, 0.6246,\n",
       "        0.2631, 0.3855, 0.2074, 0.2317, 0.4171, 0.2044, 0.2926, 0.3506, 0.2305,\n",
       "        0.2400, 0.1420, 0.1093, 0.2757, 0.3253, 0.2334, 0.1650, 0.4026, 0.2066,\n",
       "        0.1790, 0.3032, 0.5658, 0.3246, 0.3834, 0.3254, 0.1772, 0.2909, 0.2350,\n",
       "        0.2519, 0.1968, 0.2003, 0.3213, 0.4802, 0.2543, 0.2578, 0.3280, 0.2270,\n",
       "        0.3044, 0.2273, 0.2447, 0.2527, 0.4136, 0.2588, 0.3589, 0.2688, 0.2115,\n",
       "        0.2022, 0.3186, 0.3740, 0.1785, 0.2074, 0.2346, 0.3566, 0.2623, 0.2620,\n",
       "        0.2880, 0.1462, 0.1896, 0.2777, 0.1852, 0.3240, 0.2748, 0.2164, 0.3066,\n",
       "        0.1845, 0.3992, 0.1695, 0.4411, 0.2812, 0.2730, 0.2784, 0.1861, 0.3589,\n",
       "        0.1934, 0.3320, 0.3350, 0.2655, 0.2740, 0.3185, 0.2633, 0.2458, 0.2003,\n",
       "        0.2809, 0.3049, 0.2050, 0.2904, 0.2381, 0.3278, 0.3484, 0.4293, 0.2422,\n",
       "        0.2859, 0.1864, 0.2954, 0.5634, 0.2081, 0.3743, 0.2902, 0.3820, 0.3069,\n",
       "        0.2101, 0.2750, 0.2878, 0.1870, 0.3015, 0.1661, 0.2998, 0.3101, 0.2522,\n",
       "        0.2419, 0.1758, 0.2681, 0.2812, 0.1495, 0.2868, 0.3157, 0.2587, 0.2437,\n",
       "        0.1467, 0.5416, 0.2490, 0.2831, 0.2783, 0.1614, 0.1963, 0.2034, 0.2364,\n",
       "        0.2527, 0.1573, 0.3184, 0.2841, 0.1613, 0.1489, 0.2850, 0.1625, 0.3277,\n",
       "        0.4936, 0.2780, 0.3178, 0.1743, 0.2158, 0.2222, 0.2821, 0.4267, 0.2713,\n",
       "        0.1778, 0.3067, 0.2270, 0.1772, 0.3897, 0.2923, 0.4843, 0.2345, 0.2327,\n",
       "        0.2740, 0.2700, 0.2804, 0.4035, 0.1501, 0.3329, 0.3286, 0.2803, 0.2309,\n",
       "        0.1738, 0.3270, 0.3097, 0.1808, 0.2384, 0.2107, 0.3240, 0.3346, 0.2236,\n",
       "        0.2061, 0.2687, 0.2360, 0.3338, 0.2694, 0.3203, 0.2895, 0.1884, 0.1491,\n",
       "        0.3957, 0.5167, 0.3407, 0.1854, 0.1816, 0.2626, 0.1855, 0.2219, 0.1482,\n",
       "        0.2584, 0.2458, 0.2616, 0.2396, 0.2402, 0.2423, 0.3463, 0.2731, 0.1524,\n",
       "        0.2514, 0.2760, 0.1734, 0.2715, 0.4052, 0.2252, 0.3676, 0.3070, 0.3127,\n",
       "        0.1836, 0.4330, 0.2203, 0.2073, 0.2803, 0.2984, 0.2191, 0.3272, 0.2267,\n",
       "        0.2749, 0.3056, 0.4566, 0.2962, 0.3528, 0.3236, 0.4220, 0.2715, 0.2256,\n",
       "        0.2903, 0.1829, 0.3994, 0.2820, 0.2471, 0.1647, 0.3654, 0.4504, 0.2685,\n",
       "        0.2992, 0.2825, 0.2435, 0.2212, 0.4300, 0.4342, 0.1988, 0.2863, 0.3398,\n",
       "        0.2444, 0.2905, 0.2559, 0.2586, 0.1702, 0.1906, 0.2536, 0.2978, 0.2498,\n",
       "        0.3777, 0.2252, 0.2472, 0.2243, 0.1732, 0.2194, 0.2091, 0.2820, 0.2898,\n",
       "        0.2887, 0.3292, 0.1644, 0.2962, 0.3279, 0.2535, 0.2795, 0.2238, 0.2607,\n",
       "        0.1937, 0.2680, 0.2418, 0.5193, 0.2502, 0.3147, 0.2166, 0.2313, 0.2027,\n",
       "        0.1880, 0.2180, 0.3826, 0.3871, 0.2358, 0.3556, 0.2272, 0.3272, 0.3442,\n",
       "        0.3154, 0.1993, 0.3135, 0.2254, 0.3048, 0.2658, 0.3337, 0.2679, 0.2670,\n",
       "        0.2363, 0.4347, 0.1931, 0.1995, 0.2072, 0.3202, 0.2667, 0.2305, 0.2383,\n",
       "        0.2246, 0.2562, 0.2837, 0.4046, 0.2786, 0.2243, 0.1591, 0.1923, 0.1894,\n",
       "        0.2496, 0.1140, 0.3128, 0.3197, 0.3530, 0.2999, 0.2115, 0.4718, 0.2979,\n",
       "        0.3472, 0.2890, 0.4740, 0.2230, 0.3630, 0.4015, 0.2446, 0.1897, 0.1460,\n",
       "        0.1874, 0.2734, 0.2366, 0.3001, 0.2359, 0.2688, 0.3256, 0.2749, 0.2848,\n",
       "        0.2299, 0.3001, 0.4818, 0.3074, 0.3164, 0.3114, 0.3549, 0.2859])"
      ]
     },
     "execution_count": 64,
     "metadata": {},
     "output_type": "execute_result"
    }
   ],
   "source": [
    "param"
   ]
  },
  {
   "cell_type": "code",
   "execution_count": 65,
   "id": "average-junction",
   "metadata": {},
   "outputs": [
    {
     "data": {
      "text/plain": [
       "\u001b[0;31mInit signature:\u001b[0m \u001b[0mtorch\u001b[0m\u001b[0;34m.\u001b[0m\u001b[0mautograd\u001b[0m\u001b[0;34m.\u001b[0m\u001b[0mFunction\u001b[0m\u001b[0;34m(\u001b[0m\u001b[0mself\u001b[0m\u001b[0;34m,\u001b[0m \u001b[0;34m/\u001b[0m\u001b[0;34m,\u001b[0m \u001b[0;34m*\u001b[0m\u001b[0margs\u001b[0m\u001b[0;34m,\u001b[0m \u001b[0;34m**\u001b[0m\u001b[0mkwargs\u001b[0m\u001b[0;34m)\u001b[0m\u001b[0;34m\u001b[0m\u001b[0;34m\u001b[0m\u001b[0m\n",
       "\u001b[0;31mDocstring:\u001b[0m     \n",
       "Records operation history and defines formulas for differentiating ops.\n",
       "\n",
       "See the Note on extending the autograd engine for more details on how to use\n",
       "this class: https://pytorch.org/docs/stable/notes/extending.html#extending-torch-autograd\n",
       "\n",
       "Every operation performed on :class:`Tensor` s creates a new function\n",
       "object, that performs the computation, and records that it happened.\n",
       "The history is retained in the form of a DAG of functions, with edges\n",
       "denoting data dependencies (``input <- output``). Then, when backward is\n",
       "called, the graph is processed in the topological ordering, by calling\n",
       ":func:`backward` methods of each :class:`Function` object, and passing\n",
       "returned gradients on to next :class:`Function` s.\n",
       "\n",
       "Normally, the only way users interact with functions is by creating\n",
       "subclasses and defining new operations. This is a recommended way of\n",
       "extending torch.autograd.\n",
       "\n",
       "Examples::\n",
       "\n",
       "    >>> class Exp(Function):\n",
       "    >>>\n",
       "    >>>     @staticmethod\n",
       "    >>>     def forward(ctx, i):\n",
       "    >>>         result = i.exp()\n",
       "    >>>         ctx.save_for_backward(result)\n",
       "    >>>         return result\n",
       "    >>>\n",
       "    >>>     @staticmethod\n",
       "    >>>     def backward(ctx, grad_output):\n",
       "    >>>         result, = ctx.saved_tensors\n",
       "    >>>         return grad_output * result\n",
       "    >>>\n",
       "    >>> #Use it by calling the apply method:\n",
       "    >>> output = Exp.apply(input)\n",
       "\u001b[0;31mFile:\u001b[0m           ~/anaconda3/lib/python3.7/site-packages/torch/autograd/function.py\n",
       "\u001b[0;31mType:\u001b[0m           FunctionMeta\n",
       "\u001b[0;31mSubclasses:\u001b[0m     InplaceFunction, NestedIOFunction, SyncBatchNorm, CrossMapLRN2d, Broadcast, ReduceAddCoalesced, Gather, Scatter, _Dirichlet, LOBPCGAutogradFunction, ...\n"
      ]
     },
     "metadata": {},
     "output_type": "display_data"
    }
   ],
   "source": [
    "torch.autograd.Function?"
   ]
  },
  {
   "cell_type": "code",
   "execution_count": 71,
   "id": "uniform-omaha",
   "metadata": {},
   "outputs": [],
   "source": [
    "param.data.sub_"
   ]
  },
  {
   "cell_type": "code",
   "execution_count": null,
   "id": "elementary-textbook",
   "metadata": {},
   "outputs": [],
   "source": []
  },
  {
   "cell_type": "markdown",
   "id": "becoming-calcium",
   "metadata": {},
   "source": [
    "# Training a Classifier"
   ]
  },
  {
   "cell_type": "code",
   "execution_count": 72,
   "id": "lesbian-designation",
   "metadata": {},
   "outputs": [],
   "source": [
    "import torch\n",
    "import torchvision"
   ]
  },
  {
   "cell_type": "code",
   "execution_count": 73,
   "id": "norwegian-valentine",
   "metadata": {},
   "outputs": [
    {
     "name": "stdout",
     "output_type": "stream",
     "text": [
      "Downloading https://www.cs.toronto.edu/~kriz/cifar-10-python.tar.gz to data/cifar-10-python.tar.gz\n"
     ]
    },
    {
     "data": {
      "application/vnd.jupyter.widget-view+json": {
       "model_id": "0c0b35b835f548d18e5a64de990e8de6",
       "version_major": 2,
       "version_minor": 0
      },
      "text/plain": [
       "0it [00:00, ?it/s]"
      ]
     },
     "metadata": {},
     "output_type": "display_data"
    },
    {
     "name": "stdout",
     "output_type": "stream",
     "text": [
      "Extracting data/cifar-10-python.tar.gz to data/\n",
      "Files already downloaded and verified\n"
     ]
    }
   ],
   "source": [
    "transform = torchvision.transforms.Compose([\n",
    "    torchvision.transforms.ToTensor(),\n",
    "    torchvision.transforms.Normalize(mean=(0.5, 0.5, 0.5), std=(0.5, 0.5, 0.5)),\n",
    "])\n",
    "\n",
    "batch_size = 4\n",
    "\n",
    "train_dataset = torchvision.datasets.CIFAR10(root=\"data/\",\n",
    "                                             train=True,\n",
    "                                             download=True, \n",
    "                                             transform=transform,\n",
    "                                            )\n",
    "test_dataset = torchvision.datasets.CIFAR10(root=\"data/\", \n",
    "                                            train=False, \n",
    "                                            download=True, \n",
    "                                            transform=transform,\n",
    "                                           )\n",
    "\n",
    "train_dataloader = torch.utils.data.DataLoader(dataset=train_dataset,\n",
    "                                               batch_size=batch_size, \n",
    "                                               shuffle=True,\n",
    "                                               num_workers=2,\n",
    "                                              )\n",
    "\n",
    "test_dataloader = torch.utils.data.DataLoader(dataset=test_dataset,\n",
    "                                              batch_size=batch_size,\n",
    "                                              shuffle=False,\n",
    "                                              num_workers=2,\n",
    "                                             )\n",
    "\n",
    "classes = (\"plane\", \"car\", \"bird\", \"cat\", \"deer\", \n",
    "           \"dog\", \"frog\", \"horse\", \"ship\", \"truck\",)\n"
   ]
  },
  {
   "cell_type": "code",
   "execution_count": 74,
   "id": "classified-dryer",
   "metadata": {},
   "outputs": [
    {
     "data": {
      "text/plain": [
       "(50000, 10000)"
      ]
     },
     "execution_count": 74,
     "metadata": {},
     "output_type": "execute_result"
    }
   ],
   "source": [
    "len(train_dataset), len(test_dataset)"
   ]
  },
  {
   "cell_type": "code",
   "execution_count": 90,
   "id": "czech-explanation",
   "metadata": {},
   "outputs": [
    {
     "name": "stdout",
     "output_type": "stream",
     "text": [
      "torch.Size([3, 36, 138]) (3, 36, 138) (36, 138, 3)\n"
     ]
    },
    {
     "data": {
      "image/png": "[encoded data removed]",
      "text/plain": [
       "<Figure size 640x480 with 1 Axes>"
      ]
     },
     "metadata": {},
     "output_type": "display_data"
    },
    {
     "name": "stdout",
     "output_type": "stream",
     "text": [
      "horse cat car ship\n"
     ]
    }
   ],
   "source": [
    "import matplotlib.pyplot as plt\n",
    "import numpy as np\n",
    "\n",
    "\n",
    "def show_image(img):\n",
    "    \"\"\"Plots the image\"\"\"\n",
    "    img = img/2 + 0.5\n",
    "    img_np = img.numpy()\n",
    "    img_t = np.transpose(img_np, axes=(-2, -1, -3))\n",
    "    print(img.shape, img_np.shape, img_t.shape)\n",
    "    plt.imshow(img_t)\n",
    "    plt.show()\n",
    "    \n",
    "## get some random image\n",
    "images, labels = next(iter(train_dataloader))\n",
    "\n",
    "## show images\n",
    "show_image(torchvision.utils.make_grid(images))\n",
    "\n",
    "## print labels\n",
    "print(\" \".join(classes[i] for i in labels))"
   ]
  },
  {
   "cell_type": "markdown",
   "id": "agricultural-league",
   "metadata": {},
   "source": [
    "## Define a Convolutional Neural Network"
   ]
  },
  {
   "cell_type": "code",
   "execution_count": 105,
   "id": "christian-prefix",
   "metadata": {},
   "outputs": [],
   "source": [
    "import torch.nn as nn\n",
    "import torch.nn.functional as F\n",
    "\n",
    "class Net(nn.Module):\n",
    "    def __init__(self):\n",
    "        super().__init__()\n",
    "        self.conv1 = nn.Conv2d(in_channels=3, out_channels=6, kernel_size=(5,5))\n",
    "        self.pool = nn.MaxPool2d(kernel_size=(2,2))\n",
    "        self.conv2 = nn.Conv2d(in_channels=6, out_channels=16, kernel_size=(5,5))\n",
    "        self.fc1 = nn.Linear(in_features=16*5*5, out_features=120)\n",
    "        self.fc2 = nn.Linear(in_features=120, out_features=84)\n",
    "        self.fc3 = nn.Linear(in_features=84, out_features=10)\n",
    "    \n",
    "    def forward(self, x):\n",
    "        x = self.pool(F.relu(self.conv1(x)))\n",
    "        x = self.pool(F.relu(self.conv2(x)))\n",
    "        x = torch.flatten(x, start_dim=1)\n",
    "        x = F.relu(self.fc1(x))\n",
    "        x = F.relu(self.fc2(x))\n",
    "        x = self.fc3(x)\n",
    "        return x\n",
    "    "
   ]
  },
  {
   "cell_type": "code",
   "execution_count": 109,
   "id": "governing-affair",
   "metadata": {},
   "outputs": [
    {
     "data": {
      "text/plain": [
       "Net(\n",
       "  (conv1): Conv2d(3, 6, kernel_size=(5, 5), stride=(1, 1))\n",
       "  (pool): MaxPool2d(kernel_size=(2, 2), stride=(2, 2), padding=0, dilation=1, ceil_mode=False)\n",
       "  (conv2): Conv2d(6, 16, kernel_size=(5, 5), stride=(1, 1))\n",
       "  (fc1): Linear(in_features=400, out_features=120, bias=True)\n",
       "  (fc2): Linear(in_features=120, out_features=84, bias=True)\n",
       "  (fc3): Linear(in_features=84, out_features=10, bias=True)\n",
       ")"
      ]
     },
     "execution_count": 109,
     "metadata": {},
     "output_type": "execute_result"
    }
   ],
   "source": [
    "net = Net()\n",
    "net"
   ]
  },
  {
   "cell_type": "markdown",
   "id": "combined-mobility",
   "metadata": {},
   "source": [
    "## Define a loss function & an optimizer"
   ]
  },
  {
   "cell_type": "code",
   "execution_count": 110,
   "id": "periodic-walnut",
   "metadata": {},
   "outputs": [],
   "source": [
    "import torch.optim\n",
    "\n",
    "loss_fn = nn.CrossEntropyLoss()\n",
    "optimizer = optim.SGD(params=net.parameters(), lr=1e-3, momentum=0.9)\n"
   ]
  },
  {
   "cell_type": "markdown",
   "id": "restricted-allen",
   "metadata": {},
   "source": [
    "## Train the network"
   ]
  },
  {
   "cell_type": "code",
   "execution_count": 111,
   "id": "centered-canyon",
   "metadata": {},
   "outputs": [
    {
     "name": "stdout",
     "output_type": "stream",
     "text": [
      "💈Epoch[ 1/20]\n",
      "\t minibatch[ 2000] | running_loss: 2.28487\n",
      "\t minibatch[ 4000] | running_loss: 1.96404\n",
      "\t minibatch[ 6000] | running_loss: 1.75157\n",
      "\t minibatch[ 8000] | running_loss: 1.63266\n",
      "\t minibatch[10000] | running_loss: 1.55427\n",
      "\t minibatch[12000] | running_loss: 1.49077\n",
      "💈Epoch[ 2/20]\n",
      "\t minibatch[ 2000] | running_loss: 1.40760\n",
      "\t minibatch[ 4000] | running_loss: 1.37755\n",
      "\t minibatch[ 6000] | running_loss: 1.36043\n",
      "\t minibatch[ 8000] | running_loss: 1.33459\n",
      "\t minibatch[10000] | running_loss: 1.30502\n",
      "\t minibatch[12000] | running_loss: 1.28475\n",
      "💈Epoch[ 3/20]\n",
      "\t minibatch[ 2000] | running_loss: 1.21293\n",
      "\t minibatch[ 4000] | running_loss: 1.22123\n",
      "\t minibatch[ 6000] | running_loss: 1.18209\n",
      "\t minibatch[ 8000] | running_loss: 1.20947\n",
      "\t minibatch[10000] | running_loss: 1.17915\n",
      "\t minibatch[12000] | running_loss: 1.18546\n",
      "💈Epoch[ 4/20]\n",
      "\t minibatch[ 2000] | running_loss: 1.08842\n",
      "\t minibatch[ 4000] | running_loss: 1.11599\n",
      "\t minibatch[ 6000] | running_loss: 1.10871\n",
      "\t minibatch[ 8000] | running_loss: 1.10635\n",
      "\t minibatch[10000] | running_loss: 1.10320\n",
      "\t minibatch[12000] | running_loss: 1.09834\n",
      "💈Epoch[ 5/20]\n",
      "\t minibatch[ 2000] | running_loss: 1.01052\n",
      "\t minibatch[ 4000] | running_loss: 1.02543\n",
      "\t minibatch[ 6000] | running_loss: 1.00112\n",
      "\t minibatch[ 8000] | running_loss: 1.05956\n",
      "\t minibatch[10000] | running_loss: 1.03824\n",
      "\t minibatch[12000] | running_loss: 1.04068\n",
      "💈Epoch[ 6/20]\n",
      "\t minibatch[ 2000] | running_loss: 0.94984\n",
      "\t minibatch[ 4000] | running_loss: 0.95801\n"
     ]
    },
    {
     "ename": "KeyboardInterrupt",
     "evalue": "",
     "output_type": "error",
     "traceback": [
      "\u001b[0;31m---------------------------------------------------------------------------\u001b[0m",
      "\u001b[0;31mKeyboardInterrupt\u001b[0m                         Traceback (most recent call last)",
      "\u001b[0;32m<ipython-input-111-e4709b6f4339>\u001b[0m in \u001b[0;36m<module>\u001b[0;34m\u001b[0m\n\u001b[1;32m     11\u001b[0m         \u001b[0;31m## backward pass\u001b[0m\u001b[0;34m\u001b[0m\u001b[0;34m\u001b[0m\u001b[0;34m\u001b[0m\u001b[0m\n\u001b[1;32m     12\u001b[0m         \u001b[0moptimizer\u001b[0m\u001b[0;34m.\u001b[0m\u001b[0mzero_grad\u001b[0m\u001b[0;34m(\u001b[0m\u001b[0;34m)\u001b[0m\u001b[0;34m\u001b[0m\u001b[0;34m\u001b[0m\u001b[0m\n\u001b[0;32m---> 13\u001b[0;31m         \u001b[0mloss\u001b[0m\u001b[0;34m.\u001b[0m\u001b[0mbackward\u001b[0m\u001b[0;34m(\u001b[0m\u001b[0;34m)\u001b[0m\u001b[0;34m\u001b[0m\u001b[0;34m\u001b[0m\u001b[0m\n\u001b[0m\u001b[1;32m     14\u001b[0m         \u001b[0moptimizer\u001b[0m\u001b[0;34m.\u001b[0m\u001b[0mstep\u001b[0m\u001b[0;34m(\u001b[0m\u001b[0;34m)\u001b[0m\u001b[0;34m\u001b[0m\u001b[0;34m\u001b[0m\u001b[0m\n\u001b[1;32m     15\u001b[0m \u001b[0;34m\u001b[0m\u001b[0m\n",
      "\u001b[0;32m~/anaconda3/lib/python3.7/site-packages/torch/tensor.py\u001b[0m in \u001b[0;36mbackward\u001b[0;34m(self, gradient, retain_graph, create_graph)\u001b[0m\n\u001b[1;32m    219\u001b[0m                 \u001b[0mretain_graph\u001b[0m\u001b[0;34m=\u001b[0m\u001b[0mretain_graph\u001b[0m\u001b[0;34m,\u001b[0m\u001b[0;34m\u001b[0m\u001b[0;34m\u001b[0m\u001b[0m\n\u001b[1;32m    220\u001b[0m                 create_graph=create_graph)\n\u001b[0;32m--> 221\u001b[0;31m         \u001b[0mtorch\u001b[0m\u001b[0;34m.\u001b[0m\u001b[0mautograd\u001b[0m\u001b[0;34m.\u001b[0m\u001b[0mbackward\u001b[0m\u001b[0;34m(\u001b[0m\u001b[0mself\u001b[0m\u001b[0;34m,\u001b[0m \u001b[0mgradient\u001b[0m\u001b[0;34m,\u001b[0m \u001b[0mretain_graph\u001b[0m\u001b[0;34m,\u001b[0m \u001b[0mcreate_graph\u001b[0m\u001b[0;34m)\u001b[0m\u001b[0;34m\u001b[0m\u001b[0;34m\u001b[0m\u001b[0m\n\u001b[0m\u001b[1;32m    222\u001b[0m \u001b[0;34m\u001b[0m\u001b[0m\n\u001b[1;32m    223\u001b[0m     \u001b[0;32mdef\u001b[0m \u001b[0mregister_hook\u001b[0m\u001b[0;34m(\u001b[0m\u001b[0mself\u001b[0m\u001b[0;34m,\u001b[0m \u001b[0mhook\u001b[0m\u001b[0;34m)\u001b[0m\u001b[0;34m:\u001b[0m\u001b[0;34m\u001b[0m\u001b[0;34m\u001b[0m\u001b[0m\n",
      "\u001b[0;32m~/anaconda3/lib/python3.7/site-packages/torch/autograd/__init__.py\u001b[0m in \u001b[0;36mbackward\u001b[0;34m(tensors, grad_tensors, retain_graph, create_graph, grad_variables)\u001b[0m\n\u001b[1;32m    130\u001b[0m     Variable._execution_engine.run_backward(\n\u001b[1;32m    131\u001b[0m         \u001b[0mtensors\u001b[0m\u001b[0;34m,\u001b[0m \u001b[0mgrad_tensors_\u001b[0m\u001b[0;34m,\u001b[0m \u001b[0mretain_graph\u001b[0m\u001b[0;34m,\u001b[0m \u001b[0mcreate_graph\u001b[0m\u001b[0;34m,\u001b[0m\u001b[0;34m\u001b[0m\u001b[0;34m\u001b[0m\u001b[0m\n\u001b[0;32m--> 132\u001b[0;31m         allow_unreachable=True)  # allow_unreachable flag\n\u001b[0m\u001b[1;32m    133\u001b[0m \u001b[0;34m\u001b[0m\u001b[0m\n\u001b[1;32m    134\u001b[0m \u001b[0;34m\u001b[0m\u001b[0m\n",
      "\u001b[0;31mKeyboardInterrupt\u001b[0m: "
     ]
    }
   ],
   "source": [
    "num_epochs = 20\n",
    "\n",
    "for epoch in range(num_epochs):\n",
    "    running_loss = 0\n",
    "    print(f\"💈Epoch[{epoch+1:2d}/{num_epochs:2d}]\")\n",
    "    for batch, (X, y) in enumerate(train_dataloader):\n",
    "        ## calculate the loss\n",
    "        pred = net(X)\n",
    "        loss = loss_fn(pred, y)\n",
    "        \n",
    "        ## backward pass\n",
    "        optimizer.zero_grad()\n",
    "        loss.backward()\n",
    "        optimizer.step()\n",
    "        \n",
    "        ## log the statistics\n",
    "        running_loss += loss.item()\n",
    "        if batch % 2000 == 1999:\n",
    "            print(f\"\\t minibatch[{(batch+1):>5d}] | running_loss: {(running_loss/2000):.5f}\")\n",
    "            running_loss = 0.0\n",
    "        "
   ]
  },
  {
   "cell_type": "code",
   "execution_count": null,
   "id": "following-thousand",
   "metadata": {},
   "outputs": [],
   "source": []
  },
  {
   "cell_type": "markdown",
   "id": "combined-teddy",
   "metadata": {},
   "source": [
    "# Inside of PyTorch (by @jphoward)"
   ]
  },
  {
   "cell_type": "code",
   "execution_count": 1,
   "id": "alone-locator",
   "metadata": {},
   "outputs": [],
   "source": [
    "from pathlib import Path\n",
    "import requests"
   ]
  },
  {
   "cell_type": "code",
   "execution_count": 2,
   "id": "first-packet",
   "metadata": {},
   "outputs": [],
   "source": [
    "DATA_PATH = Path(\"data\")\n",
    "PATH = DATA_PATH / \"mnist\"\n",
    "\n",
    "PATH.mkdir(parents=True, exist_ok=True)\n",
    "\n",
    "URL = \"https://github.com/pytorch/tutorials/raw/master/_static/\"\n",
    "FILENAME = \"mnist.pkl.gz\"\n",
    "\n",
    "if not (PATH / FILENAME).exists():\n",
    "    content = requests.get(URL + FILENAME).content\n",
    "    (PATH / FILENAME).open(\"wb\").write(content)"
   ]
  },
  {
   "cell_type": "code",
   "execution_count": 3,
   "id": "rapid-clerk",
   "metadata": {},
   "outputs": [
    {
     "data": {
      "text/plain": [
       "PosixPath('data/mnist')"
      ]
     },
     "execution_count": 3,
     "metadata": {},
     "output_type": "execute_result"
    }
   ],
   "source": [
    "PATH"
   ]
  },
  {
   "cell_type": "code",
   "execution_count": 4,
   "id": "advance-checkout",
   "metadata": {},
   "outputs": [],
   "source": [
    "import pickle\n",
    "import gzip\n",
    "\n",
    "with gzip.open((PATH / FILENAME).as_posix(), \"rb\") as f:\n",
    "    ((x_train, y_train), (x_valid, y_valid), _) = pickle.load(f, encoding=\"latin-1\")"
   ]
  },
  {
   "cell_type": "code",
   "execution_count": 5,
   "id": "vital-amazon",
   "metadata": {},
   "outputs": [
    {
     "data": {
      "text/plain": [
       "((50000, 784), (50000,))"
      ]
     },
     "execution_count": 5,
     "metadata": {},
     "output_type": "execute_result"
    }
   ],
   "source": [
    "x_train.shape, y_train.shape"
   ]
  },
  {
   "cell_type": "code",
   "execution_count": 6,
   "id": "traditional-refrigerator",
   "metadata": {},
   "outputs": [
    {
     "data": {
      "text/plain": [
       "((10000, 784), (10000,))"
      ]
     },
     "execution_count": 6,
     "metadata": {},
     "output_type": "execute_result"
    }
   ],
   "source": [
    "x_valid.shape, y_valid.shape"
   ]
  },
  {
   "cell_type": "code",
   "execution_count": 7,
   "id": "bottom-apparel",
   "metadata": {},
   "outputs": [
    {
     "data": {
      "image/png": "[encoded data removed]",
      "text/plain": [
       "<Figure size 640x480 with 1 Axes>"
      ]
     },
     "metadata": {},
     "output_type": "display_data"
    },
    {
     "name": "stdout",
     "output_type": "stream",
     "text": [
      "(50000, 784)\n"
     ]
    }
   ],
   "source": [
    "import matplotlib.pyplot as plt\n",
    "import numpy as np\n",
    "\n",
    "plt.imshow(x_train[0].reshape(28, 28))\n",
    "plt.show()\n",
    "print(x_train.shape)"
   ]
  },
  {
   "cell_type": "code",
   "execution_count": 18,
   "id": "statutory-airport",
   "metadata": {},
   "outputs": [
    {
     "name": "stdout",
     "output_type": "stream",
     "text": [
      "tensor([[0., 0., 0.,  ..., 0., 0., 0.],\n",
      "        [0., 0., 0.,  ..., 0., 0., 0.],\n",
      "        [0., 0., 0.,  ..., 0., 0., 0.],\n",
      "        ...,\n",
      "        [0., 0., 0.,  ..., 0., 0., 0.],\n",
      "        [0., 0., 0.,  ..., 0., 0., 0.],\n",
      "        [0., 0., 0.,  ..., 0., 0., 0.]])\n",
      "torch.Size([50000, 784])\n",
      "tensor(0) tensor(9)\n"
     ]
    },
    {
     "name": "stderr",
     "output_type": "stream",
     "text": [
      "/Users/imflash217/anaconda3/lib/python3.7/site-packages/ipykernel_launcher.py:4: UserWarning: To copy construct from a tensor, it is recommended to use sourceTensor.clone().detach() or sourceTensor.clone().detach().requires_grad_(True), rather than torch.tensor(sourceTensor).\n",
      "  after removing the cwd from sys.path.\n"
     ]
    }
   ],
   "source": [
    "import torch\n",
    "\n",
    "x_train, y_train, x_valid, y_valid = map(torch.tensor, \n",
    "                                          (x_train, y_train, x_valid, y_valid)\n",
    "                                         )\n",
    "\n",
    "n, c = x_train.shape\n",
    "print(x_train)\n",
    "print(x_train.shape)\n",
    "print(y_train.min(), y_train.max())"
   ]
  },
  {
   "cell_type": "code",
   "execution_count": 19,
   "id": "discrete-weapon",
   "metadata": {},
   "outputs": [],
   "source": [
    "## 🎯🎯🎯🎯\n",
    "##\n",
    "import math\n",
    "\n",
    "weights = torch.randn(size=(784,10)) / math.sqrt(784)\n",
    "weights.requires_grad_(True)\n",
    "bias = torch.zeros(size=(10,), requires_grad=True)"
   ]
  },
  {
   "cell_type": "code",
   "execution_count": 20,
   "id": "bronze-scheme",
   "metadata": {},
   "outputs": [
    {
     "data": {
      "text/plain": [
       "True"
      ]
     },
     "execution_count": 20,
     "metadata": {},
     "output_type": "execute_result"
    }
   ],
   "source": [
    "weights.requires_grad"
   ]
  },
  {
   "cell_type": "code",
   "execution_count": 21,
   "id": "entitled-adapter",
   "metadata": {},
   "outputs": [
    {
     "data": {
      "text/plain": [
       "True"
      ]
     },
     "execution_count": 21,
     "metadata": {},
     "output_type": "execute_result"
    }
   ],
   "source": [
    "bias.requires_grad"
   ]
  },
  {
   "cell_type": "code",
   "execution_count": 24,
   "id": "manufactured-tractor",
   "metadata": {},
   "outputs": [],
   "source": [
    "## 🎯🎯🎯🎯\n",
    "##\n",
    "\n",
    "def log_softmax(x):\n",
    "    residue = x.exp().sum(-1).log().unsqueeze(-1)\n",
    "    return x - residue\n",
    "\n",
    "def model(x_batch):\n",
    "    out_batch = x_batch @ weights + bias\n",
    "    return log_softmax(out_batch)\n"
   ]
  },
  {
   "cell_type": "code",
   "execution_count": 28,
   "id": "coral-writing",
   "metadata": {},
   "outputs": [
    {
     "name": "stdout",
     "output_type": "stream",
     "text": [
      "tensor([-2.1465, -1.8755, -2.4180, -2.1391, -1.9722, -2.6350, -2.7429, -2.2622,\n",
      "        -2.5418, -2.7354], grad_fn=<SelectBackward>) \n",
      "\n",
      "torch.Size([64, 10])\n"
     ]
    }
   ],
   "source": [
    "## 🎯🎯🎯🎯\n",
    "##\n",
    "\n",
    "batch_size = 64\n",
    "\n",
    "x_batch = x_train[:batch_size]\n",
    "pred_batch = model(x_batch)\n",
    "\n",
    "print(pred_batch[0], \"\\n\")\n",
    "print(pred_batch.shape)"
   ]
  },
  {
   "cell_type": "code",
   "execution_count": 29,
   "id": "frank-innocent",
   "metadata": {},
   "outputs": [],
   "source": [
    "## 🎯🎯🎯🎯\n",
    "##\n",
    "\n",
    "def nll(input_, target_):\n",
    "    return -input_[range(target_.shape[0]), target_].mean()\n",
    "\n",
    "loss_fn = nll"
   ]
  },
  {
   "cell_type": "code",
   "execution_count": 30,
   "id": "executed-width",
   "metadata": {},
   "outputs": [
    {
     "name": "stdout",
     "output_type": "stream",
     "text": [
      "tensor(2.3431, grad_fn=<NegBackward>)\n"
     ]
    }
   ],
   "source": [
    "## 🎯🎯🎯🎯\n",
    "##\n",
    "y_batch = y_train[:batch_size]\n",
    "loss = loss_fn(pred_batch, y_batch)\n",
    "print(loss)"
   ]
  },
  {
   "cell_type": "code",
   "execution_count": 33,
   "id": "earned-intervention",
   "metadata": {},
   "outputs": [],
   "source": [
    "## 🎯🎯🎯🎯\n",
    "##\n",
    "\n",
    "def accuracy(output_, y_batch):\n",
    "    preds = torch.argmax(output_, dim=-1)\n",
    "    return (preds == y_batch).float().mean()"
   ]
  },
  {
   "cell_type": "code",
   "execution_count": 34,
   "id": "union-explorer",
   "metadata": {},
   "outputs": [
    {
     "name": "stdout",
     "output_type": "stream",
     "text": [
      "tensor(0.0625)\n"
     ]
    }
   ],
   "source": [
    "acc = accuracy(pred_batch, y_batch)\n",
    "print(acc)"
   ]
  },
  {
   "cell_type": "code",
   "execution_count": 52,
   "id": "selected-century",
   "metadata": {},
   "outputs": [
    {
     "name": "stdout",
     "output_type": "stream",
     "text": [
      "\n",
      "Epoch [1/2]\n",
      "\t batch [ 199 / 782]|  loss: 0.26843\n",
      "\t batch [ 399 / 782]|  loss: 0.34530\n",
      "\t batch [ 599 / 782]|  loss: 0.28558\n",
      "\n",
      "Epoch [2/2]\n",
      "\t batch [ 199 / 782]|  loss: 0.26778\n",
      "\t batch [ 399 / 782]|  loss: 0.34566\n",
      "\t batch [ 599 / 782]|  loss: 0.28462\n"
     ]
    }
   ],
   "source": [
    "## 🎯🎯🎯🎯\n",
    "##\n",
    "\n",
    "from IPython.core.debugger import set_trace\n",
    "\n",
    "lr = 0.5\n",
    "num_epochs = 2\n",
    "num_batches = (n-1) // batch_size + 1\n",
    "for epoch in range(num_epochs):\n",
    "    print(f\"\\nEpoch [{epoch+1}/{num_epochs}]\")\n",
    "    for i in range(num_batches):\n",
    "        ## set_trace()\n",
    "        start_i = i * batch_size\n",
    "        end_i = start_i + batch_size\n",
    "        x_batch = x_train[start_i:end_i]      ## grab a minibatch of data\n",
    "        y_batch = y_train[start_i:end_i]\n",
    "        \n",
    "        pred_batch = model(x_batch)\n",
    "        loss = loss_fn(pred_batch, y_batch)\n",
    "        \n",
    "        loss.backward()\n",
    "        with torch.no_grad():\n",
    "            weights -= weights.grad * lr\n",
    "            bias -= bias.grad * lr\n",
    "            weights.grad.zero_()\n",
    "            bias.grad.zero_()\n",
    "        if i % 200 == 199:\n",
    "            print(f\"\\t batch [{i:4d} /{num_batches:4d}]|  loss: {loss.item():.5f}\")"
   ]
  },
  {
   "cell_type": "code",
   "execution_count": 53,
   "id": "isolated-buyer",
   "metadata": {},
   "outputs": [
    {
     "data": {
      "text/plain": [
       "(tensor(0.0502, grad_fn=<NegBackward>), tensor(1.))"
      ]
     },
     "execution_count": 53,
     "metadata": {},
     "output_type": "execute_result"
    }
   ],
   "source": [
    "loss_fn(model(x_batch), y_batch), accuracy(model(x_batch), y_batch)"
   ]
  },
  {
   "cell_type": "code",
   "execution_count": null,
   "id": "working-snapshot",
   "metadata": {},
   "outputs": [],
   "source": []
  },
  {
   "cell_type": "code",
   "execution_count": 55,
   "id": "generous-theory",
   "metadata": {},
   "outputs": [],
   "source": [
    "## 🎯🎯🎯🎯\n",
    "##\n",
    "\n",
    "import torch.nn.functional as F\n",
    "\n",
    "loss_fn = F.cross_entropy\n",
    "\n",
    "def model(x_batch):\n",
    "    return x_batch @ weights + bias\n"
   ]
  },
  {
   "cell_type": "code",
   "execution_count": 56,
   "id": "private-lighter",
   "metadata": {},
   "outputs": [
    {
     "data": {
      "text/plain": [
       "(tensor(0.0502, grad_fn=<NllLossBackward>), tensor(1.))"
      ]
     },
     "execution_count": 56,
     "metadata": {},
     "output_type": "execute_result"
    }
   ],
   "source": [
    "loss_fn(model(x_batch), y_batch), accuracy(model(x_batch), y_batch)"
   ]
  },
  {
   "cell_type": "code",
   "execution_count": null,
   "id": "welsh-scholar",
   "metadata": {},
   "outputs": [],
   "source": []
  },
  {
   "cell_type": "code",
   "execution_count": 57,
   "id": "bound-tuesday",
   "metadata": {},
   "outputs": [],
   "source": [
    "## 🎯🎯🎯🎯\n",
    "##\n",
    "\n",
    "from torch import nn\n",
    "\n",
    "class MNIST_Logistic(nn.Module):\n",
    "    def __init__(self):\n",
    "        super().__init__()\n",
    "        self.weights = nn.Parameter(torch.randn(size=(784, 10)) / math.sqrt(784))\n",
    "        self.bias = nn.Parameter(torch.zeros(size=(10,)))\n",
    "        \n",
    "    def forward(self, xb):\n",
    "        return xb @ self.weights + self.bias"
   ]
  },
  {
   "cell_type": "code",
   "execution_count": 58,
   "id": "particular-combat",
   "metadata": {},
   "outputs": [],
   "source": [
    "model = MNIST_Logistic()"
   ]
  },
  {
   "cell_type": "code",
   "execution_count": 59,
   "id": "boolean-protein",
   "metadata": {},
   "outputs": [
    {
     "data": {
      "text/plain": [
       "MNIST_Logistic()"
      ]
     },
     "execution_count": 59,
     "metadata": {},
     "output_type": "execute_result"
    }
   ],
   "source": [
    "model"
   ]
  },
  {
   "cell_type": "code",
   "execution_count": 60,
   "id": "random-constitution",
   "metadata": {},
   "outputs": [
    {
     "name": "stdout",
     "output_type": "stream",
     "text": [
      "tensor(2.4465, grad_fn=<NllLossBackward>)\n"
     ]
    }
   ],
   "source": [
    "print(loss_fn(model(x_batch), y_batch))"
   ]
  },
  {
   "cell_type": "code",
   "execution_count": 61,
   "id": "greek-possession",
   "metadata": {},
   "outputs": [
    {
     "ename": "TypeError",
     "evalue": "unsupported operand type(s) for *: 'NoneType' and 'float'",
     "output_type": "error",
     "traceback": [
      "\u001b[0;31m---------------------------------------------------------------------------\u001b[0m",
      "\u001b[0;31mTypeError\u001b[0m                                 Traceback (most recent call last)",
      "\u001b[0;32m<ipython-input-61-ff385943dcc0>\u001b[0m in \u001b[0;36m<module>\u001b[0;34m\u001b[0m\n\u001b[1;32m      4\u001b[0m \u001b[0;32mwith\u001b[0m \u001b[0mtorch\u001b[0m\u001b[0;34m.\u001b[0m\u001b[0mno_grad\u001b[0m\u001b[0;34m(\u001b[0m\u001b[0;34m)\u001b[0m\u001b[0;34m:\u001b[0m\u001b[0;34m\u001b[0m\u001b[0;34m\u001b[0m\u001b[0m\n\u001b[1;32m      5\u001b[0m     \u001b[0;32mfor\u001b[0m \u001b[0mp\u001b[0m \u001b[0;32min\u001b[0m \u001b[0mmodel\u001b[0m\u001b[0;34m.\u001b[0m\u001b[0mparameters\u001b[0m\u001b[0;34m(\u001b[0m\u001b[0;34m)\u001b[0m\u001b[0;34m:\u001b[0m\u001b[0;34m\u001b[0m\u001b[0;34m\u001b[0m\u001b[0m\n\u001b[0;32m----> 6\u001b[0;31m         \u001b[0mp\u001b[0m \u001b[0;34m-=\u001b[0m \u001b[0mp\u001b[0m\u001b[0;34m.\u001b[0m\u001b[0mgrad\u001b[0m \u001b[0;34m*\u001b[0m \u001b[0mlr\u001b[0m\u001b[0;34m\u001b[0m\u001b[0;34m\u001b[0m\u001b[0m\n\u001b[0m\u001b[1;32m      7\u001b[0m     \u001b[0mmodel\u001b[0m\u001b[0;34m.\u001b[0m\u001b[0mzero_grad\u001b[0m\u001b[0;34m(\u001b[0m\u001b[0;34m)\u001b[0m\u001b[0;34m\u001b[0m\u001b[0;34m\u001b[0m\u001b[0m\n",
      "\u001b[0;31mTypeError\u001b[0m: unsupported operand type(s) for *: 'NoneType' and 'float'"
     ]
    }
   ],
   "source": [
    "## 🎯🎯🎯🎯\n",
    "##\n",
    "\n",
    "with torch.no_grad():\n",
    "    for p in model.parameters():\n",
    "        p -= p.grad * lr\n",
    "    model.zero_grad()"
   ]
  },
  {
   "cell_type": "code",
   "execution_count": 64,
   "id": "distributed-turtle",
   "metadata": {},
   "outputs": [
    {
     "data": {
      "text/plain": [
       "True"
      ]
     },
     "execution_count": 64,
     "metadata": {},
     "output_type": "execute_result"
    }
   ],
   "source": [
    "p.requires_grad"
   ]
  },
  {
   "cell_type": "code",
   "execution_count": 69,
   "id": "qualified-battlefield",
   "metadata": {},
   "outputs": [],
   "source": [
    "## 🎯🎯🎯🎯\n",
    "##\n",
    "\n",
    "def fit():\n",
    "    for epoch in range(num_epochs):\n",
    "        print(f\"\\n Epoch [{epoch+1}/{num_epochs}]\")\n",
    "        for i in range(num_batches):\n",
    "            start_i = i * batch_size\n",
    "            end_i = start_i + batch_size\n",
    "            xb = x_train[start_i:end_i]\n",
    "            yb = y_train[start_i:end_i]\n",
    "            pred = model(xb)\n",
    "            loss = loss_fn(pred, yb)\n",
    "            \n",
    "            loss.backward()\n",
    "            with torch.no_grad():\n",
    "                for p in model.parameters():\n",
    "                    p -= p.grad * lr\n",
    "                model.zero_grad()\n",
    "            if i % 200 == 0:\n",
    "                print(f\"\\t minibatch [{i:4d} / {num_batches:4d}] | loss: {loss.item()}\")\n",
    "            "
   ]
  },
  {
   "cell_type": "code",
   "execution_count": 70,
   "id": "blind-gardening",
   "metadata": {},
   "outputs": [
    {
     "name": "stdout",
     "output_type": "stream",
     "text": [
      "\n",
      " Epoch [1/2]\n",
      "\t minibatch [   0 /  782] | loss: 0.19421565532684326\n",
      "\t minibatch [ 200 /  782] | loss: 0.17413318157196045\n",
      "\t minibatch [ 400 /  782] | loss: 0.19378973543643951\n",
      "\t minibatch [ 600 /  782] | loss: 0.20261113345623016\n",
      "\n",
      " Epoch [2/2]\n",
      "\t minibatch [   0 /  782] | loss: 0.18589738011360168\n",
      "\t minibatch [ 200 /  782] | loss: 0.17140400409698486\n",
      "\t minibatch [ 400 /  782] | loss: 0.19101333618164062\n",
      "\t minibatch [ 600 /  782] | loss: 0.1987023800611496\n"
     ]
    }
   ],
   "source": [
    "fit()"
   ]
  },
  {
   "cell_type": "code",
   "execution_count": 72,
   "id": "virgin-section",
   "metadata": {},
   "outputs": [
    {
     "name": "stdout",
     "output_type": "stream",
     "text": [
      "tensor(0.0604, grad_fn=<NllLossBackward>)\n"
     ]
    }
   ],
   "source": [
    "print(loss_fn(model(x_batch), y_batch))"
   ]
  },
  {
   "cell_type": "code",
   "execution_count": null,
   "id": "modern-european",
   "metadata": {},
   "outputs": [],
   "source": []
  },
  {
   "cell_type": "code",
   "execution_count": 82,
   "id": "physical-resistance",
   "metadata": {},
   "outputs": [],
   "source": [
    "## 🎯🎯🎯🎯\n",
    "##\n",
    "\n",
    "class MNIST_Logistic(nn.Module):\n",
    "    def __init__(self):\n",
    "        super().__init__()\n",
    "        self.lin = nn.Linear(in_features=784, out_features=10)\n",
    "        \n",
    "    def forward(self, xb):\n",
    "        return self.lin(xb)\n",
    "    "
   ]
  },
  {
   "cell_type": "code",
   "execution_count": 83,
   "id": "adapted-lexington",
   "metadata": {},
   "outputs": [
    {
     "name": "stdout",
     "output_type": "stream",
     "text": [
      "tensor(2.2893, grad_fn=<NllLossBackward>)\n"
     ]
    }
   ],
   "source": [
    "model = MNIST_Logistic()\n",
    "print(loss_fn(model(x_batch), y_batch))"
   ]
  },
  {
   "cell_type": "code",
   "execution_count": 84,
   "id": "going-faculty",
   "metadata": {},
   "outputs": [
    {
     "name": "stdout",
     "output_type": "stream",
     "text": [
      "\n",
      " Epoch [1/2]\n",
      "\t minibatch [   0 /  782] | loss: 2.303011894226074\n",
      "\t minibatch [ 200 /  782] | loss: 0.30543839931488037\n",
      "\t minibatch [ 400 /  782] | loss: 0.23813964426517487\n",
      "\t minibatch [ 600 /  782] | loss: 0.26431015133857727\n",
      "\n",
      " Epoch [2/2]\n",
      "\t minibatch [   0 /  782] | loss: 0.28001660108566284\n",
      "\t minibatch [ 200 /  782] | loss: 0.1976470947265625\n",
      "\t minibatch [ 400 /  782] | loss: 0.21188215911388397\n",
      "\t minibatch [ 600 /  782] | loss: 0.22766846418380737\n",
      "tensor(0.0804, grad_fn=<NllLossBackward>)\n"
     ]
    }
   ],
   "source": [
    "model = MNIST_Logistic()\n",
    "fit()\n",
    "print(loss_fn(model(x_batch), y_batch))\n"
   ]
  },
  {
   "cell_type": "code",
   "execution_count": null,
   "id": "shared-banking",
   "metadata": {},
   "outputs": [],
   "source": []
  },
  {
   "cell_type": "code",
   "execution_count": 94,
   "id": "underlying-texas",
   "metadata": {},
   "outputs": [
    {
     "name": "stdout",
     "output_type": "stream",
     "text": [
      "tensor(2.2972, grad_fn=<NllLossBackward>)\n",
      "--------------------------------------------------\n",
      "Epoch[1/2]\n",
      "\t minibatch[   0 /  782] | loss: 2.35864\n",
      "\t minibatch[ 200 /  782] | loss: 0.29606\n",
      "\t minibatch[ 400 /  782] | loss: 0.23349\n",
      "\t minibatch[ 600 /  782] | loss: 0.26183\n",
      "--------------------------------------------------\n",
      "Epoch[2/2]\n",
      "\t minibatch[   0 /  782] | loss: 0.27752\n",
      "\t minibatch[ 200 /  782] | loss: 0.19458\n",
      "\t minibatch[ 400 /  782] | loss: 0.20846\n",
      "\t minibatch[ 600 /  782] | loss: 0.22680\n",
      "--------------------------------------------------\n",
      "tensor(0.0831, grad_fn=<NllLossBackward>)\n"
     ]
    }
   ],
   "source": [
    "## 🎯🎯🎯🎯\n",
    "##\n",
    "\n",
    "from torch import optim\n",
    "\n",
    "def get_model():\n",
    "    model = MNIST_Logistic()\n",
    "    return model, optim.SGD(model.parameters(), lr=lr)\n",
    "\n",
    "model, opt = get_model()\n",
    "print(loss_fn(model(x_batch), y_batch))\n",
    "\n",
    "for epoch in range(num_epochs):\n",
    "    print(f\"{'--'*25}\\nEpoch[{epoch+1}/{num_epochs}]\")\n",
    "    for i in range(num_batches):\n",
    "        start_i = i * batch_size\n",
    "        end_i = start_i + batch_size\n",
    "        xb = x_train[start_i:end_i]\n",
    "        yb = y_train[start_i:end_i]\n",
    "        \n",
    "        pred = model(xb)\n",
    "        loss = loss_fn(pred, yb)\n",
    "        \n",
    "        loss.backward()\n",
    "        opt.step()\n",
    "        opt.zero_grad()\n",
    "        if i%200 == 0:\n",
    "            print(f\"\\t minibatch[{i:4d} / {num_batches:4d}] | loss: {loss.item():.5f}\")\n",
    "print(f\"{'--'*25}\")\n",
    "print(loss_fn(model(x_batch), y_batch))"
   ]
  },
  {
   "cell_type": "code",
   "execution_count": null,
   "id": "light-hybrid",
   "metadata": {},
   "outputs": [],
   "source": []
  },
  {
   "cell_type": "code",
   "execution_count": 95,
   "id": "increasing-assault",
   "metadata": {},
   "outputs": [],
   "source": [
    "from torch.utils.data import TensorDataset"
   ]
  },
  {
   "cell_type": "code",
   "execution_count": 102,
   "id": "personal-suite",
   "metadata": {},
   "outputs": [
    {
     "data": {
      "text/plain": [
       "50000"
      ]
     },
     "execution_count": 102,
     "metadata": {},
     "output_type": "execute_result"
    }
   ],
   "source": [
    "len(x_train)"
   ]
  },
  {
   "cell_type": "code",
   "execution_count": 103,
   "id": "municipal-slave",
   "metadata": {},
   "outputs": [
    {
     "data": {
      "text/plain": [
       "torch.Size([50000, 784])"
      ]
     },
     "execution_count": 103,
     "metadata": {},
     "output_type": "execute_result"
    }
   ],
   "source": [
    "x_train.shape"
   ]
  },
  {
   "cell_type": "code",
   "execution_count": 106,
   "id": "substantial-riding",
   "metadata": {},
   "outputs": [
    {
     "data": {
      "text/plain": [
       "50000"
      ]
     },
     "execution_count": 106,
     "metadata": {},
     "output_type": "execute_result"
    }
   ],
   "source": [
    "train_ds = TensorDataset(x_train, y_train)\n",
    "len(train_ds)"
   ]
  },
  {
   "cell_type": "code",
   "execution_count": 108,
   "id": "pregnant-kinase",
   "metadata": {},
   "outputs": [
    {
     "data": {
      "text/plain": [
       "(torch.Size([5, 784]), torch.Size([5]))"
      ]
     },
     "execution_count": 108,
     "metadata": {},
     "output_type": "execute_result"
    }
   ],
   "source": [
    "xb, yb = train_ds[0:5]\n",
    "xb.shape, yb.shape"
   ]
  },
  {
   "cell_type": "code",
   "execution_count": 109,
   "id": "young-resistance",
   "metadata": {},
   "outputs": [
    {
     "data": {
      "text/plain": [
       "tensor([5, 0, 4, 1, 9])"
      ]
     },
     "execution_count": 109,
     "metadata": {},
     "output_type": "execute_result"
    }
   ],
   "source": [
    "yb"
   ]
  },
  {
   "cell_type": "code",
   "execution_count": null,
   "id": "following-humidity",
   "metadata": {},
   "outputs": [],
   "source": []
  },
  {
   "cell_type": "code",
   "execution_count": 168,
   "id": "historical-delight",
   "metadata": {},
   "outputs": [],
   "source": [
    "\n",
    "def loss_batch(model, loss_fn, xb, yb, opt=None):\n",
    "    pred = model(xb)\n",
    "    loss = loss_fn(pred, yb)\n",
    "    if opt:\n",
    "        loss.backward()\n",
    "        opt.step()\n",
    "        opt.zero_grad()\n",
    "    return loss.item(), len(xb)\n",
    "    \n",
    "def fit(num_epochs, model, opt, loss_fn, train_dl, valid_dl):\n",
    "    for epoch in range(num_epochs):\n",
    "        \n",
    "        model.train()\n",
    "        losses, nums = zip(*[loss_batch(model, loss_fn, xb, yb, opt) for xb, yb in train_dl])\n",
    "        train_loss = np.multiply(losses, nums).sum() / sum(nums)\n",
    "            \n",
    "        model.eval()\n",
    "        with torch.no_grad():\n",
    "            val_losses, val_nums = zip(*[loss_batch(model, loss_fn, xb, yb) for xb, yb in valid_dl])\n",
    "        val_loss = np.multiply(val_losses, val_nums).sum() / sum(val_nums)\n",
    "        \n",
    "        print(f\"Epoch [{(epoch+1):2d}/{num_epochs:2d}] | train_loss: {train_loss:4f} | valid_loss: {val_loss:4f}\")\n",
    "        "
   ]
  },
  {
   "cell_type": "code",
   "execution_count": 162,
   "id": "external-lawyer",
   "metadata": {},
   "outputs": [],
   "source": [
    "class Lambda(nn.Module):\n",
    "    def __init__(self, func):\n",
    "        super().__init__()\n",
    "        self.func = func\n",
    "        \n",
    "    def forward(self, x):\n",
    "        return self.func(x)\n",
    "\n",
    "def preprocess(x):\n",
    "    return x.view(-1, 1, 28, 28)\n"
   ]
  },
  {
   "cell_type": "code",
   "execution_count": 163,
   "id": "engaging-catalyst",
   "metadata": {},
   "outputs": [],
   "source": [
    "train_ds = torch.utils.data.TensorDataset(x_train, y_train)\n",
    "valid_ds = torch.utils.data.TensorDataset(x_valid, y_valid)\n",
    "train_dl = torch.utils.data.DataLoader(dataset=train_ds, batch_size=64)\n",
    "valid_dl = torch.utils.data.DataLoader(dataset=valid_ds, batch_size=64*2)"
   ]
  },
  {
   "cell_type": "code",
   "execution_count": 164,
   "id": "cognitive-saturday",
   "metadata": {},
   "outputs": [
    {
     "name": "stdout",
     "output_type": "stream",
     "text": [
      "Epoch [ 1/20] | train_loss: 1.145351 | valid_loss: 1.363253\n",
      "Epoch [ 2/20] | train_loss: 0.370123 | valid_loss: 0.358585\n",
      "Epoch [ 3/20] | train_loss: 0.276475 | valid_loss: 0.339897\n",
      "Epoch [ 4/20] | train_loss: 0.235609 | valid_loss: 0.271940\n",
      "Epoch [ 5/20] | train_loss: 0.211959 | valid_loss: 0.240838\n",
      "Epoch [ 6/20] | train_loss: 0.195047 | valid_loss: 0.210017\n",
      "Epoch [ 7/20] | train_loss: 0.180932 | valid_loss: 0.186624\n",
      "Epoch [ 8/20] | train_loss: 0.169549 | valid_loss: 0.193381\n",
      "Epoch [ 9/20] | train_loss: 0.160406 | valid_loss: 0.217786\n",
      "Epoch [10/20] | train_loss: 0.152626 | valid_loss: 0.240295\n",
      "Epoch [11/20] | train_loss: 0.146434 | valid_loss: 0.237679\n",
      "Epoch [12/20] | train_loss: 0.140819 | valid_loss: 0.218612\n",
      "Epoch [13/20] | train_loss: 0.135939 | valid_loss: 0.219150\n",
      "Epoch [14/20] | train_loss: 0.131477 | valid_loss: 0.195003\n",
      "Epoch [15/20] | train_loss: 0.127360 | valid_loss: 0.186916\n",
      "Epoch [16/20] | train_loss: 0.123758 | valid_loss: 0.170595\n",
      "Epoch [17/20] | train_loss: 0.120180 | valid_loss: 0.159786\n",
      "Epoch [18/20] | train_loss: 0.117299 | valid_loss: 0.150409\n",
      "Epoch [19/20] | train_loss: 0.114590 | valid_loss: 0.143035\n",
      "Epoch [20/20] | train_loss: 0.111979 | valid_loss: 0.142072\n"
     ]
    }
   ],
   "source": [
    "model = nn.Sequential(\n",
    "    Lambda(preprocess),\n",
    "    nn.Conv2d(1, 16, kernel_size=3, stride=2, padding=1),\n",
    "    nn.ReLU(),\n",
    "    nn.Conv2d(16, 16, kernel_size=3, stride=2, padding=1),\n",
    "    nn.ReLU(),\n",
    "    nn.Conv2d(16, 10, kernel_size=3, stride=2, padding=1),\n",
    "    nn.ReLU(),\n",
    "    nn.AvgPool2d(kernel_size=4),\n",
    "    Lambda(lambda x: x.view(x.shape[0], -1)),\n",
    ")\n",
    "\n",
    "opt = optim.SGD(model.parameters(), lr=lr)\n",
    "fit(num_epochs=20, model=model, opt=opt, loss_fn=loss_fn, train_dl=train_dl, valid_dl=valid_dl)"
   ]
  },
  {
   "cell_type": "code",
   "execution_count": 165,
   "id": "million-smoke",
   "metadata": {},
   "outputs": [
    {
     "data": {
      "text/plain": [
       "<function torch.nn.functional.cross_entropy(input, target, weight=None, size_average=None, ignore_index=-100, reduce=None, reduction='mean')>"
      ]
     },
     "execution_count": 165,
     "metadata": {},
     "output_type": "execute_result"
    }
   ],
   "source": [
    "loss_fn"
   ]
  },
  {
   "cell_type": "code",
   "execution_count": 166,
   "id": "theoretical-publisher",
   "metadata": {},
   "outputs": [
    {
     "data": {
      "text/plain": [
       "SGD (\n",
       "Parameter Group 0\n",
       "    dampening: 0\n",
       "    lr: 0.5\n",
       "    momentum: 0\n",
       "    nesterov: False\n",
       "    weight_decay: 0\n",
       ")"
      ]
     },
     "execution_count": 166,
     "metadata": {},
     "output_type": "execute_result"
    }
   ],
   "source": [
    "opt"
   ]
  },
  {
   "cell_type": "code",
   "execution_count": 167,
   "id": "reserved-edward",
   "metadata": {},
   "outputs": [
    {
     "data": {
      "text/plain": [
       "Sequential(\n",
       "  (0): Lambda()\n",
       "  (1): Conv2d(1, 16, kernel_size=(3, 3), stride=(2, 2), padding=(1, 1))\n",
       "  (2): ReLU()\n",
       "  (3): Conv2d(16, 16, kernel_size=(3, 3), stride=(2, 2), padding=(1, 1))\n",
       "  (4): ReLU()\n",
       "  (5): Conv2d(16, 10, kernel_size=(3, 3), stride=(2, 2), padding=(1, 1))\n",
       "  (6): ReLU()\n",
       "  (7): AvgPool2d(kernel_size=4, stride=4, padding=0)\n",
       "  (8): Lambda()\n",
       ")"
      ]
     },
     "execution_count": 167,
     "metadata": {},
     "output_type": "execute_result"
    }
   ],
   "source": [
    "model"
   ]
  },
  {
   "cell_type": "markdown",
   "id": "chronic-thesis",
   "metadata": {},
   "source": [
    "## Wrapped DataLoader"
   ]
  },
  {
   "cell_type": "code",
   "execution_count": 190,
   "id": "premier-lover",
   "metadata": {},
   "outputs": [],
   "source": [
    "class Lambda(nn.Module):\n",
    "    def __init__(self, func):\n",
    "        super().__init__()\n",
    "        self.func = func\n",
    "        \n",
    "    def forward(self, x):\n",
    "        return self.func(x)\n",
    "\n",
    "    \n",
    "def preprocess(x, y):\n",
    "    return x.view(-1, 1, 28, 28), y\n",
    "\n",
    "\n",
    "class WrappedDataLoader:\n",
    "    def __init__(self, dl, func):\n",
    "        super().__init__()\n",
    "        self.dl = dl\n",
    "        self.func = func\n",
    "        \n",
    "    def __len__(self):\n",
    "        return len(dl)\n",
    "    \n",
    "    def __iter__(self):\n",
    "        for batch in self.dl:\n",
    "            yield self.func(*batch)\n",
    "            "
   ]
  },
  {
   "cell_type": "code",
   "execution_count": 193,
   "id": "promising-armenia",
   "metadata": {},
   "outputs": [],
   "source": [
    "def get_dls(train_ds, valid_ds, bs):\n",
    "    train_dl = torch.utils.data.DataLoader(dataset=train_ds, batch_size=bs)\n",
    "    valid_dl = torch.utils.data.DataLoader(dataset=valid_ds, batch_size=2*bs)\n",
    "    return train_dl, valid_dl\n",
    "    "
   ]
  },
  {
   "cell_type": "code",
   "execution_count": 195,
   "id": "unexpected-persian",
   "metadata": {},
   "outputs": [
    {
     "data": {
      "text/plain": [
       "64"
      ]
     },
     "execution_count": 195,
     "metadata": {},
     "output_type": "execute_result"
    }
   ],
   "source": [
    "batch_size"
   ]
  },
  {
   "cell_type": "code",
   "execution_count": 197,
   "id": "aboriginal-ghost",
   "metadata": {},
   "outputs": [],
   "source": [
    "train_ds = torch.utils.data.TensorDataset(x_train, y_train)\n",
    "valid_ds = torch.utils.data.TensorDataset(x_valid, y_valid)\n",
    "train_dl, valid_dl = get_dls(train_ds, valid_ds, batch_size)\n",
    "train_dl = WrappedDataLoader(train_dl, preprocess)\n",
    "valid_dl = WrappedDataLoader(valid_dl, preprocess)"
   ]
  },
  {
   "cell_type": "code",
   "execution_count": 192,
   "id": "underlying-switzerland",
   "metadata": {},
   "outputs": [
    {
     "name": "stdout",
     "output_type": "stream",
     "text": [
      "Epoch [ 1/20] | train_loss: 0.919512 | valid_loss: 0.569991\n",
      "Epoch [ 2/20] | train_loss: 0.471716 | valid_loss: 0.401526\n",
      "Epoch [ 3/20] | train_loss: 0.401352 | valid_loss: 0.309470\n",
      "Epoch [ 4/20] | train_loss: 0.411155 | valid_loss: 0.288481\n",
      "Epoch [ 5/20] | train_loss: 0.362021 | valid_loss: 0.296754\n",
      "Epoch [ 6/20] | train_loss: 0.407908 | valid_loss: 0.456740\n",
      "Epoch [ 7/20] | train_loss: 0.372598 | valid_loss: 0.307797\n",
      "Epoch [ 8/20] | train_loss: 0.354015 | valid_loss: 0.294139\n",
      "Epoch [ 9/20] | train_loss: 0.359534 | valid_loss: 0.325992\n",
      "Epoch [10/20] | train_loss: 0.335343 | valid_loss: 0.384450\n",
      "Epoch [11/20] | train_loss: 0.317497 | valid_loss: 0.273711\n",
      "Epoch [12/20] | train_loss: 0.344566 | valid_loss: 0.384467\n",
      "Epoch [13/20] | train_loss: 0.335513 | valid_loss: 0.354955\n",
      "Epoch [14/20] | train_loss: 0.333675 | valid_loss: 0.262305\n",
      "Epoch [15/20] | train_loss: 0.302853 | valid_loss: 0.278761\n",
      "Epoch [16/20] | train_loss: 0.313799 | valid_loss: 0.275258\n",
      "Epoch [17/20] | train_loss: 0.295675 | valid_loss: 0.285256\n",
      "Epoch [18/20] | train_loss: 0.317216 | valid_loss: 0.275086\n",
      "Epoch [19/20] | train_loss: 0.298794 | valid_loss: 0.325133\n",
      "Epoch [20/20] | train_loss: 0.314771 | valid_loss: 0.262371\n"
     ]
    }
   ],
   "source": [
    "model = nn.Sequential(\n",
    "    nn.Conv2d(1, 16, kernel_size=3, stride=2, padding=1),\n",
    "    nn.ReLU(),\n",
    "    nn.Conv2d(16, 16, kernel_size=3, stride=2, padding=1),\n",
    "    nn.ReLU(),\n",
    "    nn.Conv2d(16, 10, kernel_size=3, stride=2, padding=1),\n",
    "    nn.ReLU(),\n",
    "    nn.AdaptiveAvgPool2d(1),\n",
    "    Lambda(lambda x: x.view(x.shape[0], -1)),\n",
    ")\n",
    "\n",
    "opt = optim.SGD(model.parameters(), lr=lr, momentum=0.9)\n",
    "\n",
    "fit(num_epochs=20, model=model, opt=opt, loss_fn=loss_fn, train_dl=train_dl, valid_dl=valid_dl)"
   ]
  },
  {
   "cell_type": "code",
   "execution_count": null,
   "id": "industrial-design",
   "metadata": {},
   "outputs": [],
   "source": []
  }
 ],
 "metadata": {
  "kernelspec": {
   "display_name": "Python 3",
   "language": "python",
   "name": "python3"
  },
  "language_info": {
   "codemirror_mode": {
    "name": "ipython",
    "version": 3
   },
   "file_extension": ".py",
   "mimetype": "text/x-python",
   "name": "python",
   "nbconvert_exporter": "python",
   "pygments_lexer": "ipython3",
   "version": "3.7.4"
  }
 },
 "nbformat": 4,
 "nbformat_minor": 5
}
