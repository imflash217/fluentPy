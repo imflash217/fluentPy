{
 "cells": [
  {
   "cell_type": "code",
   "execution_count": 9,
   "id": "wireless-refrigerator",
   "metadata": {},
   "outputs": [
    {
     "data": {
      "text/html": [
       "<style>body {\n",
       "    margin: 0;\n",
       "    font-family: lexend;\n",
       "}\n",
       "table.dataframe {\n",
       "    border-collapse: collapse;\n",
       "    border: none;\n",
       "}\n",
       "table.dataframe tr {\n",
       "    border: none;\n",
       "}\n",
       "table.dataframe td, table.dataframe th {\n",
       "    margin: 0;\n",
       "    border: 1px solid white;\n",
       "    padding-left: 0.25em;\n",
       "    padding-right: 0.25em;\n",
       "}\n",
       "table.dataframe th:not(:empty) {\n",
       "    background-color: #fec;\n",
       "    text-align: left;\n",
       "    font-weight: normal;\n",
       "}\n",
       "table.dataframe tr:nth-child(2) th:empty {\n",
       "    border-left: none;\n",
       "    border-right: 1px dashed #888;\n",
       "}\n",
       "table.dataframe td {\n",
       "    border: 2px solid #ccf;\n",
       "    background-color: #f4f4ff;\n",
       "}\n",
       "h1 {\n",
       "    color: white;\n",
       "    background: rgb(2,0,36);\n",
       "    background: linear-gradient(90deg, rgba(2,0,36,1) 0%, rgba(238,65,79,1) 42%, rgba(0,84,255,1) 81%); \n",
       "    padding: 0.25em;\n",
       "}\n",
       "\n",
       "h3 {\n",
       "    color: white;\n",
       "    background-color: black;\n",
       "    padding: 0.5em;\n",
       "}\n",
       "\n",
       "h2 {\n",
       "    color: white;\n",
       "    background-color: #730fd1;\n",
       "    padding: 0.25em;\n",
       "}\n",
       "</style>"
      ],
      "text/plain": [
       "<IPython.core.display.HTML object>"
      ]
     },
     "execution_count": 9,
     "metadata": {},
     "output_type": "execute_result"
    }
   ],
   "source": [
    "## put thic cell at the beginning of each notebook for custom styling\n",
    "##\n",
    "from IPython.core.display import HTML\n",
    "css = open('notebook_css/style-table.css').read() + open('notebook_css/style-notebook.css').read()\n",
    "HTML('<style>{}</style>'.format(css))"
   ]
  },
  {
   "cell_type": "markdown",
   "id": "royal-vocabulary",
   "metadata": {},
   "source": [
    "# Looping over a range of numbers"
   ]
  },
  {
   "cell_type": "markdown",
   "id": "mexican-stanley",
   "metadata": {},
   "source": [
    "### Use `range()`"
   ]
  },
  {
   "cell_type": "code",
   "execution_count": 25,
   "id": "remarkable-vertex",
   "metadata": {},
   "outputs": [
    {
     "name": "stdout",
     "output_type": "stream",
     "text": [
      "0\n",
      "1\n",
      "4\n",
      "9\n",
      "16\n",
      "25\n",
      "36\n",
      "49\n",
      "64\n",
      "CPU times: user 451 µs, sys: 240 µs, total: 691 µs\n",
      "Wall time: 523 µs\n"
     ]
    }
   ],
   "source": [
    "%%time\n",
    "\n",
    "## DONOT do this\n",
    "## ❌\n",
    "for i in [0, 1, 2, 3, 4, 5, 6, 7, 8]:\n",
    "    print(i**2)"
   ]
  },
  {
   "cell_type": "code",
   "execution_count": 26,
   "id": "editorial-announcement",
   "metadata": {},
   "outputs": [
    {
     "name": "stdout",
     "output_type": "stream",
     "text": [
      "0\n",
      "1\n",
      "4\n",
      "9\n",
      "16\n",
      "25\n",
      "36\n",
      "49\n",
      "64\n",
      "CPU times: user 466 µs, sys: 405 µs, total: 871 µs\n",
      "Wall time: 561 µs\n"
     ]
    }
   ],
   "source": [
    "%%time\n",
    "\n",
    "## DO THIS\n",
    "## 👍🏽✅\n",
    "for i in range(9):\n",
    "    print(i**2)"
   ]
  },
  {
   "cell_type": "markdown",
   "id": "commercial-geography",
   "metadata": {},
   "source": [
    "# Looping over a collection"
   ]
  },
  {
   "cell_type": "code",
   "execution_count": 27,
   "id": "german-passenger",
   "metadata": {},
   "outputs": [],
   "source": [
    "colors = [\"red\", \"green\", \"blue\", \"yellow\"]"
   ]
  },
  {
   "cell_type": "code",
   "execution_count": 30,
   "id": "divided-toilet",
   "metadata": {},
   "outputs": [
    {
     "name": "stdout",
     "output_type": "stream",
     "text": [
      "red\n",
      "green\n",
      "blue\n",
      "yellow\n",
      "CPU times: user 326 µs, sys: 185 µs, total: 511 µs\n",
      "Wall time: 404 µs\n"
     ]
    }
   ],
   "source": [
    "%%time\n",
    "\n",
    "## DONOT do this\n",
    "## ❌\n",
    "\n",
    "for i in range(len(colors)):\n",
    "    print(colors[i])"
   ]
  },
  {
   "cell_type": "code",
   "execution_count": 31,
   "id": "fourth-platinum",
   "metadata": {},
   "outputs": [
    {
     "name": "stdout",
     "output_type": "stream",
     "text": [
      "red\n",
      "green\n",
      "blue\n",
      "yellow\n",
      "CPU times: user 193 µs, sys: 84 µs, total: 277 µs\n",
      "Wall time: 248 µs\n"
     ]
    }
   ],
   "source": [
    "%%time\n",
    "## DO THIS\n",
    "## 👍🏽✅\n",
    "\n",
    "for color in colors:\n",
    "    print(color)"
   ]
  },
  {
   "cell_type": "code",
   "execution_count": null,
   "id": "extra-fight",
   "metadata": {},
   "outputs": [],
   "source": []
  },
  {
   "cell_type": "markdown",
   "id": "african-favor",
   "metadata": {},
   "source": [
    "# Looping BACKWARDS"
   ]
  },
  {
   "cell_type": "markdown",
   "id": "valid-blackjack",
   "metadata": {},
   "source": [
    "### Use `reversed()`"
   ]
  },
  {
   "cell_type": "code",
   "execution_count": 32,
   "id": "greenhouse-breast",
   "metadata": {},
   "outputs": [],
   "source": [
    "colors = [\"red\", \"green\", \"blue\", \"yellow\"]"
   ]
  },
  {
   "cell_type": "code",
   "execution_count": 36,
   "id": "tamil-mailman",
   "metadata": {},
   "outputs": [
    {
     "name": "stdout",
     "output_type": "stream",
     "text": [
      "yellow\n",
      "blue\n",
      "green\n",
      "red\n",
      "CPU times: user 374 µs, sys: 254 µs, total: 628 µs\n",
      "Wall time: 446 µs\n"
     ]
    }
   ],
   "source": [
    "%%time\n",
    "## ❌ DONOT do this\n",
    "\n",
    "for i in range(len(colors)-1, -1, -1):\n",
    "    print(colors[i])"
   ]
  },
  {
   "cell_type": "code",
   "execution_count": 37,
   "id": "executive-spell",
   "metadata": {},
   "outputs": [
    {
     "name": "stdout",
     "output_type": "stream",
     "text": [
      "yellow\n",
      "blue\n",
      "green\n",
      "red\n",
      "CPU times: user 613 µs, sys: 377 µs, total: 990 µs\n",
      "Wall time: 749 µs\n"
     ]
    }
   ],
   "source": [
    "%%time\n",
    "## 👍🏽✅ DO THIS\n",
    "\n",
    "for color in reversed(colors):\n",
    "    print(color)"
   ]
  },
  {
   "cell_type": "code",
   "execution_count": null,
   "id": "partial-booking",
   "metadata": {},
   "outputs": [],
   "source": []
  },
  {
   "cell_type": "markdown",
   "id": "connected-norfolk",
   "metadata": {},
   "source": [
    "# Looping over collection & indices"
   ]
  },
  {
   "cell_type": "markdown",
   "id": "iraqi-latino",
   "metadata": {},
   "source": [
    "### Use `enumerate()`"
   ]
  },
  {
   "cell_type": "code",
   "execution_count": 35,
   "id": "russian-parade",
   "metadata": {},
   "outputs": [],
   "source": [
    "colors = [\"red\", \"green\", \"blue\", \"yellow\"]"
   ]
  },
  {
   "cell_type": "code",
   "execution_count": 40,
   "id": "specified-korea",
   "metadata": {},
   "outputs": [
    {
     "name": "stdout",
     "output_type": "stream",
     "text": [
      "0 -> red\n",
      "1 -> green\n",
      "2 -> blue\n",
      "3 -> yellow\n",
      "CPU times: user 298 µs, sys: 150 µs, total: 448 µs\n",
      "Wall time: 358 µs\n"
     ]
    }
   ],
   "source": [
    "%%time\n",
    "## ❌ DONOT do this\n",
    "\n",
    "for i in range(len(colors)):\n",
    "    print(f\"{i} -> {colors[i]}\")"
   ]
  },
  {
   "cell_type": "code",
   "execution_count": 41,
   "id": "completed-health",
   "metadata": {},
   "outputs": [
    {
     "name": "stdout",
     "output_type": "stream",
     "text": [
      "0 -> red\n",
      "1 -> green\n",
      "2 -> blue\n",
      "3 -> yellow\n",
      "CPU times: user 389 µs, sys: 312 µs, total: 701 µs\n",
      "Wall time: 490 µs\n"
     ]
    }
   ],
   "source": [
    "%%time\n",
    "## 👍🏽✅ DO THIS\n",
    "\n",
    "for i, color in enumerate(colors):\n",
    "    print(f\"{i} -> {color}\")"
   ]
  },
  {
   "cell_type": "code",
   "execution_count": null,
   "id": "pursuant-pledge",
   "metadata": {},
   "outputs": [],
   "source": []
  },
  {
   "cell_type": "markdown",
   "id": "soviet-thunder",
   "metadata": {},
   "source": [
    "# Looping over two collections"
   ]
  },
  {
   "cell_type": "markdown",
   "id": "described-rwanda",
   "metadata": {},
   "source": [
    "### Use `zip()`"
   ]
  },
  {
   "cell_type": "code",
   "execution_count": 42,
   "id": "integrated-wesley",
   "metadata": {},
   "outputs": [],
   "source": [
    "colors = [\"red\", \"green\", \"blue\", \"yellow\"]\n",
    "names = [\"raymond\", \"rachel\", \"matthew\"]"
   ]
  },
  {
   "cell_type": "code",
   "execution_count": 43,
   "id": "dynamic-drama",
   "metadata": {},
   "outputs": [
    {
     "name": "stdout",
     "output_type": "stream",
     "text": [
      "raymond -> red\n",
      "rachel -> green\n",
      "matthew -> blue\n",
      "CPU times: user 329 µs, sys: 188 µs, total: 517 µs\n",
      "Wall time: 436 µs\n"
     ]
    }
   ],
   "source": [
    "%%time\n",
    "## ❌ DONOT do this\n",
    "\n",
    "n = min(len(names), len(colors))\n",
    "for i in range(n):\n",
    "    print(f\"{names[i]} -> {colors[i]}\")"
   ]
  },
  {
   "cell_type": "code",
   "execution_count": 44,
   "id": "representative-persian",
   "metadata": {},
   "outputs": [
    {
     "name": "stdout",
     "output_type": "stream",
     "text": [
      "raymond -> red\n",
      "rachel -> green\n",
      "matthew -> blue\n",
      "CPU times: user 241 µs, sys: 136 µs, total: 377 µs\n",
      "Wall time: 305 µs\n"
     ]
    }
   ],
   "source": [
    "%%time\n",
    "## 👍🏽✅ DO THIS\n",
    "\n",
    "for name, color in zip(names, colors):\n",
    "    print(f\"{name} -> {color}\")"
   ]
  },
  {
   "cell_type": "code",
   "execution_count": null,
   "id": "technical-courage",
   "metadata": {},
   "outputs": [],
   "source": []
  },
  {
   "cell_type": "markdown",
   "id": "generic-diana",
   "metadata": {},
   "source": [
    "# Looping in sorted order and in reverse-sorted order"
   ]
  },
  {
   "cell_type": "markdown",
   "id": "hispanic-lobby",
   "metadata": {},
   "source": [
    "### Use `sorted()` and `sorted(reverse=True)`"
   ]
  },
  {
   "cell_type": "code",
   "execution_count": 46,
   "id": "broke-lingerie",
   "metadata": {},
   "outputs": [],
   "source": [
    "colors = [\"red\", \"green\", \"blue\", \"yellow\"]"
   ]
  },
  {
   "cell_type": "code",
   "execution_count": 51,
   "id": "vocal-myanmar",
   "metadata": {},
   "outputs": [
    {
     "name": "stdout",
     "output_type": "stream",
     "text": [
      "blue\n",
      "green\n",
      "red\n",
      "yellow\n",
      "CPU times: user 328 µs, sys: 196 µs, total: 524 µs\n",
      "Wall time: 441 µs\n"
     ]
    }
   ],
   "source": [
    "%%time\n",
    "## 👍🏽✅ DO THIS\n",
    "\n",
    "for color in sorted(colors):\n",
    "    print(color)"
   ]
  },
  {
   "cell_type": "code",
   "execution_count": 52,
   "id": "wired-korean",
   "metadata": {},
   "outputs": [
    {
     "name": "stdout",
     "output_type": "stream",
     "text": [
      "yellow\n",
      "red\n",
      "green\n",
      "blue\n",
      "CPU times: user 404 µs, sys: 346 µs, total: 750 µs\n",
      "Wall time: 522 µs\n"
     ]
    }
   ],
   "source": [
    "%%time\n",
    "## 👍🏽✅ DO THIS\n",
    "\n",
    "for color in sorted(colors, reverse=True):\n",
    "    print(color)"
   ]
  },
  {
   "cell_type": "code",
   "execution_count": null,
   "id": "material-obligation",
   "metadata": {},
   "outputs": [],
   "source": []
  },
  {
   "cell_type": "markdown",
   "id": "boxed-grade",
   "metadata": {},
   "source": [
    "# Custom sort order"
   ]
  },
  {
   "cell_type": "markdown",
   "id": "twenty-travel",
   "metadata": {},
   "source": [
    "### Use `sorted(key=🔑)`"
   ]
  },
  {
   "cell_type": "code",
   "execution_count": 53,
   "id": "acute-welding",
   "metadata": {},
   "outputs": [],
   "source": [
    "colors = [\"red\", \"green\", \"blue\", \"yellow\"]"
   ]
  },
  {
   "cell_type": "code",
   "execution_count": 56,
   "id": "working-samba",
   "metadata": {},
   "outputs": [
    {
     "ename": "TypeError",
     "evalue": "'cmp' is an invalid keyword argument for sort()",
     "output_type": "error",
     "traceback": [
      "\u001b[0;31m---------------------------------------------------------------------------\u001b[0m",
      "\u001b[0;31mTypeError\u001b[0m                                 Traceback (most recent call last)",
      "\u001b[0;32m<timed exec>\u001b[0m in \u001b[0;36m<module>\u001b[0;34m\u001b[0m\n",
      "\u001b[0;31mTypeError\u001b[0m: 'cmp' is an invalid keyword argument for sort()"
     ]
    }
   ],
   "source": [
    "%%time\n",
    "## ❌ DONOT do this\n",
    "\n",
    "def compare_func(c1, c2):\n",
    "    if len(c1) < len(c2): return -1\n",
    "    if len(c1) >= len(c2): return 1\n",
    "    return 0\n",
    "\n",
    "print(sorted(colors, cmp=compare_func))           ## removed from Python 3.0"
   ]
  },
  {
   "cell_type": "code",
   "execution_count": 57,
   "id": "brown-authentication",
   "metadata": {},
   "outputs": [
    {
     "name": "stdout",
     "output_type": "stream",
     "text": [
      "['red', 'blue', 'green', 'yellow']\n",
      "CPU times: user 212 µs, sys: 125 µs, total: 337 µs\n",
      "Wall time: 268 µs\n"
     ]
    }
   ],
   "source": [
    "%%time\n",
    "## 👍🏽✅ DO THIS\n",
    "\n",
    "print(sorted(colors, key=len))"
   ]
  },
  {
   "cell_type": "code",
   "execution_count": 58,
   "id": "burning-insured",
   "metadata": {},
   "outputs": [
    {
     "name": "stdout",
     "output_type": "stream",
     "text": [
      "['yellow', 'green', 'blue', 'red']\n",
      "CPU times: user 246 µs, sys: 115 µs, total: 361 µs\n",
      "Wall time: 306 µs\n"
     ]
    }
   ],
   "source": [
    "%%time\n",
    "## 👍🏽✅ DO THIS\n",
    "\n",
    "print(sorted(colors, key=len, reverse=True))"
   ]
  },
  {
   "cell_type": "code",
   "execution_count": null,
   "id": "wired-grass",
   "metadata": {},
   "outputs": [],
   "source": []
  },
  {
   "cell_type": "markdown",
   "id": "tender-savage",
   "metadata": {},
   "source": [
    "# Calling function until a sentinel value"
   ]
  },
  {
   "cell_type": "markdown",
   "id": "metric-aberdeen",
   "metadata": {},
   "source": [
    "### Use `iter([iterable, callable], [sentinel])` and `partial()` "
   ]
  },
  {
   "cell_type": "code",
   "execution_count": 59,
   "id": "broadband-peripheral",
   "metadata": {},
   "outputs": [
    {
     "ename": "AttributeError",
     "evalue": "'str' object has no attribute 'read'",
     "output_type": "error",
     "traceback": [
      "\u001b[0;31m---------------------------------------------------------------------------\u001b[0m",
      "\u001b[0;31mAttributeError\u001b[0m                            Traceback (most recent call last)",
      "\u001b[0;32m<timed exec>\u001b[0m in \u001b[0;36m<module>\u001b[0;34m\u001b[0m\n",
      "\u001b[0;31mAttributeError\u001b[0m: 'str' object has no attribute 'read'"
     ]
    }
   ],
   "source": [
    "%%time\n",
    "## ❌ DONOT do this\n",
    "\n",
    "f = \"my name is Prithviraj Chauhan. Har Har Mahadev!!\"\n",
    "blocks = []\n",
    "while True:\n",
    "    block = f.read(32)\n",
    "    if block == \"\":\n",
    "        break\n",
    "    blocks.append(block)"
   ]
  },
  {
   "cell_type": "code",
   "execution_count": 62,
   "id": "occupied-metro",
   "metadata": {},
   "outputs": [
    {
     "ename": "AttributeError",
     "evalue": "'str' object has no attribute 'read'",
     "output_type": "error",
     "traceback": [
      "\u001b[0;31m---------------------------------------------------------------------------\u001b[0m",
      "\u001b[0;31mAttributeError\u001b[0m                            Traceback (most recent call last)",
      "\u001b[0;32m<timed exec>\u001b[0m in \u001b[0;36m<module>\u001b[0;34m\u001b[0m\n",
      "\u001b[0;31mAttributeError\u001b[0m: 'str' object has no attribute 'read'"
     ]
    }
   ],
   "source": [
    "%%time\n",
    "## 👍🏽✅ DO THIS\n",
    "from functools import partial\n",
    "\n",
    "blocks = []\n",
    "for block in iter(partial(f.read, 32), sentinel=\"\"):\n",
    "    blocks.append(block)"
   ]
  },
  {
   "cell_type": "code",
   "execution_count": null,
   "id": "broad-humor",
   "metadata": {},
   "outputs": [],
   "source": []
  },
  {
   "cell_type": "markdown",
   "id": "accepted-jerusalem",
   "metadata": {},
   "source": [
    "# Distinguishing multiple exit points in loops"
   ]
  },
  {
   "cell_type": "markdown",
   "id": "south-battlefield",
   "metadata": {},
   "source": [
    "### Use `for.....else` clause"
   ]
  },
  {
   "cell_type": "code",
   "execution_count": 65,
   "id": "outer-fruit",
   "metadata": {},
   "outputs": [
    {
     "name": "stdout",
     "output_type": "stream",
     "text": [
      "CPU times: user 5 µs, sys: 0 ns, total: 5 µs\n",
      "Wall time: 7.15 µs\n"
     ]
    }
   ],
   "source": [
    "%%time\n",
    "## ❌ DONOT do this\n",
    "\n",
    "def find(seq, target):\n",
    "    found = False\n",
    "    for idx, val in enumerate(seq):\n",
    "        if val == target:\n",
    "            found = True\n",
    "            break\n",
    "    if not found:\n",
    "        return -1\n",
    "    return idx"
   ]
  },
  {
   "cell_type": "code",
   "execution_count": 66,
   "id": "emotional-excerpt",
   "metadata": {},
   "outputs": [
    {
     "name": "stdout",
     "output_type": "stream",
     "text": [
      "CPU times: user 3 µs, sys: 0 ns, total: 3 µs\n",
      "Wall time: 7.15 µs\n"
     ]
    }
   ],
   "source": [
    "%%time\n",
    "## 👍🏽✅ DO THIS\n",
    "\n",
    "def find(seq, target):\n",
    "    for idx, val in enumerate(seq):\n",
    "        if val == target:\n",
    "            break\n",
    "    else:   ## nobreak\n",
    "        return -1\n",
    "    return idx\n",
    "        "
   ]
  },
  {
   "cell_type": "code",
   "execution_count": null,
   "id": "virtual-kernel",
   "metadata": {},
   "outputs": [],
   "source": []
  },
  {
   "cell_type": "markdown",
   "id": "thirty-twist",
   "metadata": {},
   "source": [
    "# Looping over ictionary keys"
   ]
  },
  {
   "cell_type": "code",
   "execution_count": 69,
   "id": "eight-terminology",
   "metadata": {},
   "outputs": [
    {
     "data": {
      "text/plain": [
       "{'matthew': 'blue', 'rachel': 'green', 'raymond': 'red'}"
      ]
     },
     "execution_count": 69,
     "metadata": {},
     "output_type": "execute_result"
    }
   ],
   "source": [
    "d = {\"matthew\": \"blue\",\n",
    "     \"rachel\": \"green\",\n",
    "     \"raymond\": \"red\",\n",
    "    }\n",
    "\n",
    "d"
   ]
  },
  {
   "cell_type": "code",
   "execution_count": 71,
   "id": "separate-output",
   "metadata": {},
   "outputs": [
    {
     "name": "stdout",
     "output_type": "stream",
     "text": [
      "matthew\n",
      "rachel\n",
      "raymond\n"
     ]
    }
   ],
   "source": [
    "for k in d:               ## mutation of the dictionary \"d\" is NOT allowed....be careful\n",
    "    print(k)"
   ]
  },
  {
   "cell_type": "code",
   "execution_count": 73,
   "id": "historical-playback",
   "metadata": {},
   "outputs": [
    {
     "ename": "RuntimeError",
     "evalue": "dictionary changed size during iteration",
     "output_type": "error",
     "traceback": [
      "\u001b[0;31m---------------------------------------------------------------------------\u001b[0m",
      "\u001b[0;31mRuntimeError\u001b[0m                              Traceback (most recent call last)",
      "\u001b[0;32m<timed exec>\u001b[0m in \u001b[0;36m<module>\u001b[0;34m\u001b[0m\n",
      "\u001b[0;31mRuntimeError\u001b[0m: dictionary changed size during iteration"
     ]
    }
   ],
   "source": [
    "%%time\n",
    "## ❌ DONOT do this\n",
    "\n",
    "for k in d.keys():        ## mutation of the dictionary \"d\" is NOT ALLOWED... d.keys() returns a view object...\n",
    "    if k.startswith(\"r\"):\n",
    "        del d[k]\n",
    "\n",
    "print(d)    "
   ]
  },
  {
   "cell_type": "code",
   "execution_count": 74,
   "id": "concrete-particle",
   "metadata": {},
   "outputs": [
    {
     "name": "stdout",
     "output_type": "stream",
     "text": [
      "{'matthew': 'blue'}\n"
     ]
    }
   ],
   "source": [
    "for k in list(d.keys()):        ## mutation of the dictionary \"d\" is ALLOWED... list(d.keys()) returns a copied list...\n",
    "    if k.startswith(\"r\"):\n",
    "        del d[k]\n",
    "\n",
    "print(d)    "
   ]
  },
  {
   "cell_type": "code",
   "execution_count": null,
   "id": "extended-payday",
   "metadata": {},
   "outputs": [],
   "source": []
  },
  {
   "cell_type": "markdown",
   "id": "promising-glossary",
   "metadata": {},
   "source": [
    "# Construct a dictionary from pairs"
   ]
  },
  {
   "cell_type": "code",
   "execution_count": 75,
   "id": "plastic-school",
   "metadata": {},
   "outputs": [],
   "source": [
    "colors = [\"red\", \"green\", \"blue\", \"yellow\"]\n",
    "names = [\"raymond\", \"rachel\", \"matthew\"]"
   ]
  },
  {
   "cell_type": "code",
   "execution_count": 81,
   "id": "likely-waterproof",
   "metadata": {},
   "outputs": [
    {
     "name": "stdout",
     "output_type": "stream",
     "text": [
      "{'raymond': 'red', 'rachel': 'green', 'matthew': 'blue'}\n"
     ]
    }
   ],
   "source": [
    "\n",
    "d = dict(zip(names, colors))\n",
    "print(d)"
   ]
  },
  {
   "cell_type": "code",
   "execution_count": null,
   "id": "selective-yemen",
   "metadata": {},
   "outputs": [],
   "source": []
  },
  {
   "cell_type": "markdown",
   "id": "satisfactory-enlargement",
   "metadata": {},
   "source": [
    "# Count with dictionaries"
   ]
  },
  {
   "cell_type": "markdown",
   "id": "detailed-accommodation",
   "metadata": {},
   "source": [
    "### Use `collections.defaultdict()` & `get()` method"
   ]
  },
  {
   "cell_type": "code",
   "execution_count": 82,
   "id": "exotic-charger",
   "metadata": {},
   "outputs": [],
   "source": [
    "colors = [\"red\", \"green\", \"blue\", \"yellow\", \"blue\", \"yellow\", \"green\", \"green\"]\n"
   ]
  },
  {
   "cell_type": "code",
   "execution_count": 86,
   "id": "pointed-herald",
   "metadata": {},
   "outputs": [
    {
     "name": "stdout",
     "output_type": "stream",
     "text": [
      "CPU times: user 20 µs, sys: 1e+03 ns, total: 21 µs\n",
      "Wall time: 32.9 µs\n"
     ]
    },
    {
     "data": {
      "text/plain": [
       "{'red': 1, 'green': 3, 'blue': 2, 'yellow': 2}"
      ]
     },
     "execution_count": 86,
     "metadata": {},
     "output_type": "execute_result"
    }
   ],
   "source": [
    "%%time\n",
    "## ❌ DONOT do this\n",
    "\n",
    "d = {}\n",
    "for color in colors:\n",
    "    if color not in d:\n",
    "        d[color] = 0\n",
    "    d[color] += 1\n",
    "\n",
    "d"
   ]
  },
  {
   "cell_type": "code",
   "execution_count": 95,
   "id": "animated-madness",
   "metadata": {},
   "outputs": [
    {
     "name": "stdout",
     "output_type": "stream",
     "text": [
      "CPU times: user 18 µs, sys: 0 ns, total: 18 µs\n",
      "Wall time: 21 µs\n"
     ]
    },
    {
     "data": {
      "text/plain": [
       "{'red': 1, 'green': 3, 'blue': 2, 'yellow': 2}"
      ]
     },
     "execution_count": 95,
     "metadata": {},
     "output_type": "execute_result"
    }
   ],
   "source": [
    "%%time\n",
    "## 👍🏽✅ DO THIS\n",
    "\n",
    "d = {}\n",
    "for color in colors:\n",
    "    d[color] = d.get(color, 0) + 1\n",
    "    \n",
    "d"
   ]
  },
  {
   "cell_type": "code",
   "execution_count": 99,
   "id": "continuous-excuse",
   "metadata": {},
   "outputs": [
    {
     "name": "stdout",
     "output_type": "stream",
     "text": [
      "CPU times: user 27 µs, sys: 1 µs, total: 28 µs\n",
      "Wall time: 30.3 µs\n"
     ]
    },
    {
     "data": {
      "text/plain": [
       "defaultdict(int, {'red': 1, 'green': 3, 'blue': 2, 'yellow': 2})"
      ]
     },
     "execution_count": 99,
     "metadata": {},
     "output_type": "execute_result"
    }
   ],
   "source": [
    "%%time\n",
    "## 👍🏽✅ DO THIS\n",
    "\n",
    "from collections import defaultdict\n",
    "\n",
    "dd = defaultdict(int)\n",
    "for color in colors:\n",
    "    dd[color] += 1\n",
    "    \n",
    "dd"
   ]
  },
  {
   "cell_type": "code",
   "execution_count": 97,
   "id": "choice-contrast",
   "metadata": {},
   "outputs": [
    {
     "data": {
      "text/plain": [
       "True"
      ]
     },
     "execution_count": 97,
     "metadata": {},
     "output_type": "execute_result"
    }
   ],
   "source": [
    "d == dd"
   ]
  },
  {
   "cell_type": "code",
   "execution_count": null,
   "id": "charitable-ghana",
   "metadata": {},
   "outputs": [],
   "source": []
  },
  {
   "cell_type": "markdown",
   "id": "dimensional-maryland",
   "metadata": {},
   "source": [
    "# Grouping with dictionaries"
   ]
  },
  {
   "cell_type": "markdown",
   "id": "african-detail",
   "metadata": {},
   "source": [
    "### Use `collections.defaultdict()` & `.append()` method"
   ]
  },
  {
   "cell_type": "code",
   "execution_count": 100,
   "id": "emerging-screw",
   "metadata": {},
   "outputs": [],
   "source": [
    "names = [\"raymond\", \"rachel\", \"matthew\", \"vinay\", \"prithvi\", \"vikas\", \"pooja\", \"anil\", \"lakshmi\"]"
   ]
  },
  {
   "cell_type": "code",
   "execution_count": 107,
   "id": "military-northern",
   "metadata": {},
   "outputs": [
    {
     "name": "stdout",
     "output_type": "stream",
     "text": [
      "CPU times: user 24 µs, sys: 13 µs, total: 37 µs\n",
      "Wall time: 38.9 µs\n"
     ]
    },
    {
     "data": {
      "text/plain": [
       "{7: ['raymond', 'matthew', 'prithvi', 'lakshmi'],\n",
       " 6: ['rachel'],\n",
       " 5: ['vinay', 'vikas', 'pooja'],\n",
       " 4: ['anil']}"
      ]
     },
     "execution_count": 107,
     "metadata": {},
     "output_type": "execute_result"
    }
   ],
   "source": [
    "%%time\n",
    "## ❌ DONOT do this\n",
    "\n",
    "d = {}\n",
    "for name in names:\n",
    "    key = len(name)\n",
    "    if key not in d:\n",
    "        d[key] = []\n",
    "    d[key].append(name)\n",
    "    \n",
    "\n",
    "d  "
   ]
  },
  {
   "cell_type": "code",
   "execution_count": 108,
   "id": "devoted-deadline",
   "metadata": {},
   "outputs": [
    {
     "name": "stdout",
     "output_type": "stream",
     "text": [
      "CPU times: user 21 µs, sys: 1e+03 ns, total: 22 µs\n",
      "Wall time: 24.1 µs\n"
     ]
    },
    {
     "data": {
      "text/plain": [
       "{7: ['raymond', 'matthew', 'prithvi', 'lakshmi'],\n",
       " 6: ['rachel'],\n",
       " 5: ['vinay', 'vikas', 'pooja'],\n",
       " 4: ['anil']}"
      ]
     },
     "execution_count": 108,
     "metadata": {},
     "output_type": "execute_result"
    }
   ],
   "source": [
    "%%time\n",
    "## 👍🏽  CAN DO THIS...but its a bot ugly\n",
    "\n",
    "d = {}\n",
    "for name in names:\n",
    "    key = len(name)\n",
    "    d.setdefault(key, []).append(name)\n",
    "    \n",
    "d"
   ]
  },
  {
   "cell_type": "code",
   "execution_count": 111,
   "id": "subject-belle",
   "metadata": {},
   "outputs": [
    {
     "name": "stdout",
     "output_type": "stream",
     "text": [
      "CPU times: user 52 µs, sys: 0 ns, total: 52 µs\n",
      "Wall time: 59.1 µs\n"
     ]
    },
    {
     "data": {
      "text/plain": [
       "defaultdict(list,\n",
       "            {7: ['raymond', 'matthew', 'prithvi', 'lakshmi'],\n",
       "             6: ['rachel'],\n",
       "             5: ['vinay', 'vikas', 'pooja'],\n",
       "             4: ['anil']})"
      ]
     },
     "execution_count": 111,
     "metadata": {},
     "output_type": "execute_result"
    }
   ],
   "source": [
    "%%time\n",
    "## 👍🏽✅ DO THIS........its AWESOME & PYTHONIC\n",
    "\n",
    "from collections import defaultdict\n",
    "dd = defaultdict(list)\n",
    "for name in names:\n",
    "    key = len(name)\n",
    "    dd[key].append(name)\n",
    "    \n",
    "##############################################################\n",
    "\n",
    "dd"
   ]
  },
  {
   "cell_type": "code",
   "execution_count": null,
   "id": "caroline-viewer",
   "metadata": {},
   "outputs": [],
   "source": []
  },
  {
   "cell_type": "markdown",
   "id": "proprietary-lawrence",
   "metadata": {},
   "source": [
    "# Is dictionary `popitem()` atomic?"
   ]
  },
  {
   "cell_type": "markdown",
   "id": "outdoor-auditor",
   "metadata": {},
   "source": [
    "### YES! `dict.popitem()` is ATOMIC"
   ]
  },
  {
   "cell_type": "code",
   "execution_count": 120,
   "id": "fundamental-liberal",
   "metadata": {},
   "outputs": [
    {
     "data": {
      "text/plain": [
       "{'matthew': 'blue', 'rachel': 'green', 'raymond': 'red'}"
      ]
     },
     "execution_count": 120,
     "metadata": {},
     "output_type": "execute_result"
    }
   ],
   "source": [
    "d = {\"matthew\": \"blue\",\n",
    "     \"rachel\": \"green\",\n",
    "     \"raymond\": \"red\",\n",
    "    }\n",
    "\n",
    "d"
   ]
  },
  {
   "cell_type": "code",
   "execution_count": 121,
   "id": "structured-calculation",
   "metadata": {},
   "outputs": [
    {
     "name": "stdout",
     "output_type": "stream",
     "text": [
      "raymond -> red\n",
      "rachel -> green\n",
      "matthew -> blue\n"
     ]
    }
   ],
   "source": [
    "while d:\n",
    "    key, val = d.popitem()\n",
    "    print(f\"{key} -> {val}\")"
   ]
  },
  {
   "cell_type": "code",
   "execution_count": 122,
   "id": "surprised-melissa",
   "metadata": {},
   "outputs": [
    {
     "ename": "KeyError",
     "evalue": "'popitem(): dictionary is empty'",
     "output_type": "error",
     "traceback": [
      "\u001b[0;31m---------------------------------------------------------------------------\u001b[0m",
      "\u001b[0;31mKeyError\u001b[0m                                  Traceback (most recent call last)",
      "\u001b[0;32m<ipython-input-122-83c64cff336b>\u001b[0m in \u001b[0;36m<module>\u001b[0;34m\u001b[0m\n\u001b[0;32m----> 1\u001b[0;31m \u001b[0md\u001b[0m\u001b[0;34m.\u001b[0m\u001b[0mpopitem\u001b[0m\u001b[0;34m(\u001b[0m\u001b[0;34m)\u001b[0m\u001b[0;34m\u001b[0m\u001b[0;34m\u001b[0m\u001b[0m\n\u001b[0m",
      "\u001b[0;31mKeyError\u001b[0m: 'popitem(): dictionary is empty'"
     ]
    }
   ],
   "source": [
    "d.popitem()"
   ]
  },
  {
   "cell_type": "code",
   "execution_count": null,
   "id": "limited-somerset",
   "metadata": {},
   "outputs": [],
   "source": []
  },
  {
   "cell_type": "code",
   "execution_count": 123,
   "id": "violent-correction",
   "metadata": {},
   "outputs": [],
   "source": [
    "p = \"vinay\", \"kumar\""
   ]
  },
  {
   "cell_type": "code",
   "execution_count": 124,
   "id": "difficult-template",
   "metadata": {},
   "outputs": [
    {
     "data": {
      "text/plain": [
       "('vinay', 'kumar')"
      ]
     },
     "execution_count": 124,
     "metadata": {},
     "output_type": "execute_result"
    }
   ],
   "source": [
    "p"
   ]
  },
  {
   "cell_type": "code",
   "execution_count": 125,
   "id": "humanitarian-bottle",
   "metadata": {},
   "outputs": [],
   "source": [
    "fn, ln = p"
   ]
  },
  {
   "cell_type": "code",
   "execution_count": 127,
   "id": "aging-signature",
   "metadata": {},
   "outputs": [
    {
     "data": {
      "text/plain": [
       "'vinay'"
      ]
     },
     "execution_count": 127,
     "metadata": {},
     "output_type": "execute_result"
    }
   ],
   "source": [
    "fn"
   ]
  },
  {
   "cell_type": "code",
   "execution_count": 128,
   "id": "sitting-catalog",
   "metadata": {},
   "outputs": [
    {
     "data": {
      "text/plain": [
       "'kumar'"
      ]
     },
     "execution_count": 128,
     "metadata": {},
     "output_type": "execute_result"
    }
   ],
   "source": [
    "ln"
   ]
  },
  {
   "cell_type": "code",
   "execution_count": 129,
   "id": "numerical-question",
   "metadata": {},
   "outputs": [
    {
     "data": {
      "text/plain": [
       "('vinay', 'kumar')"
      ]
     },
     "execution_count": 129,
     "metadata": {},
     "output_type": "execute_result"
    }
   ],
   "source": [
    "p"
   ]
  },
  {
   "cell_type": "markdown",
   "id": "designing-script",
   "metadata": {},
   "source": [
    "# Fibonacci Sequence"
   ]
  },
  {
   "cell_type": "markdown",
   "id": "exclusive-fitness",
   "metadata": {},
   "source": [
    "### Use tuple packing & unpacking"
   ]
  },
  {
   "cell_type": "code",
   "execution_count": 132,
   "id": "relative-turtle",
   "metadata": {},
   "outputs": [
    {
     "name": "stdout",
     "output_type": "stream",
     "text": [
      "0\n",
      "1\n",
      "1\n",
      "2\n",
      "3\n",
      "5\n",
      "8\n",
      "13\n",
      "21\n",
      "34\n",
      "CPU times: user 456 µs, sys: 188 µs, total: 644 µs\n",
      "Wall time: 509 µs\n"
     ]
    }
   ],
   "source": [
    "%%time\n",
    "## ❌ DONOT do this\n",
    "\n",
    "def fibonnaci(n):\n",
    "    x = 0\n",
    "    y = 1\n",
    "    for i in range(n):\n",
    "        print(x)\n",
    "        t = y\n",
    "        y = x+y\n",
    "        x = t\n",
    "\n",
    "fibonnaci(10)"
   ]
  },
  {
   "cell_type": "code",
   "execution_count": 133,
   "id": "extended-solution",
   "metadata": {},
   "outputs": [
    {
     "name": "stdout",
     "output_type": "stream",
     "text": [
      "0\n",
      "1\n",
      "1\n",
      "2\n",
      "3\n",
      "5\n",
      "8\n",
      "13\n",
      "21\n",
      "34\n",
      "CPU times: user 401 µs, sys: 265 µs, total: 666 µs\n",
      "Wall time: 492 µs\n"
     ]
    }
   ],
   "source": [
    "%%time\n",
    "## 👍🏽✅ DO THIS\n",
    "\n",
    "def fibonnaci_better(n):\n",
    "    x, y = 0, 1\n",
    "    for i in range(n):\n",
    "        print(x)\n",
    "        x, y = y, x+y\n",
    "        \n",
    "fibonnaci_better(10)"
   ]
  },
  {
   "cell_type": "code",
   "execution_count": null,
   "id": "express-consumer",
   "metadata": {},
   "outputs": [],
   "source": []
  },
  {
   "cell_type": "markdown",
   "id": "exterior-factory",
   "metadata": {},
   "source": [
    "# Concatenating Strings"
   ]
  },
  {
   "cell_type": "markdown",
   "id": "unable-patent",
   "metadata": {},
   "source": [
    "### Use `.join()`"
   ]
  },
  {
   "cell_type": "code",
   "execution_count": 134,
   "id": "knowing-multimedia",
   "metadata": {},
   "outputs": [],
   "source": [
    "names = [\"raymond\", \"rachel\", \"matthew\", \"vinay\", \"prithvi\", \"vikas\", \"pooja\", \"anil\", \"lakshmi\"]"
   ]
  },
  {
   "cell_type": "code",
   "execution_count": 136,
   "id": "independent-greek",
   "metadata": {},
   "outputs": [
    {
     "name": "stdout",
     "output_type": "stream",
     "text": [
      "raymond--rachel--matthew--vinay--prithvi--vikas--pooja--anil--lakshmi\n",
      "CPU times: user 256 µs, sys: 110 µs, total: 366 µs\n",
      "Wall time: 314 µs\n"
     ]
    }
   ],
   "source": [
    "%%time\n",
    "## ❌ DONOT do this\n",
    "\n",
    "s = names[0]\n",
    "for name in names[1:]:\n",
    "    s += \"--\" + name\n",
    "    \n",
    "print(s)"
   ]
  },
  {
   "cell_type": "code",
   "execution_count": 139,
   "id": "least-california",
   "metadata": {},
   "outputs": [
    {
     "name": "stdout",
     "output_type": "stream",
     "text": [
      "raymond--rachel--matthew--vinay--prithvi--vikas--pooja--anil--lakshmi\n",
      "CPU times: user 245 µs, sys: 119 µs, total: 364 µs\n",
      "Wall time: 302 µs\n"
     ]
    }
   ],
   "source": [
    "%%time\n",
    "## 👍🏽✅ DO THIS\n",
    "\n",
    "print(\"--\".join(names))"
   ]
  },
  {
   "cell_type": "code",
   "execution_count": null,
   "id": "intended-performer",
   "metadata": {},
   "outputs": [],
   "source": []
  },
  {
   "cell_type": "markdown",
   "id": "protecting-priority",
   "metadata": {},
   "source": [
    "# Updating Sequences"
   ]
  },
  {
   "cell_type": "markdown",
   "id": "prime-georgia",
   "metadata": {},
   "source": [
    "### Use `deque()` instead of a simple `list`"
   ]
  },
  {
   "cell_type": "code",
   "execution_count": 149,
   "id": "earned-disclosure",
   "metadata": {},
   "outputs": [
    {
     "name": "stdout",
     "output_type": "stream",
     "text": [
      "CPU times: user 14 µs, sys: 0 ns, total: 14 µs\n",
      "Wall time: 17.9 µs\n"
     ]
    },
    {
     "data": {
      "text/plain": [
       "['rachel', 'matthew', 'vinay', 'prithvi', 'vikas', 'pooja', 'anil', 'lakshmi']"
      ]
     },
     "execution_count": 149,
     "metadata": {},
     "output_type": "execute_result"
    }
   ],
   "source": [
    "%%time\n",
    "## ❌ DONOT do this\n",
    "\n",
    "names = [\"raymond\", \"rachel\", \"matthew\", \"vinay\", \"prithvi\", \"vikas\", \"pooja\", \"anil\", \"lakshmi\"]       ## source of problem\n",
    "del names[0]\n",
    "names"
   ]
  },
  {
   "cell_type": "code",
   "execution_count": 150,
   "id": "junior-terminal",
   "metadata": {},
   "outputs": [
    {
     "name": "stdout",
     "output_type": "stream",
     "text": [
      "CPU times: user 33 µs, sys: 0 ns, total: 33 µs\n",
      "Wall time: 40.1 µs\n"
     ]
    },
    {
     "data": {
      "text/plain": [
       "['rachel', 'matthew', 'vinay', 'prithvi', 'vikas', 'pooja', 'anil', 'lakshmi']"
      ]
     },
     "execution_count": 150,
     "metadata": {},
     "output_type": "execute_result"
    }
   ],
   "source": [
    "%%time\n",
    "## ❌ DONOT do this\n",
    "\n",
    "names = [\"raymond\", \"rachel\", \"matthew\", \"vinay\", \"prithvi\", \"vikas\", \"pooja\", \"anil\", \"lakshmi\"]       ## source of problem\n",
    "names.pop(0)\n",
    "names"
   ]
  },
  {
   "cell_type": "code",
   "execution_count": 151,
   "id": "legal-irish",
   "metadata": {},
   "outputs": [
    {
     "name": "stdout",
     "output_type": "stream",
     "text": [
      "CPU times: user 17 µs, sys: 0 ns, total: 17 µs\n",
      "Wall time: 21 µs\n"
     ]
    },
    {
     "data": {
      "text/plain": [
       "['BARRY',\n",
       " 'raymond',\n",
       " 'rachel',\n",
       " 'matthew',\n",
       " 'vinay',\n",
       " 'prithvi',\n",
       " 'vikas',\n",
       " 'pooja',\n",
       " 'anil',\n",
       " 'lakshmi']"
      ]
     },
     "execution_count": 151,
     "metadata": {},
     "output_type": "execute_result"
    }
   ],
   "source": [
    "%%time\n",
    "## ❌ DONOT do this\n",
    "\n",
    "names = [\"raymond\", \"rachel\", \"matthew\", \"vinay\", \"prithvi\", \"vikas\", \"pooja\", \"anil\", \"lakshmi\"]       ## source of problem\n",
    "names.insert(0, \"BARRY\")\n",
    "names"
   ]
  },
  {
   "cell_type": "code",
   "execution_count": 155,
   "id": "packed-crowd",
   "metadata": {},
   "outputs": [
    {
     "name": "stdout",
     "output_type": "stream",
     "text": [
      "CPU times: user 22 µs, sys: 0 ns, total: 22 µs\n",
      "Wall time: 26 µs\n"
     ]
    },
    {
     "data": {
      "text/plain": [
       "deque(['raymond',\n",
       "       'rachel',\n",
       "       'matthew',\n",
       "       'vinay',\n",
       "       'prithvi',\n",
       "       'vikas',\n",
       "       'pooja',\n",
       "       'anil',\n",
       "       'lakshmi'])"
      ]
     },
     "execution_count": 155,
     "metadata": {},
     "output_type": "execute_result"
    }
   ],
   "source": [
    "%%time\n",
    "## 👍🏽✅ DO THIS\n",
    "\n",
    "\n",
    "from collections import deque\n",
    "names = deque([\"raymond\", \"rachel\", \"matthew\", \"vinay\", \"prithvi\", \"vikas\", \"pooja\", \"anil\", \"lakshmi\"])\n",
    "names"
   ]
  },
  {
   "cell_type": "code",
   "execution_count": 158,
   "id": "educational-nutrition",
   "metadata": {},
   "outputs": [
    {
     "data": {
      "text/plain": [
       "deque(['rachel',\n",
       "       'matthew',\n",
       "       'vinay',\n",
       "       'prithvi',\n",
       "       'vikas',\n",
       "       'pooja',\n",
       "       'anil',\n",
       "       'lakshmi'])"
      ]
     },
     "execution_count": 158,
     "metadata": {},
     "output_type": "execute_result"
    }
   ],
   "source": [
    "%%time\n",
    "## 👍🏽✅ DO THIS......use deque()\n",
    "\n",
    "from collections import deque\n",
    "names = deque([\"raymond\", \"rachel\", \"matthew\", \"vinay\", \"prithvi\", \"vikas\", \"pooja\", \"anil\", \"lakshmi\"])\n",
    "names.popleft()\n",
    "names"
   ]
  },
  {
   "cell_type": "code",
   "execution_count": 159,
   "id": "proprietary-hindu",
   "metadata": {},
   "outputs": [
    {
     "data": {
      "text/plain": [
       "deque(['raymond',\n",
       "       'rachel',\n",
       "       'matthew',\n",
       "       'vinay',\n",
       "       'prithvi',\n",
       "       'vikas',\n",
       "       'pooja',\n",
       "       'anil'])"
      ]
     },
     "execution_count": 159,
     "metadata": {},
     "output_type": "execute_result"
    }
   ],
   "source": [
    "%%time\n",
    "## 👍🏽✅ DO THIS\n",
    "\n",
    "from collections import deque\n",
    "names = deque([\"raymond\", \"rachel\", \"matthew\", \"vinay\", \"prithvi\", \"vikas\", \"pooja\", \"anil\", \"lakshmi\"])\n",
    "names.pop()\n",
    "names"
   ]
  },
  {
   "cell_type": "code",
   "execution_count": 160,
   "id": "matched-azerbaijan",
   "metadata": {},
   "outputs": [
    {
     "data": {
      "text/plain": [
       "deque(['BARRY',\n",
       "       'raymond',\n",
       "       'rachel',\n",
       "       'matthew',\n",
       "       'vinay',\n",
       "       'prithvi',\n",
       "       'vikas',\n",
       "       'pooja',\n",
       "       'anil',\n",
       "       'lakshmi'])"
      ]
     },
     "execution_count": 160,
     "metadata": {},
     "output_type": "execute_result"
    }
   ],
   "source": [
    "%%time\n",
    "## 👍🏽✅ DO THIS\n",
    "\n",
    "from collections import deque\n",
    "names = deque([\"raymond\", \"rachel\", \"matthew\", \"vinay\", \"prithvi\", \"vikas\", \"pooja\", \"anil\", \"lakshmi\"])\n",
    "names.appendleft(\"BARRY\")\n",
    "names"
   ]
  },
  {
   "cell_type": "code",
   "execution_count": 161,
   "id": "novel-packet",
   "metadata": {},
   "outputs": [
    {
     "data": {
      "text/plain": [
       "deque(['rachel',\n",
       "       'matthew',\n",
       "       'vinay',\n",
       "       'prithvi',\n",
       "       'vikas',\n",
       "       'pooja',\n",
       "       'anil',\n",
       "       'lakshmi'])"
      ]
     },
     "execution_count": 161,
     "metadata": {},
     "output_type": "execute_result"
    }
   ],
   "source": [
    "%%time\n",
    "## 👍🏽✅ DO THIS\n",
    "\n",
    "from collections import deque\n",
    "names = deque([\"raymond\", \"rachel\", \"matthew\", \"vinay\", \"prithvi\", \"vikas\", \"pooja\", \"anil\", \"lakshmi\"])\n",
    "del names[0]\n",
    "names"
   ]
  },
  {
   "cell_type": "code",
   "execution_count": null,
   "id": "experimental-future",
   "metadata": {},
   "outputs": [],
   "source": []
  }
 ],
 "metadata": {
  "kernelspec": {
   "display_name": "Python 3",
   "language": "python",
   "name": "python3"
  },
  "language_info": {
   "codemirror_mode": {
    "name": "ipython",
    "version": 3
   },
   "file_extension": ".py",
   "mimetype": "text/x-python",
   "name": "python",
   "nbconvert_exporter": "python",
   "pygments_lexer": "ipython3",
   "version": "3.7.4"
  },
  "toc-autonumbering": true,
  "toc-showcode": false,
  "toc-showmarkdowntxt": false
 },
 "nbformat": 4,
 "nbformat_minor": 5
}
